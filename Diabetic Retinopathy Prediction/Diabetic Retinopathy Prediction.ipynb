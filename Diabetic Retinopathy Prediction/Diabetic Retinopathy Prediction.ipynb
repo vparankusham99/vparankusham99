{
 "cells": [
  {
   "cell_type": "markdown",
   "id": "11f9ec7a",
   "metadata": {},
   "source": [
    "# Exploratory Data Analysis"
   ]
  },
  {
   "cell_type": "code",
   "execution_count": 1,
   "id": "a4d4d055",
   "metadata": {},
   "outputs": [],
   "source": [
    "#import required libraries\n",
    "\n",
    "import pandas as pd\n",
    "import numpy as np\n",
    "import seaborn as sns\n",
    "import matplotlib.pyplot as plt"
   ]
  },
  {
   "cell_type": "code",
   "execution_count": 2,
   "id": "11dfd298",
   "metadata": {
    "scrolled": false
   },
   "outputs": [],
   "source": [
    "df = pd.read_csv(\"pronostico_dataset seperated.csv\")"
   ]
  },
  {
   "cell_type": "code",
   "execution_count": 3,
   "id": "91de2805",
   "metadata": {},
   "outputs": [
    {
     "data": {
      "text/html": [
       "<div>\n",
       "<style scoped>\n",
       "    .dataframe tbody tr th:only-of-type {\n",
       "        vertical-align: middle;\n",
       "    }\n",
       "\n",
       "    .dataframe tbody tr th {\n",
       "        vertical-align: top;\n",
       "    }\n",
       "\n",
       "    .dataframe thead th {\n",
       "        text-align: right;\n",
       "    }\n",
       "</style>\n",
       "<table border=\"1\" class=\"dataframe\">\n",
       "  <thead>\n",
       "    <tr style=\"text-align: right;\">\n",
       "      <th></th>\n",
       "      <th>ID</th>\n",
       "      <th>age</th>\n",
       "      <th>systolic_bp</th>\n",
       "      <th>diastolic_bp</th>\n",
       "      <th>cholesterol</th>\n",
       "      <th>prognosis</th>\n",
       "    </tr>\n",
       "  </thead>\n",
       "  <tbody>\n",
       "    <tr>\n",
       "      <th>0</th>\n",
       "      <td>0</td>\n",
       "      <td>77.196340</td>\n",
       "      <td>85.288742</td>\n",
       "      <td>80.021878</td>\n",
       "      <td>79.957109</td>\n",
       "      <td>retinopathy</td>\n",
       "    </tr>\n",
       "    <tr>\n",
       "      <th>1</th>\n",
       "      <td>1</td>\n",
       "      <td>63.529850</td>\n",
       "      <td>99.379736</td>\n",
       "      <td>84.852361</td>\n",
       "      <td>110.382411</td>\n",
       "      <td>retinopathy</td>\n",
       "    </tr>\n",
       "    <tr>\n",
       "      <th>2</th>\n",
       "      <td>2</td>\n",
       "      <td>69.003986</td>\n",
       "      <td>111.349455</td>\n",
       "      <td>109.850616</td>\n",
       "      <td>100.828246</td>\n",
       "      <td>retinopathy</td>\n",
       "    </tr>\n",
       "    <tr>\n",
       "      <th>3</th>\n",
       "      <td>3</td>\n",
       "      <td>82.638210</td>\n",
       "      <td>95.056128</td>\n",
       "      <td>79.666851</td>\n",
       "      <td>87.066303</td>\n",
       "      <td>retinopathy</td>\n",
       "    </tr>\n",
       "    <tr>\n",
       "      <th>4</th>\n",
       "      <td>4</td>\n",
       "      <td>78.346286</td>\n",
       "      <td>109.154591</td>\n",
       "      <td>90.713220</td>\n",
       "      <td>92.511770</td>\n",
       "      <td>retinopathy</td>\n",
       "    </tr>\n",
       "  </tbody>\n",
       "</table>\n",
       "</div>"
      ],
      "text/plain": [
       "   ID        age  systolic_bp  diastolic_bp  cholesterol    prognosis\n",
       "0   0  77.196340    85.288742     80.021878    79.957109  retinopathy\n",
       "1   1  63.529850    99.379736     84.852361   110.382411  retinopathy\n",
       "2   2  69.003986   111.349455    109.850616   100.828246  retinopathy\n",
       "3   3  82.638210    95.056128     79.666851    87.066303  retinopathy\n",
       "4   4  78.346286   109.154591     90.713220    92.511770  retinopathy"
      ]
     },
     "execution_count": 3,
     "metadata": {},
     "output_type": "execute_result"
    }
   ],
   "source": [
    "# Checking first 5 records to get the idea about the dataset\n",
    "df.head()"
   ]
  },
  {
   "cell_type": "code",
   "execution_count": 4,
   "id": "134d488e",
   "metadata": {},
   "outputs": [
    {
     "data": {
      "text/html": [
       "<div>\n",
       "<style scoped>\n",
       "    .dataframe tbody tr th:only-of-type {\n",
       "        vertical-align: middle;\n",
       "    }\n",
       "\n",
       "    .dataframe tbody tr th {\n",
       "        vertical-align: top;\n",
       "    }\n",
       "\n",
       "    .dataframe thead th {\n",
       "        text-align: right;\n",
       "    }\n",
       "</style>\n",
       "<table border=\"1\" class=\"dataframe\">\n",
       "  <thead>\n",
       "    <tr style=\"text-align: right;\">\n",
       "      <th></th>\n",
       "      <th>ID</th>\n",
       "      <th>age</th>\n",
       "      <th>systolic_bp</th>\n",
       "      <th>diastolic_bp</th>\n",
       "      <th>cholesterol</th>\n",
       "      <th>prognosis</th>\n",
       "    </tr>\n",
       "  </thead>\n",
       "  <tbody>\n",
       "    <tr>\n",
       "      <th>5995</th>\n",
       "      <td>5995</td>\n",
       "      <td>49.611850</td>\n",
       "      <td>94.857639</td>\n",
       "      <td>86.615671</td>\n",
       "      <td>107.643986</td>\n",
       "      <td>no_retinopathy</td>\n",
       "    </tr>\n",
       "    <tr>\n",
       "      <th>5996</th>\n",
       "      <td>5996</td>\n",
       "      <td>63.099686</td>\n",
       "      <td>100.039527</td>\n",
       "      <td>93.515186</td>\n",
       "      <td>104.971404</td>\n",
       "      <td>retinopathy</td>\n",
       "    </tr>\n",
       "    <tr>\n",
       "      <th>5997</th>\n",
       "      <td>5997</td>\n",
       "      <td>55.562243</td>\n",
       "      <td>98.421446</td>\n",
       "      <td>102.697875</td>\n",
       "      <td>120.875951</td>\n",
       "      <td>retinopathy</td>\n",
       "    </tr>\n",
       "    <tr>\n",
       "      <th>5998</th>\n",
       "      <td>5998</td>\n",
       "      <td>63.468956</td>\n",
       "      <td>106.809289</td>\n",
       "      <td>88.060631</td>\n",
       "      <td>106.052213</td>\n",
       "      <td>retinopathy</td>\n",
       "    </tr>\n",
       "    <tr>\n",
       "      <th>5999</th>\n",
       "      <td>5999</td>\n",
       "      <td>62.506825</td>\n",
       "      <td>96.900784</td>\n",
       "      <td>86.878033</td>\n",
       "      <td>108.625436</td>\n",
       "      <td>no_retinopathy</td>\n",
       "    </tr>\n",
       "  </tbody>\n",
       "</table>\n",
       "</div>"
      ],
      "text/plain": [
       "        ID        age  systolic_bp  diastolic_bp  cholesterol       prognosis\n",
       "5995  5995  49.611850    94.857639     86.615671   107.643986  no_retinopathy\n",
       "5996  5996  63.099686   100.039527     93.515186   104.971404     retinopathy\n",
       "5997  5997  55.562243    98.421446    102.697875   120.875951     retinopathy\n",
       "5998  5998  63.468956   106.809289     88.060631   106.052213     retinopathy\n",
       "5999  5999  62.506825    96.900784     86.878033   108.625436  no_retinopathy"
      ]
     },
     "execution_count": 4,
     "metadata": {},
     "output_type": "execute_result"
    }
   ],
   "source": [
    "# Checking last 5 records\n",
    "df.tail()"
   ]
  },
  {
   "cell_type": "code",
   "execution_count": 5,
   "id": "c2ea488c",
   "metadata": {},
   "outputs": [
    {
     "data": {
      "text/plain": [
       "(6000, 6)"
      ]
     },
     "execution_count": 5,
     "metadata": {},
     "output_type": "execute_result"
    }
   ],
   "source": [
    "# finding the shape of the dataframe \n",
    "\n",
    "df.shape"
   ]
  },
  {
   "cell_type": "markdown",
   "id": "58dfaa26",
   "metadata": {},
   "source": [
    "### 6000 Observations with 6 Variables are present in out dataset"
   ]
  },
  {
   "cell_type": "code",
   "execution_count": 6,
   "id": "2a871fce",
   "metadata": {
    "scrolled": false
   },
   "outputs": [
    {
     "name": "stdout",
     "output_type": "stream",
     "text": [
      "<class 'pandas.core.frame.DataFrame'>\n",
      "RangeIndex: 6000 entries, 0 to 5999\n",
      "Data columns (total 6 columns):\n",
      " #   Column        Non-Null Count  Dtype  \n",
      "---  ------        --------------  -----  \n",
      " 0   ID            6000 non-null   int64  \n",
      " 1   age           6000 non-null   float64\n",
      " 2   systolic_bp   6000 non-null   float64\n",
      " 3   diastolic_bp  6000 non-null   float64\n",
      " 4   cholesterol   6000 non-null   float64\n",
      " 5   prognosis     6000 non-null   object \n",
      "dtypes: float64(4), int64(1), object(1)\n",
      "memory usage: 281.4+ KB\n"
     ]
    }
   ],
   "source": [
    "#info of the dataset\n",
    "df.info()"
   ]
  },
  {
   "cell_type": "markdown",
   "id": "98653c48",
   "metadata": {},
   "source": [
    "### Missing values Imputation is not required as there are no missing values in the dataset"
   ]
  },
  {
   "cell_type": "code",
   "execution_count": 7,
   "id": "24040100",
   "metadata": {
    "scrolled": false
   },
   "outputs": [
    {
     "data": {
      "text/html": [
       "<div>\n",
       "<style scoped>\n",
       "    .dataframe tbody tr th:only-of-type {\n",
       "        vertical-align: middle;\n",
       "    }\n",
       "\n",
       "    .dataframe tbody tr th {\n",
       "        vertical-align: top;\n",
       "    }\n",
       "\n",
       "    .dataframe thead th {\n",
       "        text-align: right;\n",
       "    }\n",
       "</style>\n",
       "<table border=\"1\" class=\"dataframe\">\n",
       "  <thead>\n",
       "    <tr style=\"text-align: right;\">\n",
       "      <th></th>\n",
       "      <th>ID</th>\n",
       "      <th>age</th>\n",
       "      <th>systolic_bp</th>\n",
       "      <th>diastolic_bp</th>\n",
       "      <th>cholesterol</th>\n",
       "    </tr>\n",
       "  </thead>\n",
       "  <tbody>\n",
       "    <tr>\n",
       "      <th>count</th>\n",
       "      <td>6000.000000</td>\n",
       "      <td>6000.000000</td>\n",
       "      <td>6000.000000</td>\n",
       "      <td>6000.000000</td>\n",
       "      <td>6000.000000</td>\n",
       "    </tr>\n",
       "    <tr>\n",
       "      <th>mean</th>\n",
       "      <td>2999.500000</td>\n",
       "      <td>60.464121</td>\n",
       "      <td>100.694822</td>\n",
       "      <td>90.505547</td>\n",
       "      <td>100.628255</td>\n",
       "    </tr>\n",
       "    <tr>\n",
       "      <th>std</th>\n",
       "      <td>1732.195139</td>\n",
       "      <td>8.564392</td>\n",
       "      <td>10.669267</td>\n",
       "      <td>9.648200</td>\n",
       "      <td>10.433915</td>\n",
       "    </tr>\n",
       "    <tr>\n",
       "      <th>min</th>\n",
       "      <td>0.000000</td>\n",
       "      <td>35.164761</td>\n",
       "      <td>69.675429</td>\n",
       "      <td>62.807105</td>\n",
       "      <td>69.967453</td>\n",
       "    </tr>\n",
       "    <tr>\n",
       "      <th>25%</th>\n",
       "      <td>1499.750000</td>\n",
       "      <td>54.371941</td>\n",
       "      <td>93.267420</td>\n",
       "      <td>83.641788</td>\n",
       "      <td>93.202373</td>\n",
       "    </tr>\n",
       "    <tr>\n",
       "      <th>50%</th>\n",
       "      <td>2999.500000</td>\n",
       "      <td>59.831159</td>\n",
       "      <td>100.119926</td>\n",
       "      <td>89.912429</td>\n",
       "      <td>100.060637</td>\n",
       "    </tr>\n",
       "    <tr>\n",
       "      <th>75%</th>\n",
       "      <td>4499.250000</td>\n",
       "      <td>65.809652</td>\n",
       "      <td>107.439501</td>\n",
       "      <td>96.682405</td>\n",
       "      <td>107.250829</td>\n",
       "    </tr>\n",
       "    <tr>\n",
       "      <th>max</th>\n",
       "      <td>5999.000000</td>\n",
       "      <td>103.279497</td>\n",
       "      <td>151.699660</td>\n",
       "      <td>133.456382</td>\n",
       "      <td>148.233544</td>\n",
       "    </tr>\n",
       "  </tbody>\n",
       "</table>\n",
       "</div>"
      ],
      "text/plain": [
       "                ID          age  systolic_bp  diastolic_bp  cholesterol\n",
       "count  6000.000000  6000.000000  6000.000000   6000.000000  6000.000000\n",
       "mean   2999.500000    60.464121   100.694822     90.505547   100.628255\n",
       "std    1732.195139     8.564392    10.669267      9.648200    10.433915\n",
       "min       0.000000    35.164761    69.675429     62.807105    69.967453\n",
       "25%    1499.750000    54.371941    93.267420     83.641788    93.202373\n",
       "50%    2999.500000    59.831159   100.119926     89.912429   100.060637\n",
       "75%    4499.250000    65.809652   107.439501     96.682405   107.250829\n",
       "max    5999.000000   103.279497   151.699660    133.456382   148.233544"
      ]
     },
     "execution_count": 7,
     "metadata": {},
     "output_type": "execute_result"
    }
   ],
   "source": [
    "#describing the dataset\n",
    "\n",
    "df.describe()"
   ]
  },
  {
   "cell_type": "code",
   "execution_count": 8,
   "id": "2c3d945d",
   "metadata": {
    "scrolled": true
   },
   "outputs": [
    {
     "data": {
      "text/plain": [
       "ID              0\n",
       "age             0\n",
       "systolic_bp     0\n",
       "diastolic_bp    0\n",
       "cholesterol     0\n",
       "prognosis       0\n",
       "dtype: int64"
      ]
     },
     "execution_count": 8,
     "metadata": {},
     "output_type": "execute_result"
    }
   ],
   "source": [
    "#checking the number of null values\n",
    "\n",
    "df.isnull().sum()"
   ]
  },
  {
   "cell_type": "markdown",
   "id": "06181160",
   "metadata": {},
   "source": [
    "### no null values are present in the dataset "
   ]
  },
  {
   "cell_type": "code",
   "execution_count": 9,
   "id": "07adca76",
   "metadata": {},
   "outputs": [
    {
     "data": {
      "text/plain": [
       "ID                int64\n",
       "age             float64\n",
       "systolic_bp     float64\n",
       "diastolic_bp    float64\n",
       "cholesterol     float64\n",
       "prognosis        object\n",
       "dtype: object"
      ]
     },
     "execution_count": 9,
     "metadata": {},
     "output_type": "execute_result"
    }
   ],
   "source": [
    "#checking the datatypes of the variables\n",
    "\n",
    "df.dtypes"
   ]
  },
  {
   "cell_type": "markdown",
   "id": "12fa7199",
   "metadata": {},
   "source": [
    "### Data Type Conversion is not required as the Data Types of all the columns is in required format except prognosis column"
   ]
  },
  {
   "cell_type": "code",
   "execution_count": 10,
   "id": "30f36c37",
   "metadata": {},
   "outputs": [
    {
     "data": {
      "text/html": [
       "<div>\n",
       "<style scoped>\n",
       "    .dataframe tbody tr th:only-of-type {\n",
       "        vertical-align: middle;\n",
       "    }\n",
       "\n",
       "    .dataframe tbody tr th {\n",
       "        vertical-align: top;\n",
       "    }\n",
       "\n",
       "    .dataframe thead th {\n",
       "        text-align: right;\n",
       "    }\n",
       "</style>\n",
       "<table border=\"1\" class=\"dataframe\">\n",
       "  <thead>\n",
       "    <tr style=\"text-align: right;\">\n",
       "      <th></th>\n",
       "      <th>ID</th>\n",
       "      <th>age</th>\n",
       "      <th>systolic_bp</th>\n",
       "      <th>diastolic_bp</th>\n",
       "      <th>cholesterol</th>\n",
       "      <th>prognosis</th>\n",
       "    </tr>\n",
       "  </thead>\n",
       "  <tbody>\n",
       "  </tbody>\n",
       "</table>\n",
       "</div>"
      ],
      "text/plain": [
       "Empty DataFrame\n",
       "Columns: [ID, age, systolic_bp, diastolic_bp, cholesterol, prognosis]\n",
       "Index: []"
      ]
     },
     "execution_count": 10,
     "metadata": {},
     "output_type": "execute_result"
    }
   ],
   "source": [
    "#checking whether there are any duplicated values\n",
    "\n",
    "df[df.duplicated()]"
   ]
  },
  {
   "cell_type": "markdown",
   "id": "929573e1",
   "metadata": {},
   "source": [
    "### No duplicate rows are present in the dataset"
   ]
  },
  {
   "cell_type": "code",
   "execution_count": 11,
   "id": "0ae9a680",
   "metadata": {},
   "outputs": [],
   "source": [
    "#renaming the columns for easy usage\n",
    "\n",
    "df1 = df.rename({'systolic_bp': 'sysbp',\"diastolic_bp\":\"diabp\",\"cholesterol\":\"chol\",\"prognosis\":\"prog\"}, axis=1)"
   ]
  },
  {
   "cell_type": "code",
   "execution_count": 12,
   "id": "b8dbce09",
   "metadata": {},
   "outputs": [
    {
     "data": {
      "text/html": [
       "<div>\n",
       "<style scoped>\n",
       "    .dataframe tbody tr th:only-of-type {\n",
       "        vertical-align: middle;\n",
       "    }\n",
       "\n",
       "    .dataframe tbody tr th {\n",
       "        vertical-align: top;\n",
       "    }\n",
       "\n",
       "    .dataframe thead th {\n",
       "        text-align: right;\n",
       "    }\n",
       "</style>\n",
       "<table border=\"1\" class=\"dataframe\">\n",
       "  <thead>\n",
       "    <tr style=\"text-align: right;\">\n",
       "      <th></th>\n",
       "      <th>ID</th>\n",
       "      <th>age</th>\n",
       "      <th>sysbp</th>\n",
       "      <th>diabp</th>\n",
       "      <th>chol</th>\n",
       "      <th>prog</th>\n",
       "    </tr>\n",
       "  </thead>\n",
       "  <tbody>\n",
       "    <tr>\n",
       "      <th>0</th>\n",
       "      <td>0</td>\n",
       "      <td>77.196340</td>\n",
       "      <td>85.288742</td>\n",
       "      <td>80.021878</td>\n",
       "      <td>79.957109</td>\n",
       "      <td>retinopathy</td>\n",
       "    </tr>\n",
       "    <tr>\n",
       "      <th>1</th>\n",
       "      <td>1</td>\n",
       "      <td>63.529850</td>\n",
       "      <td>99.379736</td>\n",
       "      <td>84.852361</td>\n",
       "      <td>110.382411</td>\n",
       "      <td>retinopathy</td>\n",
       "    </tr>\n",
       "    <tr>\n",
       "      <th>2</th>\n",
       "      <td>2</td>\n",
       "      <td>69.003986</td>\n",
       "      <td>111.349455</td>\n",
       "      <td>109.850616</td>\n",
       "      <td>100.828246</td>\n",
       "      <td>retinopathy</td>\n",
       "    </tr>\n",
       "    <tr>\n",
       "      <th>3</th>\n",
       "      <td>3</td>\n",
       "      <td>82.638210</td>\n",
       "      <td>95.056128</td>\n",
       "      <td>79.666851</td>\n",
       "      <td>87.066303</td>\n",
       "      <td>retinopathy</td>\n",
       "    </tr>\n",
       "    <tr>\n",
       "      <th>4</th>\n",
       "      <td>4</td>\n",
       "      <td>78.346286</td>\n",
       "      <td>109.154591</td>\n",
       "      <td>90.713220</td>\n",
       "      <td>92.511770</td>\n",
       "      <td>retinopathy</td>\n",
       "    </tr>\n",
       "    <tr>\n",
       "      <th>...</th>\n",
       "      <td>...</td>\n",
       "      <td>...</td>\n",
       "      <td>...</td>\n",
       "      <td>...</td>\n",
       "      <td>...</td>\n",
       "      <td>...</td>\n",
       "    </tr>\n",
       "    <tr>\n",
       "      <th>5995</th>\n",
       "      <td>5995</td>\n",
       "      <td>49.611850</td>\n",
       "      <td>94.857639</td>\n",
       "      <td>86.615671</td>\n",
       "      <td>107.643986</td>\n",
       "      <td>no_retinopathy</td>\n",
       "    </tr>\n",
       "    <tr>\n",
       "      <th>5996</th>\n",
       "      <td>5996</td>\n",
       "      <td>63.099686</td>\n",
       "      <td>100.039527</td>\n",
       "      <td>93.515186</td>\n",
       "      <td>104.971404</td>\n",
       "      <td>retinopathy</td>\n",
       "    </tr>\n",
       "    <tr>\n",
       "      <th>5997</th>\n",
       "      <td>5997</td>\n",
       "      <td>55.562243</td>\n",
       "      <td>98.421446</td>\n",
       "      <td>102.697875</td>\n",
       "      <td>120.875951</td>\n",
       "      <td>retinopathy</td>\n",
       "    </tr>\n",
       "    <tr>\n",
       "      <th>5998</th>\n",
       "      <td>5998</td>\n",
       "      <td>63.468956</td>\n",
       "      <td>106.809289</td>\n",
       "      <td>88.060631</td>\n",
       "      <td>106.052213</td>\n",
       "      <td>retinopathy</td>\n",
       "    </tr>\n",
       "    <tr>\n",
       "      <th>5999</th>\n",
       "      <td>5999</td>\n",
       "      <td>62.506825</td>\n",
       "      <td>96.900784</td>\n",
       "      <td>86.878033</td>\n",
       "      <td>108.625436</td>\n",
       "      <td>no_retinopathy</td>\n",
       "    </tr>\n",
       "  </tbody>\n",
       "</table>\n",
       "<p>6000 rows × 6 columns</p>\n",
       "</div>"
      ],
      "text/plain": [
       "        ID        age       sysbp       diabp        chol            prog\n",
       "0        0  77.196340   85.288742   80.021878   79.957109     retinopathy\n",
       "1        1  63.529850   99.379736   84.852361  110.382411     retinopathy\n",
       "2        2  69.003986  111.349455  109.850616  100.828246     retinopathy\n",
       "3        3  82.638210   95.056128   79.666851   87.066303     retinopathy\n",
       "4        4  78.346286  109.154591   90.713220   92.511770     retinopathy\n",
       "...    ...        ...         ...         ...         ...             ...\n",
       "5995  5995  49.611850   94.857639   86.615671  107.643986  no_retinopathy\n",
       "5996  5996  63.099686  100.039527   93.515186  104.971404     retinopathy\n",
       "5997  5997  55.562243   98.421446  102.697875  120.875951     retinopathy\n",
       "5998  5998  63.468956  106.809289   88.060631  106.052213     retinopathy\n",
       "5999  5999  62.506825   96.900784   86.878033  108.625436  no_retinopathy\n",
       "\n",
       "[6000 rows x 6 columns]"
      ]
     },
     "execution_count": 12,
     "metadata": {},
     "output_type": "execute_result"
    }
   ],
   "source": [
    "#updated dataset with new names(short forms)\n",
    "\n",
    "df1"
   ]
  },
  {
   "cell_type": "code",
   "execution_count": 13,
   "id": "12739869",
   "metadata": {},
   "outputs": [],
   "source": [
    "#removing ID column as it is not required\n",
    "\n",
    "df2 = df1.drop([\"ID\"],axis= 1)"
   ]
  },
  {
   "cell_type": "code",
   "execution_count": 14,
   "id": "ae84709a",
   "metadata": {
    "scrolled": true
   },
   "outputs": [
    {
     "data": {
      "text/html": [
       "<div>\n",
       "<style scoped>\n",
       "    .dataframe tbody tr th:only-of-type {\n",
       "        vertical-align: middle;\n",
       "    }\n",
       "\n",
       "    .dataframe tbody tr th {\n",
       "        vertical-align: top;\n",
       "    }\n",
       "\n",
       "    .dataframe thead th {\n",
       "        text-align: right;\n",
       "    }\n",
       "</style>\n",
       "<table border=\"1\" class=\"dataframe\">\n",
       "  <thead>\n",
       "    <tr style=\"text-align: right;\">\n",
       "      <th></th>\n",
       "      <th>age</th>\n",
       "      <th>sysbp</th>\n",
       "      <th>diabp</th>\n",
       "      <th>chol</th>\n",
       "      <th>prog</th>\n",
       "    </tr>\n",
       "  </thead>\n",
       "  <tbody>\n",
       "    <tr>\n",
       "      <th>0</th>\n",
       "      <td>77.196340</td>\n",
       "      <td>85.288742</td>\n",
       "      <td>80.021878</td>\n",
       "      <td>79.957109</td>\n",
       "      <td>retinopathy</td>\n",
       "    </tr>\n",
       "    <tr>\n",
       "      <th>1</th>\n",
       "      <td>63.529850</td>\n",
       "      <td>99.379736</td>\n",
       "      <td>84.852361</td>\n",
       "      <td>110.382411</td>\n",
       "      <td>retinopathy</td>\n",
       "    </tr>\n",
       "    <tr>\n",
       "      <th>2</th>\n",
       "      <td>69.003986</td>\n",
       "      <td>111.349455</td>\n",
       "      <td>109.850616</td>\n",
       "      <td>100.828246</td>\n",
       "      <td>retinopathy</td>\n",
       "    </tr>\n",
       "    <tr>\n",
       "      <th>3</th>\n",
       "      <td>82.638210</td>\n",
       "      <td>95.056128</td>\n",
       "      <td>79.666851</td>\n",
       "      <td>87.066303</td>\n",
       "      <td>retinopathy</td>\n",
       "    </tr>\n",
       "    <tr>\n",
       "      <th>4</th>\n",
       "      <td>78.346286</td>\n",
       "      <td>109.154591</td>\n",
       "      <td>90.713220</td>\n",
       "      <td>92.511770</td>\n",
       "      <td>retinopathy</td>\n",
       "    </tr>\n",
       "    <tr>\n",
       "      <th>...</th>\n",
       "      <td>...</td>\n",
       "      <td>...</td>\n",
       "      <td>...</td>\n",
       "      <td>...</td>\n",
       "      <td>...</td>\n",
       "    </tr>\n",
       "    <tr>\n",
       "      <th>5995</th>\n",
       "      <td>49.611850</td>\n",
       "      <td>94.857639</td>\n",
       "      <td>86.615671</td>\n",
       "      <td>107.643986</td>\n",
       "      <td>no_retinopathy</td>\n",
       "    </tr>\n",
       "    <tr>\n",
       "      <th>5996</th>\n",
       "      <td>63.099686</td>\n",
       "      <td>100.039527</td>\n",
       "      <td>93.515186</td>\n",
       "      <td>104.971404</td>\n",
       "      <td>retinopathy</td>\n",
       "    </tr>\n",
       "    <tr>\n",
       "      <th>5997</th>\n",
       "      <td>55.562243</td>\n",
       "      <td>98.421446</td>\n",
       "      <td>102.697875</td>\n",
       "      <td>120.875951</td>\n",
       "      <td>retinopathy</td>\n",
       "    </tr>\n",
       "    <tr>\n",
       "      <th>5998</th>\n",
       "      <td>63.468956</td>\n",
       "      <td>106.809289</td>\n",
       "      <td>88.060631</td>\n",
       "      <td>106.052213</td>\n",
       "      <td>retinopathy</td>\n",
       "    </tr>\n",
       "    <tr>\n",
       "      <th>5999</th>\n",
       "      <td>62.506825</td>\n",
       "      <td>96.900784</td>\n",
       "      <td>86.878033</td>\n",
       "      <td>108.625436</td>\n",
       "      <td>no_retinopathy</td>\n",
       "    </tr>\n",
       "  </tbody>\n",
       "</table>\n",
       "<p>6000 rows × 5 columns</p>\n",
       "</div>"
      ],
      "text/plain": [
       "            age       sysbp       diabp        chol            prog\n",
       "0     77.196340   85.288742   80.021878   79.957109     retinopathy\n",
       "1     63.529850   99.379736   84.852361  110.382411     retinopathy\n",
       "2     69.003986  111.349455  109.850616  100.828246     retinopathy\n",
       "3     82.638210   95.056128   79.666851   87.066303     retinopathy\n",
       "4     78.346286  109.154591   90.713220   92.511770     retinopathy\n",
       "...         ...         ...         ...         ...             ...\n",
       "5995  49.611850   94.857639   86.615671  107.643986  no_retinopathy\n",
       "5996  63.099686  100.039527   93.515186  104.971404     retinopathy\n",
       "5997  55.562243   98.421446  102.697875  120.875951     retinopathy\n",
       "5998  63.468956  106.809289   88.060631  106.052213     retinopathy\n",
       "5999  62.506825   96.900784   86.878033  108.625436  no_retinopathy\n",
       "\n",
       "[6000 rows x 5 columns]"
      ]
     },
     "execution_count": 14,
     "metadata": {},
     "output_type": "execute_result"
    }
   ],
   "source": [
    "#updated dataset\n",
    "\n",
    "df2"
   ]
  },
  {
   "cell_type": "code",
   "execution_count": 15,
   "id": "956bb32b",
   "metadata": {},
   "outputs": [],
   "source": [
    "#importing for the label encoder\n",
    "\n",
    "from sklearn import preprocessing\n",
    "label_encoder = preprocessing.LabelEncoder()\n"
   ]
  },
  {
   "cell_type": "code",
   "execution_count": 16,
   "id": "1f74374e",
   "metadata": {},
   "outputs": [],
   "source": [
    "#label encoding the prognosis column\n",
    "\n",
    "df2[\"prog\"] = label_encoder.fit_transform(df2[\"prog\"])"
   ]
  },
  {
   "cell_type": "code",
   "execution_count": 17,
   "id": "6072d270",
   "metadata": {
    "scrolled": false
   },
   "outputs": [
    {
     "data": {
      "text/html": [
       "<div>\n",
       "<style scoped>\n",
       "    .dataframe tbody tr th:only-of-type {\n",
       "        vertical-align: middle;\n",
       "    }\n",
       "\n",
       "    .dataframe tbody tr th {\n",
       "        vertical-align: top;\n",
       "    }\n",
       "\n",
       "    .dataframe thead th {\n",
       "        text-align: right;\n",
       "    }\n",
       "</style>\n",
       "<table border=\"1\" class=\"dataframe\">\n",
       "  <thead>\n",
       "    <tr style=\"text-align: right;\">\n",
       "      <th></th>\n",
       "      <th>age</th>\n",
       "      <th>sysbp</th>\n",
       "      <th>diabp</th>\n",
       "      <th>chol</th>\n",
       "      <th>prog</th>\n",
       "    </tr>\n",
       "  </thead>\n",
       "  <tbody>\n",
       "    <tr>\n",
       "      <th>0</th>\n",
       "      <td>77.196340</td>\n",
       "      <td>85.288742</td>\n",
       "      <td>80.021878</td>\n",
       "      <td>79.957109</td>\n",
       "      <td>1</td>\n",
       "    </tr>\n",
       "    <tr>\n",
       "      <th>1</th>\n",
       "      <td>63.529850</td>\n",
       "      <td>99.379736</td>\n",
       "      <td>84.852361</td>\n",
       "      <td>110.382411</td>\n",
       "      <td>1</td>\n",
       "    </tr>\n",
       "    <tr>\n",
       "      <th>2</th>\n",
       "      <td>69.003986</td>\n",
       "      <td>111.349455</td>\n",
       "      <td>109.850616</td>\n",
       "      <td>100.828246</td>\n",
       "      <td>1</td>\n",
       "    </tr>\n",
       "    <tr>\n",
       "      <th>3</th>\n",
       "      <td>82.638210</td>\n",
       "      <td>95.056128</td>\n",
       "      <td>79.666851</td>\n",
       "      <td>87.066303</td>\n",
       "      <td>1</td>\n",
       "    </tr>\n",
       "    <tr>\n",
       "      <th>4</th>\n",
       "      <td>78.346286</td>\n",
       "      <td>109.154591</td>\n",
       "      <td>90.713220</td>\n",
       "      <td>92.511770</td>\n",
       "      <td>1</td>\n",
       "    </tr>\n",
       "    <tr>\n",
       "      <th>...</th>\n",
       "      <td>...</td>\n",
       "      <td>...</td>\n",
       "      <td>...</td>\n",
       "      <td>...</td>\n",
       "      <td>...</td>\n",
       "    </tr>\n",
       "    <tr>\n",
       "      <th>5995</th>\n",
       "      <td>49.611850</td>\n",
       "      <td>94.857639</td>\n",
       "      <td>86.615671</td>\n",
       "      <td>107.643986</td>\n",
       "      <td>0</td>\n",
       "    </tr>\n",
       "    <tr>\n",
       "      <th>5996</th>\n",
       "      <td>63.099686</td>\n",
       "      <td>100.039527</td>\n",
       "      <td>93.515186</td>\n",
       "      <td>104.971404</td>\n",
       "      <td>1</td>\n",
       "    </tr>\n",
       "    <tr>\n",
       "      <th>5997</th>\n",
       "      <td>55.562243</td>\n",
       "      <td>98.421446</td>\n",
       "      <td>102.697875</td>\n",
       "      <td>120.875951</td>\n",
       "      <td>1</td>\n",
       "    </tr>\n",
       "    <tr>\n",
       "      <th>5998</th>\n",
       "      <td>63.468956</td>\n",
       "      <td>106.809289</td>\n",
       "      <td>88.060631</td>\n",
       "      <td>106.052213</td>\n",
       "      <td>1</td>\n",
       "    </tr>\n",
       "    <tr>\n",
       "      <th>5999</th>\n",
       "      <td>62.506825</td>\n",
       "      <td>96.900784</td>\n",
       "      <td>86.878033</td>\n",
       "      <td>108.625436</td>\n",
       "      <td>0</td>\n",
       "    </tr>\n",
       "  </tbody>\n",
       "</table>\n",
       "<p>6000 rows × 5 columns</p>\n",
       "</div>"
      ],
      "text/plain": [
       "            age       sysbp       diabp        chol  prog\n",
       "0     77.196340   85.288742   80.021878   79.957109     1\n",
       "1     63.529850   99.379736   84.852361  110.382411     1\n",
       "2     69.003986  111.349455  109.850616  100.828246     1\n",
       "3     82.638210   95.056128   79.666851   87.066303     1\n",
       "4     78.346286  109.154591   90.713220   92.511770     1\n",
       "...         ...         ...         ...         ...   ...\n",
       "5995  49.611850   94.857639   86.615671  107.643986     0\n",
       "5996  63.099686  100.039527   93.515186  104.971404     1\n",
       "5997  55.562243   98.421446  102.697875  120.875951     1\n",
       "5998  63.468956  106.809289   88.060631  106.052213     1\n",
       "5999  62.506825   96.900784   86.878033  108.625436     0\n",
       "\n",
       "[6000 rows x 5 columns]"
      ]
     },
     "execution_count": 17,
     "metadata": {},
     "output_type": "execute_result"
    }
   ],
   "source": [
    "#updated dataset\n",
    "\n",
    "df2"
   ]
  },
  {
   "cell_type": "markdown",
   "id": "9c21b2c6",
   "metadata": {},
   "source": [
    "### Correlation Analysis"
   ]
  },
  {
   "cell_type": "code",
   "execution_count": 18,
   "id": "db40aabe",
   "metadata": {
    "scrolled": false
   },
   "outputs": [
    {
     "data": {
      "text/html": [
       "<div>\n",
       "<style scoped>\n",
       "    .dataframe tbody tr th:only-of-type {\n",
       "        vertical-align: middle;\n",
       "    }\n",
       "\n",
       "    .dataframe tbody tr th {\n",
       "        vertical-align: top;\n",
       "    }\n",
       "\n",
       "    .dataframe thead th {\n",
       "        text-align: right;\n",
       "    }\n",
       "</style>\n",
       "<table border=\"1\" class=\"dataframe\">\n",
       "  <thead>\n",
       "    <tr style=\"text-align: right;\">\n",
       "      <th></th>\n",
       "      <th>age</th>\n",
       "      <th>sysbp</th>\n",
       "      <th>diabp</th>\n",
       "      <th>chol</th>\n",
       "      <th>prog</th>\n",
       "    </tr>\n",
       "  </thead>\n",
       "  <tbody>\n",
       "    <tr>\n",
       "      <th>age</th>\n",
       "      <td>1.000000</td>\n",
       "      <td>0.010361</td>\n",
       "      <td>-0.005410</td>\n",
       "      <td>-0.006972</td>\n",
       "      <td>0.377440</td>\n",
       "    </tr>\n",
       "    <tr>\n",
       "      <th>sysbp</th>\n",
       "      <td>0.010361</td>\n",
       "      <td>1.000000</td>\n",
       "      <td>0.405406</td>\n",
       "      <td>0.406029</td>\n",
       "      <td>0.339842</td>\n",
       "    </tr>\n",
       "    <tr>\n",
       "      <th>diabp</th>\n",
       "      <td>-0.005410</td>\n",
       "      <td>0.405406</td>\n",
       "      <td>1.000000</td>\n",
       "      <td>0.398345</td>\n",
       "      <td>0.181541</td>\n",
       "    </tr>\n",
       "    <tr>\n",
       "      <th>chol</th>\n",
       "      <td>-0.006972</td>\n",
       "      <td>0.406029</td>\n",
       "      <td>0.398345</td>\n",
       "      <td>1.000000</td>\n",
       "      <td>0.315811</td>\n",
       "    </tr>\n",
       "    <tr>\n",
       "      <th>prog</th>\n",
       "      <td>0.377440</td>\n",
       "      <td>0.339842</td>\n",
       "      <td>0.181541</td>\n",
       "      <td>0.315811</td>\n",
       "      <td>1.000000</td>\n",
       "    </tr>\n",
       "  </tbody>\n",
       "</table>\n",
       "</div>"
      ],
      "text/plain": [
       "            age     sysbp     diabp      chol      prog\n",
       "age    1.000000  0.010361 -0.005410 -0.006972  0.377440\n",
       "sysbp  0.010361  1.000000  0.405406  0.406029  0.339842\n",
       "diabp -0.005410  0.405406  1.000000  0.398345  0.181541\n",
       "chol  -0.006972  0.406029  0.398345  1.000000  0.315811\n",
       "prog   0.377440  0.339842  0.181541  0.315811  1.000000"
      ]
     },
     "execution_count": 18,
     "metadata": {},
     "output_type": "execute_result"
    }
   ],
   "source": [
    "df2.corr()"
   ]
  },
  {
   "cell_type": "code",
   "execution_count": 19,
   "id": "93dd18a9",
   "metadata": {
    "scrolled": true
   },
   "outputs": [
    {
     "name": "stdout",
     "output_type": "stream",
     "text": [
      "<class 'pandas.core.frame.DataFrame'>\n",
      "RangeIndex: 6000 entries, 0 to 5999\n",
      "Data columns (total 5 columns):\n",
      " #   Column  Non-Null Count  Dtype  \n",
      "---  ------  --------------  -----  \n",
      " 0   age     6000 non-null   float64\n",
      " 1   sysbp   6000 non-null   float64\n",
      " 2   diabp   6000 non-null   float64\n",
      " 3   chol    6000 non-null   float64\n",
      " 4   prog    6000 non-null   int32  \n",
      "dtypes: float64(4), int32(1)\n",
      "memory usage: 211.1 KB\n"
     ]
    }
   ],
   "source": [
    "#info of the updated dataset\n",
    "\n",
    "df2.info()\n",
    "\n",
    "#after label encoding now all the variables are numerical type"
   ]
  },
  {
   "cell_type": "markdown",
   "id": "edd7376a",
   "metadata": {},
   "source": [
    "#Age and Prognosis(Which is the target variable)are mostly correlated."
   ]
  },
  {
   "cell_type": "code",
   "execution_count": 20,
   "id": "1b768071",
   "metadata": {
    "scrolled": true
   },
   "outputs": [
    {
     "data": {
      "image/png": "[encoded data removed]",
      "text/plain": [
       "<Figure size 432x288 with 2 Axes>"
      ]
     },
     "metadata": {
      "needs_background": "light"
     },
     "output_type": "display_data"
    }
   ],
   "source": [
    " #heatmap between the correlation of the variables\n",
    "    \n",
    "sns.heatmap(df2.corr(),annot=True,fmt=\".2f\")\n",
    "plt.show()"
   ]
  },
  {
   "cell_type": "code",
   "execution_count": 21,
   "id": "e757c40d",
   "metadata": {
    "scrolled": true
   },
   "outputs": [
    {
     "data": {
      "text/plain": [
       "<seaborn.axisgrid.PairGrid at 0x1b5b2c8aaf0>"
      ]
     },
     "execution_count": 21,
     "metadata": {},
     "output_type": "execute_result"
    },
    {
     "data": {
      "image/png": "[encoded data removed]",
      "text/plain": [
       "<Figure size 900x900 with 30 Axes>"
      ]
     },
     "metadata": {
      "needs_background": "light"
     },
     "output_type": "display_data"
    }
   ],
   "source": [
    "#pairplot of the updated dataset\n",
    "\n",
    "sns.pairplot(df2)"
   ]
  },
  {
   "cell_type": "markdown",
   "id": "5f780562",
   "metadata": {},
   "source": [
    "### Outlier Analysis"
   ]
  },
  {
   "cell_type": "code",
   "execution_count": 22,
   "id": "2773205a",
   "metadata": {},
   "outputs": [
    {
     "data": {
      "text/plain": [
       "<AxesSubplot:>"
      ]
     },
     "execution_count": 22,
     "metadata": {},
     "output_type": "execute_result"
    },
    {
     "data": {
      "image/png": "[encoded data removed]",
      "text/plain": [
       "<Figure size 720x720 with 1 Axes>"
      ]
     },
     "metadata": {
      "needs_background": "light"
     },
     "output_type": "display_data"
    }
   ],
   "source": [
    "#boxplot for the updated dataset leaving prognosis column(all in one single image)\n",
    "\n",
    "df2.boxplot(column=['age',\"sysbp\",\"diabp\",\"chol\"],figsize=(10,10))"
   ]
  },
  {
   "cell_type": "code",
   "execution_count": 23,
   "id": "64702a64",
   "metadata": {},
   "outputs": [
    {
     "data": {
      "text/plain": [
       "<AxesSubplot:>"
      ]
     },
     "execution_count": 23,
     "metadata": {},
     "output_type": "execute_result"
    },
    {
     "data": {
      "image/png": "[encoded data removed]",
      "text/plain": [
       "<Figure size 432x288 with 1 Axes>"
      ]
     },
     "metadata": {
      "needs_background": "light"
     },
     "output_type": "display_data"
    }
   ],
   "source": [
    "#histogram of the prognosis column\n",
    "\n",
    "df2['prog'].value_counts().plot.bar()"
   ]
  },
  {
   "cell_type": "code",
   "execution_count": 24,
   "id": "53c1f1f8",
   "metadata": {
    "scrolled": true
   },
   "outputs": [
    {
     "data": {
      "image/png": "[encoded data removed]",
      "text/plain": [
       "<Figure size 720x576 with 6 Axes>"
      ]
     },
     "metadata": {
      "needs_background": "light"
     },
     "output_type": "display_data"
    }
   ],
   "source": [
    "#histogram of the variables\n",
    "df2.hist(figsize=(10,8))\n",
    "plt.show()"
   ]
  },
  {
   "cell_type": "code",
   "execution_count": 25,
   "id": "7491d0f2",
   "metadata": {
    "scrolled": false
   },
   "outputs": [
    {
     "data": {
      "text/plain": [
       "age      0.441141\n",
       "sysbp    0.334655\n",
       "diabp    0.336555\n",
       "chol     0.361514\n",
       "prog    -0.058039\n",
       "dtype: float64"
      ]
     },
     "execution_count": 25,
     "metadata": {},
     "output_type": "execute_result"
    }
   ],
   "source": [
    "df2.skew()"
   ]
  },
  {
   "cell_type": "markdown",
   "id": "68de99a3",
   "metadata": {},
   "source": [
    "#### They are moderately skewed"
   ]
  },
  {
   "cell_type": "code",
   "execution_count": 26,
   "id": "44756edc",
   "metadata": {
    "scrolled": true
   },
   "outputs": [
    {
     "data": {
      "text/plain": [
       "<AxesSubplot:ylabel='prog'>"
      ]
     },
     "execution_count": 26,
     "metadata": {},
     "output_type": "execute_result"
    },
    {
     "data": {
      "image/png": "[encoded data removed]",
      "text/plain": [
       "<Figure size 432x288 with 1 Axes>"
      ]
     },
     "metadata": {},
     "output_type": "display_data"
    }
   ],
   "source": [
    "#pie chart of the column prognosis\n",
    "df2['prog'].value_counts().plot.pie()"
   ]
  },
  {
   "cell_type": "markdown",
   "id": "d8e80da4",
   "metadata": {},
   "source": [
    "# Outlier Detection and Treatment"
   ]
  },
  {
   "cell_type": "code",
   "execution_count": 27,
   "id": "1c4eb520",
   "metadata": {
    "scrolled": false
   },
   "outputs": [
    {
     "data": {
      "image/png": "[encoded data removed]",
      "text/plain": [
       "<Figure size 1152x1008 with 4 Axes>"
      ]
     },
     "metadata": {
      "needs_background": "light"
     },
     "output_type": "display_data"
    }
   ],
   "source": [
    "# Horizontal boxplot of the datset images except prognosis\n",
    "\n",
    "plt.figure(figsize=(16,14))\n",
    "sns.set_style(style='ticks')\n",
    "plt.subplot(3,3,1)\n",
    "sns.boxplot(x='age',data=df2)\n",
    "plt.subplot(3,3,2)\n",
    "sns.boxplot(x='sysbp',data=df2)\n",
    "plt.subplot(3,3,3)\n",
    "sns.boxplot(x='diabp',data=df2)\n",
    "plt.subplot(3,3,4)\n",
    "sns.boxplot(x='chol',data=df2)\n",
    "plt.show()"
   ]
  },
  {
   "cell_type": "markdown",
   "id": "aef4fb4a",
   "metadata": {},
   "source": [
    "### Descriptive Statistics\n",
    "\n",
    "The difference between min - 25% data and 75% - max range can give us a brief idea about outliers and the analysis is as follows"
   ]
  },
  {
   "cell_type": "code",
   "execution_count": 28,
   "id": "724f0443",
   "metadata": {
    "scrolled": true
   },
   "outputs": [
    {
     "data": {
      "text/html": [
       "<div>\n",
       "<style scoped>\n",
       "    .dataframe tbody tr th:only-of-type {\n",
       "        vertical-align: middle;\n",
       "    }\n",
       "\n",
       "    .dataframe tbody tr th {\n",
       "        vertical-align: top;\n",
       "    }\n",
       "\n",
       "    .dataframe thead th {\n",
       "        text-align: right;\n",
       "    }\n",
       "</style>\n",
       "<table border=\"1\" class=\"dataframe\">\n",
       "  <thead>\n",
       "    <tr style=\"text-align: right;\">\n",
       "      <th></th>\n",
       "      <th>age</th>\n",
       "      <th>sysbp</th>\n",
       "      <th>diabp</th>\n",
       "      <th>chol</th>\n",
       "      <th>prog</th>\n",
       "    </tr>\n",
       "  </thead>\n",
       "  <tbody>\n",
       "    <tr>\n",
       "      <th>count</th>\n",
       "      <td>6000.000000</td>\n",
       "      <td>6000.000000</td>\n",
       "      <td>6000.000000</td>\n",
       "      <td>6000.000000</td>\n",
       "      <td>6000.000000</td>\n",
       "    </tr>\n",
       "    <tr>\n",
       "      <th>mean</th>\n",
       "      <td>60.464121</td>\n",
       "      <td>100.694822</td>\n",
       "      <td>90.505547</td>\n",
       "      <td>100.628255</td>\n",
       "      <td>0.514500</td>\n",
       "    </tr>\n",
       "    <tr>\n",
       "      <th>std</th>\n",
       "      <td>8.564392</td>\n",
       "      <td>10.669267</td>\n",
       "      <td>9.648200</td>\n",
       "      <td>10.433915</td>\n",
       "      <td>0.499831</td>\n",
       "    </tr>\n",
       "    <tr>\n",
       "      <th>min</th>\n",
       "      <td>35.164761</td>\n",
       "      <td>69.675429</td>\n",
       "      <td>62.807105</td>\n",
       "      <td>69.967453</td>\n",
       "      <td>0.000000</td>\n",
       "    </tr>\n",
       "    <tr>\n",
       "      <th>25%</th>\n",
       "      <td>54.371941</td>\n",
       "      <td>93.267420</td>\n",
       "      <td>83.641788</td>\n",
       "      <td>93.202373</td>\n",
       "      <td>0.000000</td>\n",
       "    </tr>\n",
       "    <tr>\n",
       "      <th>50%</th>\n",
       "      <td>59.831159</td>\n",
       "      <td>100.119926</td>\n",
       "      <td>89.912429</td>\n",
       "      <td>100.060637</td>\n",
       "      <td>1.000000</td>\n",
       "    </tr>\n",
       "    <tr>\n",
       "      <th>75%</th>\n",
       "      <td>65.809652</td>\n",
       "      <td>107.439501</td>\n",
       "      <td>96.682405</td>\n",
       "      <td>107.250829</td>\n",
       "      <td>1.000000</td>\n",
       "    </tr>\n",
       "    <tr>\n",
       "      <th>max</th>\n",
       "      <td>103.279497</td>\n",
       "      <td>151.699660</td>\n",
       "      <td>133.456382</td>\n",
       "      <td>148.233544</td>\n",
       "      <td>1.000000</td>\n",
       "    </tr>\n",
       "  </tbody>\n",
       "</table>\n",
       "</div>"
      ],
      "text/plain": [
       "               age        sysbp        diabp         chol         prog\n",
       "count  6000.000000  6000.000000  6000.000000  6000.000000  6000.000000\n",
       "mean     60.464121   100.694822    90.505547   100.628255     0.514500\n",
       "std       8.564392    10.669267     9.648200    10.433915     0.499831\n",
       "min      35.164761    69.675429    62.807105    69.967453     0.000000\n",
       "25%      54.371941    93.267420    83.641788    93.202373     0.000000\n",
       "50%      59.831159   100.119926    89.912429   100.060637     1.000000\n",
       "75%      65.809652   107.439501    96.682405   107.250829     1.000000\n",
       "max     103.279497   151.699660   133.456382   148.233544     1.000000"
      ]
     },
     "execution_count": 28,
     "metadata": {},
     "output_type": "execute_result"
    }
   ],
   "source": [
    "df2.describe()"
   ]
  },
  {
   "cell_type": "code",
   "execution_count": 29,
   "id": "c7bbb9d4",
   "metadata": {},
   "outputs": [
    {
     "data": {
      "text/plain": [
       "1    3087\n",
       "0    2913\n",
       "Name: prog, dtype: int64"
      ]
     },
     "execution_count": 29,
     "metadata": {},
     "output_type": "execute_result"
    }
   ],
   "source": [
    "#count value of the prognosis column\n",
    "\n",
    "df2[\"prog\"].value_counts()"
   ]
  },
  {
   "cell_type": "markdown",
   "id": "f505774d",
   "metadata": {},
   "source": [
    "#### Detection of Outliers by using Capping method"
   ]
  },
  {
   "cell_type": "code",
   "execution_count": 30,
   "id": "73d6b304",
   "metadata": {},
   "outputs": [],
   "source": [
    "# Capping Method: In this technique, we cap our outliers data and make the limit i.e,upper limit and lower limit,\n",
    "#      values that are above the upper limit value or less than the lower limit value will be considered as outliers.\n",
    "\n",
    "#IQR(Inter Quartile Range) = Q3 - Q1\n",
    "\n",
    "#Q3 = 75th percentile of the variable.\n",
    "#Q1 = 25th percentile of the variable.\n",
    "\n",
    "#Upper Limit Value = Q3 + 1.5* IQR.\n",
    "#lower Limit Value = Q1 - 1.5* IQR."
   ]
  },
  {
   "cell_type": "code",
   "execution_count": 31,
   "id": "4f07ea28",
   "metadata": {},
   "outputs": [
    {
     "data": {
      "text/html": [
       "<div>\n",
       "<style scoped>\n",
       "    .dataframe tbody tr th:only-of-type {\n",
       "        vertical-align: middle;\n",
       "    }\n",
       "\n",
       "    .dataframe tbody tr th {\n",
       "        vertical-align: top;\n",
       "    }\n",
       "\n",
       "    .dataframe thead th {\n",
       "        text-align: right;\n",
       "    }\n",
       "</style>\n",
       "<table border=\"1\" class=\"dataframe\">\n",
       "  <thead>\n",
       "    <tr style=\"text-align: right;\">\n",
       "      <th></th>\n",
       "      <th>age</th>\n",
       "      <th>sysbp</th>\n",
       "      <th>diabp</th>\n",
       "      <th>chol</th>\n",
       "      <th>prog</th>\n",
       "    </tr>\n",
       "  </thead>\n",
       "  <tbody>\n",
       "    <tr>\n",
       "      <th>0</th>\n",
       "      <td>77.196340</td>\n",
       "      <td>85.288742</td>\n",
       "      <td>80.021878</td>\n",
       "      <td>79.957109</td>\n",
       "      <td>1</td>\n",
       "    </tr>\n",
       "    <tr>\n",
       "      <th>1</th>\n",
       "      <td>63.529850</td>\n",
       "      <td>99.379736</td>\n",
       "      <td>84.852361</td>\n",
       "      <td>110.382411</td>\n",
       "      <td>1</td>\n",
       "    </tr>\n",
       "    <tr>\n",
       "      <th>2</th>\n",
       "      <td>69.003986</td>\n",
       "      <td>111.349455</td>\n",
       "      <td>109.850616</td>\n",
       "      <td>100.828246</td>\n",
       "      <td>1</td>\n",
       "    </tr>\n",
       "    <tr>\n",
       "      <th>3</th>\n",
       "      <td>82.638210</td>\n",
       "      <td>95.056128</td>\n",
       "      <td>79.666851</td>\n",
       "      <td>87.066303</td>\n",
       "      <td>1</td>\n",
       "    </tr>\n",
       "    <tr>\n",
       "      <th>4</th>\n",
       "      <td>78.346286</td>\n",
       "      <td>109.154591</td>\n",
       "      <td>90.713220</td>\n",
       "      <td>92.511770</td>\n",
       "      <td>1</td>\n",
       "    </tr>\n",
       "    <tr>\n",
       "      <th>...</th>\n",
       "      <td>...</td>\n",
       "      <td>...</td>\n",
       "      <td>...</td>\n",
       "      <td>...</td>\n",
       "      <td>...</td>\n",
       "    </tr>\n",
       "    <tr>\n",
       "      <th>5995</th>\n",
       "      <td>49.611850</td>\n",
       "      <td>94.857639</td>\n",
       "      <td>86.615671</td>\n",
       "      <td>107.643986</td>\n",
       "      <td>0</td>\n",
       "    </tr>\n",
       "    <tr>\n",
       "      <th>5996</th>\n",
       "      <td>63.099686</td>\n",
       "      <td>100.039527</td>\n",
       "      <td>93.515186</td>\n",
       "      <td>104.971404</td>\n",
       "      <td>1</td>\n",
       "    </tr>\n",
       "    <tr>\n",
       "      <th>5997</th>\n",
       "      <td>55.562243</td>\n",
       "      <td>98.421446</td>\n",
       "      <td>102.697875</td>\n",
       "      <td>120.875951</td>\n",
       "      <td>1</td>\n",
       "    </tr>\n",
       "    <tr>\n",
       "      <th>5998</th>\n",
       "      <td>63.468956</td>\n",
       "      <td>106.809289</td>\n",
       "      <td>88.060631</td>\n",
       "      <td>106.052213</td>\n",
       "      <td>1</td>\n",
       "    </tr>\n",
       "    <tr>\n",
       "      <th>5999</th>\n",
       "      <td>62.506825</td>\n",
       "      <td>96.900784</td>\n",
       "      <td>86.878033</td>\n",
       "      <td>108.625436</td>\n",
       "      <td>0</td>\n",
       "    </tr>\n",
       "  </tbody>\n",
       "</table>\n",
       "<p>6000 rows × 5 columns</p>\n",
       "</div>"
      ],
      "text/plain": [
       "            age       sysbp       diabp        chol  prog\n",
       "0     77.196340   85.288742   80.021878   79.957109     1\n",
       "1     63.529850   99.379736   84.852361  110.382411     1\n",
       "2     69.003986  111.349455  109.850616  100.828246     1\n",
       "3     82.638210   95.056128   79.666851   87.066303     1\n",
       "4     78.346286  109.154591   90.713220   92.511770     1\n",
       "...         ...         ...         ...         ...   ...\n",
       "5995  49.611850   94.857639   86.615671  107.643986     0\n",
       "5996  63.099686  100.039527   93.515186  104.971404     1\n",
       "5997  55.562243   98.421446  102.697875  120.875951     1\n",
       "5998  63.468956  106.809289   88.060631  106.052213     1\n",
       "5999  62.506825   96.900784   86.878033  108.625436     0\n",
       "\n",
       "[6000 rows x 5 columns]"
      ]
     },
     "execution_count": 31,
     "metadata": {},
     "output_type": "execute_result"
    }
   ],
   "source": [
    "# Let's keep a copy or data before removing outliers\n",
    "df3 = df2.copy()\n",
    "df3"
   ]
  },
  {
   "cell_type": "code",
   "execution_count": 32,
   "id": "54e83cf1",
   "metadata": {},
   "outputs": [],
   "source": [
    "def find_boundaries(df2,variables):\n",
    "    #lets find the IQR\n",
    "    Q1 = df2[variables].quantile(.25)\n",
    "    Q3 = df2[variables].quantile(.75)\n",
    "    IQR = Q3 - Q1\n",
    "    lower_boundary = Q1 - 1.5* IQR\n",
    "    upper_boundary = Q3 + 1.5*IQR\n",
    "    \n",
    "    return lower_boundary , upper_boundary"
   ]
  },
  {
   "cell_type": "code",
   "execution_count": 33,
   "id": "9c95682a",
   "metadata": {
    "scrolled": true
   },
   "outputs": [
    {
     "name": "stdout",
     "output_type": "stream",
     "text": [
      "upper limit for age is 82.96621900375001\n",
      "lower limit for age is 37.21537407374999\n"
     ]
    }
   ],
   "source": [
    "lower_age_limit , upper_age_limit = find_boundaries(df2 ,'age')\n",
    "print(\"upper limit for age is\" ,upper_age_limit)\n",
    "print(\"lower limit for age is\" ,lower_age_limit)\n"
   ]
  },
  {
   "cell_type": "code",
   "execution_count": 34,
   "id": "3d0a0c4b",
   "metadata": {},
   "outputs": [],
   "source": [
    "df2['age'] = np.where(df2[\"age\"] > upper_age_limit,upper_age_limit,\n",
    "                np.where(df2[\"age\"] < lower_age_limit,lower_age_limit , df2[\"age\"]))"
   ]
  },
  {
   "cell_type": "code",
   "execution_count": 35,
   "id": "1cd1f5a6",
   "metadata": {},
   "outputs": [
    {
     "name": "stdout",
     "output_type": "stream",
     "text": [
      "upper limit for sysbp is 128.69762366999998\n",
      "lower limit for sysbp is 72.00929774999999\n"
     ]
    }
   ],
   "source": [
    "lower_sysbp_limit , upper_sysbp_limit = find_boundaries(df2 ,'sysbp')\n",
    "print(\"upper limit for sysbp is\" ,upper_sysbp_limit)\n",
    "print(\"lower limit for sysbp is\" ,lower_sysbp_limit)\n"
   ]
  },
  {
   "cell_type": "code",
   "execution_count": 36,
   "id": "2f8c19b4",
   "metadata": {},
   "outputs": [],
   "source": [
    "df2['sysbp'] = np.where(df2[\"sysbp\"] > upper_sysbp_limit,upper_sysbp_limit,\n",
    "                np.where(df2[\"sysbp\"] < lower_sysbp_limit,lower_sysbp_limit , df2[\"sysbp\"]))"
   ]
  },
  {
   "cell_type": "code",
   "execution_count": 37,
   "id": "d5fd517c",
   "metadata": {},
   "outputs": [
    {
     "name": "stdout",
     "output_type": "stream",
     "text": [
      "upper limit for diabp is 116.24333034999998\n",
      "lower limit for diabp is 64.08086217000002\n"
     ]
    }
   ],
   "source": [
    "lower_diabp_limit , upper_diabp_limit = find_boundaries(df2 ,'diabp')\n",
    "print(\"upper limit for diabp is\" ,upper_diabp_limit)\n",
    "print(\"lower limit for diabp is\" ,lower_diabp_limit)"
   ]
  },
  {
   "cell_type": "code",
   "execution_count": 38,
   "id": "3d549ad8",
   "metadata": {},
   "outputs": [],
   "source": [
    "df2['diabp'] = np.where(df2[\"diabp\"] > upper_diabp_limit,upper_diabp_limit,\n",
    "                np.where(df2[\"diabp\"] < lower_diabp_limit ,lower_diabp_limit , df2[\"diabp\"]))"
   ]
  },
  {
   "cell_type": "code",
   "execution_count": 39,
   "id": "2baa4786",
   "metadata": {},
   "outputs": [
    {
     "name": "stdout",
     "output_type": "stream",
     "text": [
      "upper limit for chol is 128.32351358375\n",
      "lower limit for chol is 72.12968849375\n"
     ]
    }
   ],
   "source": [
    "lower_chol_limit , upper_chol_limit = find_boundaries(df2 ,'chol')\n",
    "print(\"upper limit for chol is\" ,upper_chol_limit)\n",
    "print(\"lower limit for chol is\" ,lower_chol_limit)"
   ]
  },
  {
   "cell_type": "code",
   "execution_count": 40,
   "id": "fb48b8dc",
   "metadata": {},
   "outputs": [],
   "source": [
    "df2['chol'] = np.where(df2[\"chol\"] > upper_chol_limit,upper_chol_limit,\n",
    "                np.where(df2[\"chol\"] < lower_chol_limit,lower_chol_limit,df2[\"chol\"]))"
   ]
  },
  {
   "cell_type": "code",
   "execution_count": 41,
   "id": "7547c374",
   "metadata": {
    "scrolled": true
   },
   "outputs": [
    {
     "data": {
      "image/png": "[encoded data removed]",
      "text/plain": [
       "<Figure size 1152x1008 with 4 Axes>"
      ]
     },
     "metadata": {},
     "output_type": "display_data"
    }
   ],
   "source": [
    "#Boxplot for data without Outliers.\n",
    "\n",
    "plt.figure(figsize=(16,14))\n",
    "sns.set_style(style='ticks')\n",
    "plt.subplot(3,3,1)\n",
    "sns.boxplot(x='age',data=df2)\n",
    "plt.subplot(3,3,2)\n",
    "sns.boxplot(x='sysbp',data=df2)\n",
    "plt.subplot(3,3,3)\n",
    "sns.boxplot(x='diabp',data=df2)\n",
    "plt.subplot(3,3,4)\n",
    "sns.boxplot(x='chol',data=df2)\n",
    "plt.show()"
   ]
  },
  {
   "cell_type": "markdown",
   "id": "083d3920",
   "metadata": {},
   "source": [
    "### Standardisation of the data"
   ]
  },
  {
   "cell_type": "code",
   "execution_count": 42,
   "id": "14e7d1aa",
   "metadata": {},
   "outputs": [],
   "source": [
    "# Importing required libraries\n",
    "from sklearn.preprocessing import StandardScaler\n",
    "from sklearn.preprocessing import MinMaxScaler"
   ]
  },
  {
   "cell_type": "code",
   "execution_count": 43,
   "id": "cde84b57",
   "metadata": {},
   "outputs": [],
   "source": [
    "df4 = df2.drop([\"prog\"],axis= 1)"
   ]
  },
  {
   "cell_type": "code",
   "execution_count": 44,
   "id": "9054bff2",
   "metadata": {},
   "outputs": [],
   "source": [
    "scaler=StandardScaler()\n",
    "\n",
    "data_scaled=scaler.fit_transform(df4)\n",
    "std=pd.DataFrame(scaler.fit_transform(df4),columns=df4.columns)"
   ]
  },
  {
   "cell_type": "code",
   "execution_count": 45,
   "id": "02bf6ac3",
   "metadata": {},
   "outputs": [
    {
     "data": {
      "text/html": [
       "<div>\n",
       "<style scoped>\n",
       "    .dataframe tbody tr th:only-of-type {\n",
       "        vertical-align: middle;\n",
       "    }\n",
       "\n",
       "    .dataframe tbody tr th {\n",
       "        vertical-align: top;\n",
       "    }\n",
       "\n",
       "    .dataframe thead th {\n",
       "        text-align: right;\n",
       "    }\n",
       "</style>\n",
       "<table border=\"1\" class=\"dataframe\">\n",
       "  <thead>\n",
       "    <tr style=\"text-align: right;\">\n",
       "      <th></th>\n",
       "      <th>age</th>\n",
       "      <th>sysbp</th>\n",
       "      <th>diabp</th>\n",
       "      <th>chol</th>\n",
       "    </tr>\n",
       "  </thead>\n",
       "  <tbody>\n",
       "    <tr>\n",
       "      <th>0</th>\n",
       "      <td>1.987803</td>\n",
       "      <td>-1.457585</td>\n",
       "      <td>-1.094761</td>\n",
       "      <td>-2.003609</td>\n",
       "    </tr>\n",
       "    <tr>\n",
       "      <th>1</th>\n",
       "      <td>0.368091</td>\n",
       "      <td>-0.121084</td>\n",
       "      <td>-0.588848</td>\n",
       "      <td>0.951463</td>\n",
       "    </tr>\n",
       "    <tr>\n",
       "      <th>2</th>\n",
       "      <td>1.016869</td>\n",
       "      <td>1.014219</td>\n",
       "      <td>2.029306</td>\n",
       "      <td>0.023510</td>\n",
       "    </tr>\n",
       "    <tr>\n",
       "      <th>3</th>\n",
       "      <td>2.632758</td>\n",
       "      <td>-0.531169</td>\n",
       "      <td>-1.131944</td>\n",
       "      <td>-1.313126</td>\n",
       "    </tr>\n",
       "    <tr>\n",
       "      <th>4</th>\n",
       "      <td>2.124091</td>\n",
       "      <td>0.806041</td>\n",
       "      <td>0.024980</td>\n",
       "      <td>-0.784232</td>\n",
       "    </tr>\n",
       "    <tr>\n",
       "      <th>...</th>\n",
       "      <td>...</td>\n",
       "      <td>...</td>\n",
       "      <td>...</td>\n",
       "      <td>...</td>\n",
       "    </tr>\n",
       "    <tr>\n",
       "      <th>5995</th>\n",
       "      <td>-1.281430</td>\n",
       "      <td>-0.549995</td>\n",
       "      <td>-0.404170</td>\n",
       "      <td>0.685492</td>\n",
       "    </tr>\n",
       "    <tr>\n",
       "      <th>5996</th>\n",
       "      <td>0.317109</td>\n",
       "      <td>-0.058504</td>\n",
       "      <td>0.318440</td>\n",
       "      <td>0.425916</td>\n",
       "    </tr>\n",
       "    <tr>\n",
       "      <th>5997</th>\n",
       "      <td>-0.576207</td>\n",
       "      <td>-0.211976</td>\n",
       "      <td>1.280174</td>\n",
       "      <td>1.970653</td>\n",
       "    </tr>\n",
       "    <tr>\n",
       "      <th>5998</th>\n",
       "      <td>0.360874</td>\n",
       "      <td>0.583594</td>\n",
       "      <td>-0.252835</td>\n",
       "      <td>0.530890</td>\n",
       "    </tr>\n",
       "    <tr>\n",
       "      <th>5999</th>\n",
       "      <td>0.246845</td>\n",
       "      <td>-0.356207</td>\n",
       "      <td>-0.376692</td>\n",
       "      <td>0.780816</td>\n",
       "    </tr>\n",
       "  </tbody>\n",
       "</table>\n",
       "<p>6000 rows × 4 columns</p>\n",
       "</div>"
      ],
      "text/plain": [
       "           age     sysbp     diabp      chol\n",
       "0     1.987803 -1.457585 -1.094761 -2.003609\n",
       "1     0.368091 -0.121084 -0.588848  0.951463\n",
       "2     1.016869  1.014219  2.029306  0.023510\n",
       "3     2.632758 -0.531169 -1.131944 -1.313126\n",
       "4     2.124091  0.806041  0.024980 -0.784232\n",
       "...        ...       ...       ...       ...\n",
       "5995 -1.281430 -0.549995 -0.404170  0.685492\n",
       "5996  0.317109 -0.058504  0.318440  0.425916\n",
       "5997 -0.576207 -0.211976  1.280174  1.970653\n",
       "5998  0.360874  0.583594 -0.252835  0.530890\n",
       "5999  0.246845 -0.356207 -0.376692  0.780816\n",
       "\n",
       "[6000 rows x 4 columns]"
      ]
     },
     "execution_count": 45,
     "metadata": {},
     "output_type": "execute_result"
    }
   ],
   "source": [
    "std"
   ]
  },
  {
   "cell_type": "markdown",
   "id": "ac483bcf",
   "metadata": {},
   "source": [
    "# Auto_EDA"
   ]
  },
  {
   "cell_type": "code",
   "execution_count": 46,
   "id": "2b9e9d5a",
   "metadata": {
    "scrolled": false
   },
   "outputs": [],
   "source": [
    "import pandas_profiling as pp\n",
    "import sweetviz as sv"
   ]
  },
  {
   "cell_type": "code",
   "execution_count": 47,
   "id": "3bee88db",
   "metadata": {},
   "outputs": [],
   "source": [
    "#EDA_report= pp.ProfileReport(df2)\n",
    "#EDA_report.to_file(output_file='report.html')"
   ]
  },
  {
   "cell_type": "code",
   "execution_count": 48,
   "id": "1a678eef",
   "metadata": {
    "scrolled": true
   },
   "outputs": [],
   "source": [
    "#sweet_report = sv.analyze(df2)\n",
    "#sweet_report.show_html('prognosis_report.html')"
   ]
  },
  {
   "cell_type": "markdown",
   "id": "56805313",
   "metadata": {},
   "source": [
    "# MODEL BUILDING"
   ]
  },
  {
   "cell_type": "markdown",
   "id": "ffb3f627",
   "metadata": {},
   "source": [
    "# LOGISTIC REGRESSION "
   ]
  },
  {
   "cell_type": "code",
   "execution_count": 49,
   "id": "2dbfc94a",
   "metadata": {
    "scrolled": true
   },
   "outputs": [
    {
     "data": {
      "text/html": [
       "<div>\n",
       "<style scoped>\n",
       "    .dataframe tbody tr th:only-of-type {\n",
       "        vertical-align: middle;\n",
       "    }\n",
       "\n",
       "    .dataframe tbody tr th {\n",
       "        vertical-align: top;\n",
       "    }\n",
       "\n",
       "    .dataframe thead th {\n",
       "        text-align: right;\n",
       "    }\n",
       "</style>\n",
       "<table border=\"1\" class=\"dataframe\">\n",
       "  <thead>\n",
       "    <tr style=\"text-align: right;\">\n",
       "      <th></th>\n",
       "      <th>age</th>\n",
       "      <th>sysbp</th>\n",
       "      <th>diabp</th>\n",
       "      <th>chol</th>\n",
       "      <th>prog</th>\n",
       "    </tr>\n",
       "  </thead>\n",
       "  <tbody>\n",
       "    <tr>\n",
       "      <th>0</th>\n",
       "      <td>77.196340</td>\n",
       "      <td>85.288742</td>\n",
       "      <td>80.021878</td>\n",
       "      <td>79.957109</td>\n",
       "      <td>1</td>\n",
       "    </tr>\n",
       "    <tr>\n",
       "      <th>1</th>\n",
       "      <td>63.529850</td>\n",
       "      <td>99.379736</td>\n",
       "      <td>84.852361</td>\n",
       "      <td>110.382411</td>\n",
       "      <td>1</td>\n",
       "    </tr>\n",
       "    <tr>\n",
       "      <th>2</th>\n",
       "      <td>69.003986</td>\n",
       "      <td>111.349455</td>\n",
       "      <td>109.850616</td>\n",
       "      <td>100.828246</td>\n",
       "      <td>1</td>\n",
       "    </tr>\n",
       "    <tr>\n",
       "      <th>3</th>\n",
       "      <td>82.638210</td>\n",
       "      <td>95.056128</td>\n",
       "      <td>79.666851</td>\n",
       "      <td>87.066303</td>\n",
       "      <td>1</td>\n",
       "    </tr>\n",
       "    <tr>\n",
       "      <th>4</th>\n",
       "      <td>78.346286</td>\n",
       "      <td>109.154591</td>\n",
       "      <td>90.713220</td>\n",
       "      <td>92.511770</td>\n",
       "      <td>1</td>\n",
       "    </tr>\n",
       "    <tr>\n",
       "      <th>...</th>\n",
       "      <td>...</td>\n",
       "      <td>...</td>\n",
       "      <td>...</td>\n",
       "      <td>...</td>\n",
       "      <td>...</td>\n",
       "    </tr>\n",
       "    <tr>\n",
       "      <th>5995</th>\n",
       "      <td>49.611850</td>\n",
       "      <td>94.857639</td>\n",
       "      <td>86.615671</td>\n",
       "      <td>107.643986</td>\n",
       "      <td>0</td>\n",
       "    </tr>\n",
       "    <tr>\n",
       "      <th>5996</th>\n",
       "      <td>63.099686</td>\n",
       "      <td>100.039527</td>\n",
       "      <td>93.515186</td>\n",
       "      <td>104.971404</td>\n",
       "      <td>1</td>\n",
       "    </tr>\n",
       "    <tr>\n",
       "      <th>5997</th>\n",
       "      <td>55.562243</td>\n",
       "      <td>98.421446</td>\n",
       "      <td>102.697875</td>\n",
       "      <td>120.875951</td>\n",
       "      <td>1</td>\n",
       "    </tr>\n",
       "    <tr>\n",
       "      <th>5998</th>\n",
       "      <td>63.468956</td>\n",
       "      <td>106.809289</td>\n",
       "      <td>88.060631</td>\n",
       "      <td>106.052213</td>\n",
       "      <td>1</td>\n",
       "    </tr>\n",
       "    <tr>\n",
       "      <th>5999</th>\n",
       "      <td>62.506825</td>\n",
       "      <td>96.900784</td>\n",
       "      <td>86.878033</td>\n",
       "      <td>108.625436</td>\n",
       "      <td>0</td>\n",
       "    </tr>\n",
       "  </tbody>\n",
       "</table>\n",
       "<p>6000 rows × 5 columns</p>\n",
       "</div>"
      ],
      "text/plain": [
       "            age       sysbp       diabp        chol  prog\n",
       "0     77.196340   85.288742   80.021878   79.957109     1\n",
       "1     63.529850   99.379736   84.852361  110.382411     1\n",
       "2     69.003986  111.349455  109.850616  100.828246     1\n",
       "3     82.638210   95.056128   79.666851   87.066303     1\n",
       "4     78.346286  109.154591   90.713220   92.511770     1\n",
       "...         ...         ...         ...         ...   ...\n",
       "5995  49.611850   94.857639   86.615671  107.643986     0\n",
       "5996  63.099686  100.039527   93.515186  104.971404     1\n",
       "5997  55.562243   98.421446  102.697875  120.875951     1\n",
       "5998  63.468956  106.809289   88.060631  106.052213     1\n",
       "5999  62.506825   96.900784   86.878033  108.625436     0\n",
       "\n",
       "[6000 rows x 5 columns]"
      ]
     },
     "execution_count": 49,
     "metadata": {},
     "output_type": "execute_result"
    }
   ],
   "source": [
    "# RENAMING THE ORIGINAL DATASET FOR LOGISTIC REGRESSION MODEL \n",
    "dfL = df2\n",
    "dfL"
   ]
  },
  {
   "cell_type": "code",
   "execution_count": 50,
   "id": "b5b6a82c",
   "metadata": {},
   "outputs": [
    {
     "data": {
      "text/html": [
       "<div>\n",
       "<style scoped>\n",
       "    .dataframe tbody tr th:only-of-type {\n",
       "        vertical-align: middle;\n",
       "    }\n",
       "\n",
       "    .dataframe tbody tr th {\n",
       "        vertical-align: top;\n",
       "    }\n",
       "\n",
       "    .dataframe thead th {\n",
       "        text-align: right;\n",
       "    }\n",
       "</style>\n",
       "<table border=\"1\" class=\"dataframe\">\n",
       "  <thead>\n",
       "    <tr style=\"text-align: right;\">\n",
       "      <th></th>\n",
       "      <th>age</th>\n",
       "      <th>sysbp</th>\n",
       "      <th>diabp</th>\n",
       "      <th>chol</th>\n",
       "    </tr>\n",
       "  </thead>\n",
       "  <tbody>\n",
       "    <tr>\n",
       "      <th>0</th>\n",
       "      <td>77.196340</td>\n",
       "      <td>85.288742</td>\n",
       "      <td>80.021878</td>\n",
       "      <td>79.957109</td>\n",
       "    </tr>\n",
       "    <tr>\n",
       "      <th>1</th>\n",
       "      <td>63.529850</td>\n",
       "      <td>99.379736</td>\n",
       "      <td>84.852361</td>\n",
       "      <td>110.382411</td>\n",
       "    </tr>\n",
       "    <tr>\n",
       "      <th>2</th>\n",
       "      <td>69.003986</td>\n",
       "      <td>111.349455</td>\n",
       "      <td>109.850616</td>\n",
       "      <td>100.828246</td>\n",
       "    </tr>\n",
       "    <tr>\n",
       "      <th>3</th>\n",
       "      <td>82.638210</td>\n",
       "      <td>95.056128</td>\n",
       "      <td>79.666851</td>\n",
       "      <td>87.066303</td>\n",
       "    </tr>\n",
       "    <tr>\n",
       "      <th>4</th>\n",
       "      <td>78.346286</td>\n",
       "      <td>109.154591</td>\n",
       "      <td>90.713220</td>\n",
       "      <td>92.511770</td>\n",
       "    </tr>\n",
       "    <tr>\n",
       "      <th>...</th>\n",
       "      <td>...</td>\n",
       "      <td>...</td>\n",
       "      <td>...</td>\n",
       "      <td>...</td>\n",
       "    </tr>\n",
       "    <tr>\n",
       "      <th>5995</th>\n",
       "      <td>49.611850</td>\n",
       "      <td>94.857639</td>\n",
       "      <td>86.615671</td>\n",
       "      <td>107.643986</td>\n",
       "    </tr>\n",
       "    <tr>\n",
       "      <th>5996</th>\n",
       "      <td>63.099686</td>\n",
       "      <td>100.039527</td>\n",
       "      <td>93.515186</td>\n",
       "      <td>104.971404</td>\n",
       "    </tr>\n",
       "    <tr>\n",
       "      <th>5997</th>\n",
       "      <td>55.562243</td>\n",
       "      <td>98.421446</td>\n",
       "      <td>102.697875</td>\n",
       "      <td>120.875951</td>\n",
       "    </tr>\n",
       "    <tr>\n",
       "      <th>5998</th>\n",
       "      <td>63.468956</td>\n",
       "      <td>106.809289</td>\n",
       "      <td>88.060631</td>\n",
       "      <td>106.052213</td>\n",
       "    </tr>\n",
       "    <tr>\n",
       "      <th>5999</th>\n",
       "      <td>62.506825</td>\n",
       "      <td>96.900784</td>\n",
       "      <td>86.878033</td>\n",
       "      <td>108.625436</td>\n",
       "    </tr>\n",
       "  </tbody>\n",
       "</table>\n",
       "<p>6000 rows × 4 columns</p>\n",
       "</div>"
      ],
      "text/plain": [
       "            age       sysbp       diabp        chol\n",
       "0     77.196340   85.288742   80.021878   79.957109\n",
       "1     63.529850   99.379736   84.852361  110.382411\n",
       "2     69.003986  111.349455  109.850616  100.828246\n",
       "3     82.638210   95.056128   79.666851   87.066303\n",
       "4     78.346286  109.154591   90.713220   92.511770\n",
       "...         ...         ...         ...         ...\n",
       "5995  49.611850   94.857639   86.615671  107.643986\n",
       "5996  63.099686  100.039527   93.515186  104.971404\n",
       "5997  55.562243   98.421446  102.697875  120.875951\n",
       "5998  63.468956  106.809289   88.060631  106.052213\n",
       "5999  62.506825   96.900784   86.878033  108.625436\n",
       "\n",
       "[6000 rows x 4 columns]"
      ]
     },
     "execution_count": 50,
     "metadata": {},
     "output_type": "execute_result"
    }
   ],
   "source": [
    "#SEPERATING THE TARGET AND PREDICTOR VARIABLES \n",
    "# X = PREDICTORS .\n",
    "# Y = TARGET.\"\"\n",
    "x = dfL.drop('prog',axis=1)\n",
    "y = dfL['prog']\n",
    "x"
   ]
  },
  {
   "cell_type": "code",
   "execution_count": 51,
   "id": "2451782a",
   "metadata": {},
   "outputs": [
    {
     "data": {
      "text/plain": [
       "0       1\n",
       "1       1\n",
       "2       1\n",
       "3       1\n",
       "4       1\n",
       "       ..\n",
       "5995    0\n",
       "5996    1\n",
       "5997    1\n",
       "5998    1\n",
       "5999    0\n",
       "Name: prog, Length: 6000, dtype: int32"
      ]
     },
     "execution_count": 51,
     "metadata": {},
     "output_type": "execute_result"
    }
   ],
   "source": [
    "y"
   ]
  },
  {
   "cell_type": "code",
   "execution_count": 52,
   "id": "81c612fa",
   "metadata": {},
   "outputs": [],
   "source": [
    "#TRAIN TEST SPLITTING\n",
    "\n",
    "from sklearn.model_selection import train_test_split\n",
    "X_train,X_test,y_train,y_test = train_test_split(x,y,test_size=0.50,random_state=100)"
   ]
  },
  {
   "cell_type": "code",
   "execution_count": 53,
   "id": "e55588df",
   "metadata": {},
   "outputs": [
    {
     "data": {
      "text/plain": [
       "LogisticRegression()"
      ]
     },
     "execution_count": 53,
     "metadata": {},
     "output_type": "execute_result"
    }
   ],
   "source": [
    "from sklearn.linear_model import LogisticRegression\n",
    "modellogr = LogisticRegression()\n",
    "modellogr.fit(X_train,y_train)\n"
   ]
  },
  {
   "cell_type": "code",
   "execution_count": 54,
   "id": "b1e43e32",
   "metadata": {},
   "outputs": [],
   "source": [
    "y_pred = modellogr.predict(X_test)"
   ]
  },
  {
   "cell_type": "code",
   "execution_count": 55,
   "id": "4a0933e5",
   "metadata": {},
   "outputs": [
    {
     "name": "stdout",
     "output_type": "stream",
     "text": [
      "Train Score is :  0.7396666666666667\n",
      "Test Score is :  0.7526666666666667\n"
     ]
    }
   ],
   "source": [
    "y_pred = modellogr.predict(X_test)\n",
    "print('Train Score is : ' , modellogr.score(X_train, y_train))\n",
    "print('Test Score is : ' , modellogr.score(X_test, y_test))"
   ]
  },
  {
   "cell_type": "code",
   "execution_count": 56,
   "id": "820fa058",
   "metadata": {},
   "outputs": [
    {
     "data": {
      "text/html": [
       "<div>\n",
       "<style scoped>\n",
       "    .dataframe tbody tr th:only-of-type {\n",
       "        vertical-align: middle;\n",
       "    }\n",
       "\n",
       "    .dataframe tbody tr th {\n",
       "        vertical-align: top;\n",
       "    }\n",
       "\n",
       "    .dataframe thead th {\n",
       "        text-align: right;\n",
       "    }\n",
       "</style>\n",
       "<table border=\"1\" class=\"dataframe\">\n",
       "  <thead>\n",
       "    <tr style=\"text-align: right;\">\n",
       "      <th></th>\n",
       "      <th>Actual</th>\n",
       "      <th>Prediction</th>\n",
       "    </tr>\n",
       "  </thead>\n",
       "  <tbody>\n",
       "    <tr>\n",
       "      <th>1469</th>\n",
       "      <td>1</td>\n",
       "      <td>1</td>\n",
       "    </tr>\n",
       "    <tr>\n",
       "      <th>3556</th>\n",
       "      <td>0</td>\n",
       "      <td>0</td>\n",
       "    </tr>\n",
       "    <tr>\n",
       "      <th>291</th>\n",
       "      <td>0</td>\n",
       "      <td>0</td>\n",
       "    </tr>\n",
       "    <tr>\n",
       "      <th>5483</th>\n",
       "      <td>0</td>\n",
       "      <td>0</td>\n",
       "    </tr>\n",
       "    <tr>\n",
       "      <th>4567</th>\n",
       "      <td>1</td>\n",
       "      <td>1</td>\n",
       "    </tr>\n",
       "    <tr>\n",
       "      <th>...</th>\n",
       "      <td>...</td>\n",
       "      <td>...</td>\n",
       "    </tr>\n",
       "    <tr>\n",
       "      <th>1658</th>\n",
       "      <td>1</td>\n",
       "      <td>1</td>\n",
       "    </tr>\n",
       "    <tr>\n",
       "      <th>472</th>\n",
       "      <td>1</td>\n",
       "      <td>1</td>\n",
       "    </tr>\n",
       "    <tr>\n",
       "      <th>4496</th>\n",
       "      <td>0</td>\n",
       "      <td>0</td>\n",
       "    </tr>\n",
       "    <tr>\n",
       "      <th>4263</th>\n",
       "      <td>0</td>\n",
       "      <td>0</td>\n",
       "    </tr>\n",
       "    <tr>\n",
       "      <th>1148</th>\n",
       "      <td>1</td>\n",
       "      <td>1</td>\n",
       "    </tr>\n",
       "  </tbody>\n",
       "</table>\n",
       "<p>3000 rows × 2 columns</p>\n",
       "</div>"
      ],
      "text/plain": [
       "      Actual  Prediction\n",
       "1469       1           1\n",
       "3556       0           0\n",
       "291        0           0\n",
       "5483       0           0\n",
       "4567       1           1\n",
       "...      ...         ...\n",
       "1658       1           1\n",
       "472        1           1\n",
       "4496       0           0\n",
       "4263       0           0\n",
       "1148       1           1\n",
       "\n",
       "[3000 rows x 2 columns]"
      ]
     },
     "execution_count": 56,
     "metadata": {},
     "output_type": "execute_result"
    }
   ],
   "source": [
    "pd.DataFrame({\"Actual\":y_test,\"Prediction\":y_pred})"
   ]
  },
  {
   "cell_type": "code",
   "execution_count": 57,
   "id": "cdd9569f",
   "metadata": {},
   "outputs": [],
   "source": [
    "#Confusion Matrix\n",
    "from sklearn.metrics import confusion_matrix,accuracy_score,classification_report"
   ]
  },
  {
   "cell_type": "code",
   "execution_count": 58,
   "id": "80f71adb",
   "metadata": {},
   "outputs": [
    {
     "data": {
      "text/plain": [
       "array([[1115,  367],\n",
       "       [ 375, 1143]], dtype=int64)"
      ]
     },
     "execution_count": 58,
     "metadata": {},
     "output_type": "execute_result"
    }
   ],
   "source": [
    "cmlo = confusion_matrix(y_test,y_pred)\n",
    "cmlo"
   ]
  },
  {
   "cell_type": "code",
   "execution_count": 59,
   "id": "9c98df2f",
   "metadata": {
    "scrolled": false
   },
   "outputs": [
    {
     "data": {
      "text/plain": [
       "0.7526666666666667"
      ]
     },
     "execution_count": 59,
     "metadata": {},
     "output_type": "execute_result"
    }
   ],
   "source": [
    "accuracy_score(y_test,y_pred) "
   ]
  },
  {
   "cell_type": "code",
   "execution_count": 60,
   "id": "372d5ae6",
   "metadata": {},
   "outputs": [
    {
     "name": "stdout",
     "output_type": "stream",
     "text": [
      "              precision    recall  f1-score   support\n",
      "\n",
      "           0       0.75      0.75      0.75      1482\n",
      "           1       0.76      0.75      0.75      1518\n",
      "\n",
      "    accuracy                           0.75      3000\n",
      "   macro avg       0.75      0.75      0.75      3000\n",
      "weighted avg       0.75      0.75      0.75      3000\n",
      "\n"
     ]
    }
   ],
   "source": [
    "print(classification_report(y_test,y_pred))"
   ]
  },
  {
   "cell_type": "code",
   "execution_count": 61,
   "id": "f138202c",
   "metadata": {},
   "outputs": [],
   "source": [
    "from sklearn.metrics import roc_curve,roc_auc_score"
   ]
  },
  {
   "cell_type": "code",
   "execution_count": 62,
   "id": "256ff55e",
   "metadata": {},
   "outputs": [],
   "source": [
    "fpr, tpr, thresholds = roc_curve(y_test,y_pred)\n",
    "\n",
    "auc = roc_auc_score(y_test,y_pred)"
   ]
  },
  {
   "cell_type": "code",
   "execution_count": 63,
   "id": "6cdef7a0",
   "metadata": {
    "scrolled": true
   },
   "outputs": [
    {
     "data": {
      "image/png": "[encoded data removed]",
      "text/plain": [
       "<Figure size 432x288 with 1 Axes>"
      ]
     },
     "metadata": {},
     "output_type": "display_data"
    }
   ],
   "source": [
    "import matplotlib.pyplot as plt\n",
    "plt.plot(fpr, tpr, color='red', label='logit model ( area  = %0.2f)'%auc)\n",
    "plt.plot([0, 1], [0, 1], 'k--')\n",
    "plt.title(\"ROC & AUC curve\")\n",
    "plt.xlabel('False Positive Rate or [1 - True Negative Rate]')\n",
    "plt.ylabel('True Positive Rate')\n",
    "plt.legend()\n",
    "plt.show()"
   ]
  },
  {
   "cell_type": "markdown",
   "id": "2adc897a",
   "metadata": {},
   "source": [
    "# LOGISTIC REGRESSION WITH STANDARDISED VALUES"
   ]
  },
  {
   "cell_type": "code",
   "execution_count": 64,
   "id": "b5124664",
   "metadata": {
    "scrolled": false
   },
   "outputs": [
    {
     "data": {
      "text/html": [
       "<div>\n",
       "<style scoped>\n",
       "    .dataframe tbody tr th:only-of-type {\n",
       "        vertical-align: middle;\n",
       "    }\n",
       "\n",
       "    .dataframe tbody tr th {\n",
       "        vertical-align: top;\n",
       "    }\n",
       "\n",
       "    .dataframe thead th {\n",
       "        text-align: right;\n",
       "    }\n",
       "</style>\n",
       "<table border=\"1\" class=\"dataframe\">\n",
       "  <thead>\n",
       "    <tr style=\"text-align: right;\">\n",
       "      <th></th>\n",
       "      <th>age</th>\n",
       "      <th>sysbp</th>\n",
       "      <th>diabp</th>\n",
       "      <th>chol</th>\n",
       "    </tr>\n",
       "  </thead>\n",
       "  <tbody>\n",
       "    <tr>\n",
       "      <th>0</th>\n",
       "      <td>1.987803</td>\n",
       "      <td>-1.457585</td>\n",
       "      <td>-1.094761</td>\n",
       "      <td>-2.003609</td>\n",
       "    </tr>\n",
       "    <tr>\n",
       "      <th>1</th>\n",
       "      <td>0.368091</td>\n",
       "      <td>-0.121084</td>\n",
       "      <td>-0.588848</td>\n",
       "      <td>0.951463</td>\n",
       "    </tr>\n",
       "    <tr>\n",
       "      <th>2</th>\n",
       "      <td>1.016869</td>\n",
       "      <td>1.014219</td>\n",
       "      <td>2.029306</td>\n",
       "      <td>0.023510</td>\n",
       "    </tr>\n",
       "    <tr>\n",
       "      <th>3</th>\n",
       "      <td>2.632758</td>\n",
       "      <td>-0.531169</td>\n",
       "      <td>-1.131944</td>\n",
       "      <td>-1.313126</td>\n",
       "    </tr>\n",
       "    <tr>\n",
       "      <th>4</th>\n",
       "      <td>2.124091</td>\n",
       "      <td>0.806041</td>\n",
       "      <td>0.024980</td>\n",
       "      <td>-0.784232</td>\n",
       "    </tr>\n",
       "    <tr>\n",
       "      <th>...</th>\n",
       "      <td>...</td>\n",
       "      <td>...</td>\n",
       "      <td>...</td>\n",
       "      <td>...</td>\n",
       "    </tr>\n",
       "    <tr>\n",
       "      <th>5995</th>\n",
       "      <td>-1.281430</td>\n",
       "      <td>-0.549995</td>\n",
       "      <td>-0.404170</td>\n",
       "      <td>0.685492</td>\n",
       "    </tr>\n",
       "    <tr>\n",
       "      <th>5996</th>\n",
       "      <td>0.317109</td>\n",
       "      <td>-0.058504</td>\n",
       "      <td>0.318440</td>\n",
       "      <td>0.425916</td>\n",
       "    </tr>\n",
       "    <tr>\n",
       "      <th>5997</th>\n",
       "      <td>-0.576207</td>\n",
       "      <td>-0.211976</td>\n",
       "      <td>1.280174</td>\n",
       "      <td>1.970653</td>\n",
       "    </tr>\n",
       "    <tr>\n",
       "      <th>5998</th>\n",
       "      <td>0.360874</td>\n",
       "      <td>0.583594</td>\n",
       "      <td>-0.252835</td>\n",
       "      <td>0.530890</td>\n",
       "    </tr>\n",
       "    <tr>\n",
       "      <th>5999</th>\n",
       "      <td>0.246845</td>\n",
       "      <td>-0.356207</td>\n",
       "      <td>-0.376692</td>\n",
       "      <td>0.780816</td>\n",
       "    </tr>\n",
       "  </tbody>\n",
       "</table>\n",
       "<p>6000 rows × 4 columns</p>\n",
       "</div>"
      ],
      "text/plain": [
       "           age     sysbp     diabp      chol\n",
       "0     1.987803 -1.457585 -1.094761 -2.003609\n",
       "1     0.368091 -0.121084 -0.588848  0.951463\n",
       "2     1.016869  1.014219  2.029306  0.023510\n",
       "3     2.632758 -0.531169 -1.131944 -1.313126\n",
       "4     2.124091  0.806041  0.024980 -0.784232\n",
       "...        ...       ...       ...       ...\n",
       "5995 -1.281430 -0.549995 -0.404170  0.685492\n",
       "5996  0.317109 -0.058504  0.318440  0.425916\n",
       "5997 -0.576207 -0.211976  1.280174  1.970653\n",
       "5998  0.360874  0.583594 -0.252835  0.530890\n",
       "5999  0.246845 -0.356207 -0.376692  0.780816\n",
       "\n",
       "[6000 rows x 4 columns]"
      ]
     },
     "execution_count": 64,
     "metadata": {},
     "output_type": "execute_result"
    }
   ],
   "source": [
    "C = std\n",
    "C"
   ]
  },
  {
   "cell_type": "code",
   "execution_count": 65,
   "id": "f3cc1184",
   "metadata": {
    "scrolled": true
   },
   "outputs": [
    {
     "data": {
      "text/plain": [
       "0       1\n",
       "1       1\n",
       "2       1\n",
       "3       1\n",
       "4       1\n",
       "       ..\n",
       "5995    0\n",
       "5996    1\n",
       "5997    1\n",
       "5998    1\n",
       "5999    0\n",
       "Name: prog, Length: 6000, dtype: int32"
      ]
     },
     "execution_count": 65,
     "metadata": {},
     "output_type": "execute_result"
    }
   ],
   "source": [
    "D = y\n",
    "D"
   ]
  },
  {
   "cell_type": "code",
   "execution_count": 66,
   "id": "bd9aa4c1",
   "metadata": {},
   "outputs": [],
   "source": [
    "C_train,C_test,D_train,D_test = train_test_split(C,D,test_size=0.50,random_state=100)"
   ]
  },
  {
   "cell_type": "code",
   "execution_count": 67,
   "id": "d7beebcd",
   "metadata": {},
   "outputs": [
    {
     "data": {
      "text/plain": [
       "LogisticRegression()"
      ]
     },
     "execution_count": 67,
     "metadata": {},
     "output_type": "execute_result"
    }
   ],
   "source": [
    "from sklearn.linear_model import LogisticRegression\n",
    "modellr = LogisticRegression()\n",
    "modellr.fit(C_train,D_train)"
   ]
  },
  {
   "cell_type": "code",
   "execution_count": 68,
   "id": "9da6ba54",
   "metadata": {},
   "outputs": [],
   "source": [
    "D_pred = modellr.predict(C_test)"
   ]
  },
  {
   "cell_type": "code",
   "execution_count": 69,
   "id": "f3319912",
   "metadata": {
    "scrolled": true
   },
   "outputs": [
    {
     "name": "stdout",
     "output_type": "stream",
     "text": [
      "Train Score is :  0.7396666666666667\n",
      "Test Score is :  0.7526666666666667\n"
     ]
    }
   ],
   "source": [
    "print('Train Score is : ' ,modellr.score(C_train, D_train))\n",
    "print('Test Score is : ' , modellr.score(C_test, D_test))"
   ]
  },
  {
   "cell_type": "code",
   "execution_count": 70,
   "id": "a3b71a21",
   "metadata": {},
   "outputs": [
    {
     "data": {
      "text/html": [
       "<div>\n",
       "<style scoped>\n",
       "    .dataframe tbody tr th:only-of-type {\n",
       "        vertical-align: middle;\n",
       "    }\n",
       "\n",
       "    .dataframe tbody tr th {\n",
       "        vertical-align: top;\n",
       "    }\n",
       "\n",
       "    .dataframe thead th {\n",
       "        text-align: right;\n",
       "    }\n",
       "</style>\n",
       "<table border=\"1\" class=\"dataframe\">\n",
       "  <thead>\n",
       "    <tr style=\"text-align: right;\">\n",
       "      <th></th>\n",
       "      <th>Actual</th>\n",
       "      <th>Prediction</th>\n",
       "    </tr>\n",
       "  </thead>\n",
       "  <tbody>\n",
       "    <tr>\n",
       "      <th>1469</th>\n",
       "      <td>1</td>\n",
       "      <td>1</td>\n",
       "    </tr>\n",
       "    <tr>\n",
       "      <th>3556</th>\n",
       "      <td>0</td>\n",
       "      <td>0</td>\n",
       "    </tr>\n",
       "    <tr>\n",
       "      <th>291</th>\n",
       "      <td>0</td>\n",
       "      <td>0</td>\n",
       "    </tr>\n",
       "    <tr>\n",
       "      <th>5483</th>\n",
       "      <td>0</td>\n",
       "      <td>0</td>\n",
       "    </tr>\n",
       "    <tr>\n",
       "      <th>4567</th>\n",
       "      <td>1</td>\n",
       "      <td>1</td>\n",
       "    </tr>\n",
       "    <tr>\n",
       "      <th>...</th>\n",
       "      <td>...</td>\n",
       "      <td>...</td>\n",
       "    </tr>\n",
       "    <tr>\n",
       "      <th>1658</th>\n",
       "      <td>1</td>\n",
       "      <td>1</td>\n",
       "    </tr>\n",
       "    <tr>\n",
       "      <th>472</th>\n",
       "      <td>1</td>\n",
       "      <td>1</td>\n",
       "    </tr>\n",
       "    <tr>\n",
       "      <th>4496</th>\n",
       "      <td>0</td>\n",
       "      <td>0</td>\n",
       "    </tr>\n",
       "    <tr>\n",
       "      <th>4263</th>\n",
       "      <td>0</td>\n",
       "      <td>0</td>\n",
       "    </tr>\n",
       "    <tr>\n",
       "      <th>1148</th>\n",
       "      <td>1</td>\n",
       "      <td>1</td>\n",
       "    </tr>\n",
       "  </tbody>\n",
       "</table>\n",
       "<p>3000 rows × 2 columns</p>\n",
       "</div>"
      ],
      "text/plain": [
       "      Actual  Prediction\n",
       "1469       1           1\n",
       "3556       0           0\n",
       "291        0           0\n",
       "5483       0           0\n",
       "4567       1           1\n",
       "...      ...         ...\n",
       "1658       1           1\n",
       "472        1           1\n",
       "4496       0           0\n",
       "4263       0           0\n",
       "1148       1           1\n",
       "\n",
       "[3000 rows x 2 columns]"
      ]
     },
     "execution_count": 70,
     "metadata": {},
     "output_type": "execute_result"
    }
   ],
   "source": [
    "pd.DataFrame({\"Actual\":D_test,\"Prediction\":D_pred})"
   ]
  },
  {
   "cell_type": "code",
   "execution_count": 71,
   "id": "6520c63b",
   "metadata": {},
   "outputs": [
    {
     "data": {
      "text/plain": [
       "array([[1115,  367],\n",
       "       [ 375, 1143]], dtype=int64)"
      ]
     },
     "execution_count": 71,
     "metadata": {},
     "output_type": "execute_result"
    }
   ],
   "source": [
    "confum = confusion_matrix(D_test,D_pred)\n",
    "confum"
   ]
  },
  {
   "cell_type": "code",
   "execution_count": 72,
   "id": "88fd928d",
   "metadata": {
    "scrolled": false
   },
   "outputs": [
    {
     "data": {
      "text/plain": [
       "0.7526666666666667"
      ]
     },
     "execution_count": 72,
     "metadata": {},
     "output_type": "execute_result"
    }
   ],
   "source": [
    "accuracy_score(D_test,D_pred)"
   ]
  },
  {
   "cell_type": "markdown",
   "id": "0064082a",
   "metadata": {},
   "source": [
    "LOGISTIC REGRESSION MODEL WITH STANDARDISED VALUES = 75.26%"
   ]
  },
  {
   "cell_type": "code",
   "execution_count": 73,
   "id": "2ef8e7c2",
   "metadata": {},
   "outputs": [
    {
     "name": "stdout",
     "output_type": "stream",
     "text": [
      "              precision    recall  f1-score   support\n",
      "\n",
      "           0       0.75      0.75      0.75      1482\n",
      "           1       0.76      0.75      0.75      1518\n",
      "\n",
      "    accuracy                           0.75      3000\n",
      "   macro avg       0.75      0.75      0.75      3000\n",
      "weighted avg       0.75      0.75      0.75      3000\n",
      "\n"
     ]
    }
   ],
   "source": [
    "print(classification_report(D_test,D_pred))"
   ]
  },
  {
   "cell_type": "markdown",
   "id": "27b0fe5e",
   "metadata": {},
   "source": [
    "# USER TESTING FOR LOGISTIC REGRESSION MODEL"
   ]
  },
  {
   "cell_type": "code",
   "execution_count": 74,
   "id": "60662154",
   "metadata": {
    "scrolled": true
   },
   "outputs": [
    {
     "data": {
      "text/html": [
       "<div>\n",
       "<style scoped>\n",
       "    .dataframe tbody tr th:only-of-type {\n",
       "        vertical-align: middle;\n",
       "    }\n",
       "\n",
       "    .dataframe tbody tr th {\n",
       "        vertical-align: top;\n",
       "    }\n",
       "\n",
       "    .dataframe thead th {\n",
       "        text-align: right;\n",
       "    }\n",
       "</style>\n",
       "<table border=\"1\" class=\"dataframe\">\n",
       "  <thead>\n",
       "    <tr style=\"text-align: right;\">\n",
       "      <th></th>\n",
       "      <th>age</th>\n",
       "      <th>sysbp</th>\n",
       "      <th>diabp</th>\n",
       "      <th>chol</th>\n",
       "      <th>prog</th>\n",
       "    </tr>\n",
       "  </thead>\n",
       "  <tbody>\n",
       "    <tr>\n",
       "      <th>0</th>\n",
       "      <td>77.196340</td>\n",
       "      <td>85.288742</td>\n",
       "      <td>80.021878</td>\n",
       "      <td>79.957109</td>\n",
       "      <td>1</td>\n",
       "    </tr>\n",
       "    <tr>\n",
       "      <th>1</th>\n",
       "      <td>63.529850</td>\n",
       "      <td>99.379736</td>\n",
       "      <td>84.852361</td>\n",
       "      <td>110.382411</td>\n",
       "      <td>1</td>\n",
       "    </tr>\n",
       "    <tr>\n",
       "      <th>2</th>\n",
       "      <td>69.003986</td>\n",
       "      <td>111.349455</td>\n",
       "      <td>109.850616</td>\n",
       "      <td>100.828246</td>\n",
       "      <td>1</td>\n",
       "    </tr>\n",
       "    <tr>\n",
       "      <th>3</th>\n",
       "      <td>82.638210</td>\n",
       "      <td>95.056128</td>\n",
       "      <td>79.666851</td>\n",
       "      <td>87.066303</td>\n",
       "      <td>1</td>\n",
       "    </tr>\n",
       "    <tr>\n",
       "      <th>4</th>\n",
       "      <td>78.346286</td>\n",
       "      <td>109.154591</td>\n",
       "      <td>90.713220</td>\n",
       "      <td>92.511770</td>\n",
       "      <td>1</td>\n",
       "    </tr>\n",
       "  </tbody>\n",
       "</table>\n",
       "</div>"
      ],
      "text/plain": [
       "         age       sysbp       diabp        chol  prog\n",
       "0  77.196340   85.288742   80.021878   79.957109     1\n",
       "1  63.529850   99.379736   84.852361  110.382411     1\n",
       "2  69.003986  111.349455  109.850616  100.828246     1\n",
       "3  82.638210   95.056128   79.666851   87.066303     1\n",
       "4  78.346286  109.154591   90.713220   92.511770     1"
      ]
     },
     "execution_count": 74,
     "metadata": {},
     "output_type": "execute_result"
    }
   ],
   "source": [
    "dfL.head()"
   ]
  },
  {
   "cell_type": "code",
   "execution_count": 75,
   "id": "eea04858",
   "metadata": {},
   "outputs": [],
   "source": [
    "def user_testing(data):\n",
    "    new = pd.DataFrame(data,index=[0])\n",
    "    result = modellr.predict(new)[0]\n",
    "    if result==0:\n",
    "        print(\"NO\")\n",
    "    else:\n",
    "        print(\"YES\")"
   ]
  },
  {
   "cell_type": "code",
   "execution_count": 76,
   "id": "8203fe57",
   "metadata": {},
   "outputs": [],
   "source": [
    "data = {\"age\":62,\"sysbp\":109,\"diabp\":79,\"chol\":126}"
   ]
  },
  {
   "cell_type": "code",
   "execution_count": 77,
   "id": "b86976eb",
   "metadata": {},
   "outputs": [
    {
     "name": "stdout",
     "output_type": "stream",
     "text": [
      "YES\n"
     ]
    }
   ],
   "source": [
    "user_testing(data)"
   ]
  },
  {
   "cell_type": "markdown",
   "id": "85179c93",
   "metadata": {},
   "source": [
    "# SUPPORT VECTOR MACHINE"
   ]
  },
  {
   "cell_type": "code",
   "execution_count": 78,
   "id": "4044b9c8",
   "metadata": {},
   "outputs": [
    {
     "data": {
      "text/html": [
       "<div>\n",
       "<style scoped>\n",
       "    .dataframe tbody tr th:only-of-type {\n",
       "        vertical-align: middle;\n",
       "    }\n",
       "\n",
       "    .dataframe tbody tr th {\n",
       "        vertical-align: top;\n",
       "    }\n",
       "\n",
       "    .dataframe thead th {\n",
       "        text-align: right;\n",
       "    }\n",
       "</style>\n",
       "<table border=\"1\" class=\"dataframe\">\n",
       "  <thead>\n",
       "    <tr style=\"text-align: right;\">\n",
       "      <th></th>\n",
       "      <th>age</th>\n",
       "      <th>sysbp</th>\n",
       "      <th>diabp</th>\n",
       "      <th>chol</th>\n",
       "      <th>prog</th>\n",
       "    </tr>\n",
       "  </thead>\n",
       "  <tbody>\n",
       "    <tr>\n",
       "      <th>0</th>\n",
       "      <td>77.196340</td>\n",
       "      <td>85.288742</td>\n",
       "      <td>80.021878</td>\n",
       "      <td>79.957109</td>\n",
       "      <td>1</td>\n",
       "    </tr>\n",
       "    <tr>\n",
       "      <th>1</th>\n",
       "      <td>63.529850</td>\n",
       "      <td>99.379736</td>\n",
       "      <td>84.852361</td>\n",
       "      <td>110.382411</td>\n",
       "      <td>1</td>\n",
       "    </tr>\n",
       "    <tr>\n",
       "      <th>2</th>\n",
       "      <td>69.003986</td>\n",
       "      <td>111.349455</td>\n",
       "      <td>109.850616</td>\n",
       "      <td>100.828246</td>\n",
       "      <td>1</td>\n",
       "    </tr>\n",
       "    <tr>\n",
       "      <th>3</th>\n",
       "      <td>82.638210</td>\n",
       "      <td>95.056128</td>\n",
       "      <td>79.666851</td>\n",
       "      <td>87.066303</td>\n",
       "      <td>1</td>\n",
       "    </tr>\n",
       "    <tr>\n",
       "      <th>4</th>\n",
       "      <td>78.346286</td>\n",
       "      <td>109.154591</td>\n",
       "      <td>90.713220</td>\n",
       "      <td>92.511770</td>\n",
       "      <td>1</td>\n",
       "    </tr>\n",
       "    <tr>\n",
       "      <th>...</th>\n",
       "      <td>...</td>\n",
       "      <td>...</td>\n",
       "      <td>...</td>\n",
       "      <td>...</td>\n",
       "      <td>...</td>\n",
       "    </tr>\n",
       "    <tr>\n",
       "      <th>5995</th>\n",
       "      <td>49.611850</td>\n",
       "      <td>94.857639</td>\n",
       "      <td>86.615671</td>\n",
       "      <td>107.643986</td>\n",
       "      <td>0</td>\n",
       "    </tr>\n",
       "    <tr>\n",
       "      <th>5996</th>\n",
       "      <td>63.099686</td>\n",
       "      <td>100.039527</td>\n",
       "      <td>93.515186</td>\n",
       "      <td>104.971404</td>\n",
       "      <td>1</td>\n",
       "    </tr>\n",
       "    <tr>\n",
       "      <th>5997</th>\n",
       "      <td>55.562243</td>\n",
       "      <td>98.421446</td>\n",
       "      <td>102.697875</td>\n",
       "      <td>120.875951</td>\n",
       "      <td>1</td>\n",
       "    </tr>\n",
       "    <tr>\n",
       "      <th>5998</th>\n",
       "      <td>63.468956</td>\n",
       "      <td>106.809289</td>\n",
       "      <td>88.060631</td>\n",
       "      <td>106.052213</td>\n",
       "      <td>1</td>\n",
       "    </tr>\n",
       "    <tr>\n",
       "      <th>5999</th>\n",
       "      <td>62.506825</td>\n",
       "      <td>96.900784</td>\n",
       "      <td>86.878033</td>\n",
       "      <td>108.625436</td>\n",
       "      <td>0</td>\n",
       "    </tr>\n",
       "  </tbody>\n",
       "</table>\n",
       "<p>6000 rows × 5 columns</p>\n",
       "</div>"
      ],
      "text/plain": [
       "            age       sysbp       diabp        chol  prog\n",
       "0     77.196340   85.288742   80.021878   79.957109     1\n",
       "1     63.529850   99.379736   84.852361  110.382411     1\n",
       "2     69.003986  111.349455  109.850616  100.828246     1\n",
       "3     82.638210   95.056128   79.666851   87.066303     1\n",
       "4     78.346286  109.154591   90.713220   92.511770     1\n",
       "...         ...         ...         ...         ...   ...\n",
       "5995  49.611850   94.857639   86.615671  107.643986     0\n",
       "5996  63.099686  100.039527   93.515186  104.971404     1\n",
       "5997  55.562243   98.421446  102.697875  120.875951     1\n",
       "5998  63.468956  106.809289   88.060631  106.052213     1\n",
       "5999  62.506825   96.900784   86.878033  108.625436     0\n",
       "\n",
       "[6000 rows x 5 columns]"
      ]
     },
     "execution_count": 78,
     "metadata": {},
     "output_type": "execute_result"
    }
   ],
   "source": [
    "# RENAMING THE COLUMN FOR USING IN SVM MODEL\n",
    "dfs = df2\n",
    "dfs"
   ]
  },
  {
   "cell_type": "code",
   "execution_count": 79,
   "id": "d510194f",
   "metadata": {},
   "outputs": [
    {
     "data": {
      "text/html": [
       "<div>\n",
       "<style scoped>\n",
       "    .dataframe tbody tr th:only-of-type {\n",
       "        vertical-align: middle;\n",
       "    }\n",
       "\n",
       "    .dataframe tbody tr th {\n",
       "        vertical-align: top;\n",
       "    }\n",
       "\n",
       "    .dataframe thead th {\n",
       "        text-align: right;\n",
       "    }\n",
       "</style>\n",
       "<table border=\"1\" class=\"dataframe\">\n",
       "  <thead>\n",
       "    <tr style=\"text-align: right;\">\n",
       "      <th></th>\n",
       "      <th>age</th>\n",
       "      <th>sysbp</th>\n",
       "      <th>diabp</th>\n",
       "      <th>chol</th>\n",
       "    </tr>\n",
       "  </thead>\n",
       "  <tbody>\n",
       "    <tr>\n",
       "      <th>0</th>\n",
       "      <td>77.196340</td>\n",
       "      <td>85.288742</td>\n",
       "      <td>80.021878</td>\n",
       "      <td>79.957109</td>\n",
       "    </tr>\n",
       "    <tr>\n",
       "      <th>1</th>\n",
       "      <td>63.529850</td>\n",
       "      <td>99.379736</td>\n",
       "      <td>84.852361</td>\n",
       "      <td>110.382411</td>\n",
       "    </tr>\n",
       "    <tr>\n",
       "      <th>2</th>\n",
       "      <td>69.003986</td>\n",
       "      <td>111.349455</td>\n",
       "      <td>109.850616</td>\n",
       "      <td>100.828246</td>\n",
       "    </tr>\n",
       "    <tr>\n",
       "      <th>3</th>\n",
       "      <td>82.638210</td>\n",
       "      <td>95.056128</td>\n",
       "      <td>79.666851</td>\n",
       "      <td>87.066303</td>\n",
       "    </tr>\n",
       "    <tr>\n",
       "      <th>4</th>\n",
       "      <td>78.346286</td>\n",
       "      <td>109.154591</td>\n",
       "      <td>90.713220</td>\n",
       "      <td>92.511770</td>\n",
       "    </tr>\n",
       "    <tr>\n",
       "      <th>...</th>\n",
       "      <td>...</td>\n",
       "      <td>...</td>\n",
       "      <td>...</td>\n",
       "      <td>...</td>\n",
       "    </tr>\n",
       "    <tr>\n",
       "      <th>5995</th>\n",
       "      <td>49.611850</td>\n",
       "      <td>94.857639</td>\n",
       "      <td>86.615671</td>\n",
       "      <td>107.643986</td>\n",
       "    </tr>\n",
       "    <tr>\n",
       "      <th>5996</th>\n",
       "      <td>63.099686</td>\n",
       "      <td>100.039527</td>\n",
       "      <td>93.515186</td>\n",
       "      <td>104.971404</td>\n",
       "    </tr>\n",
       "    <tr>\n",
       "      <th>5997</th>\n",
       "      <td>55.562243</td>\n",
       "      <td>98.421446</td>\n",
       "      <td>102.697875</td>\n",
       "      <td>120.875951</td>\n",
       "    </tr>\n",
       "    <tr>\n",
       "      <th>5998</th>\n",
       "      <td>63.468956</td>\n",
       "      <td>106.809289</td>\n",
       "      <td>88.060631</td>\n",
       "      <td>106.052213</td>\n",
       "    </tr>\n",
       "    <tr>\n",
       "      <th>5999</th>\n",
       "      <td>62.506825</td>\n",
       "      <td>96.900784</td>\n",
       "      <td>86.878033</td>\n",
       "      <td>108.625436</td>\n",
       "    </tr>\n",
       "  </tbody>\n",
       "</table>\n",
       "<p>6000 rows × 4 columns</p>\n",
       "</div>"
      ],
      "text/plain": [
       "            age       sysbp       diabp        chol\n",
       "0     77.196340   85.288742   80.021878   79.957109\n",
       "1     63.529850   99.379736   84.852361  110.382411\n",
       "2     69.003986  111.349455  109.850616  100.828246\n",
       "3     82.638210   95.056128   79.666851   87.066303\n",
       "4     78.346286  109.154591   90.713220   92.511770\n",
       "...         ...         ...         ...         ...\n",
       "5995  49.611850   94.857639   86.615671  107.643986\n",
       "5996  63.099686  100.039527   93.515186  104.971404\n",
       "5997  55.562243   98.421446  102.697875  120.875951\n",
       "5998  63.468956  106.809289   88.060631  106.052213\n",
       "5999  62.506825   96.900784   86.878033  108.625436\n",
       "\n",
       "[6000 rows x 4 columns]"
      ]
     },
     "execution_count": 79,
     "metadata": {},
     "output_type": "execute_result"
    }
   ],
   "source": [
    "#SEPERATING THE TARGET AND PREDICTORS\n",
    "#x1 = PREDICTORS\n",
    "#y1 = TARGET.\n",
    "x1 = dfs.drop('prog',axis=1)\n",
    "y1 = dfs['prog']\n",
    "x1"
   ]
  },
  {
   "cell_type": "code",
   "execution_count": 80,
   "id": "46d2eefa",
   "metadata": {
    "scrolled": true
   },
   "outputs": [
    {
     "data": {
      "text/plain": [
       "0       1\n",
       "1       1\n",
       "2       1\n",
       "3       1\n",
       "4       1\n",
       "       ..\n",
       "5995    0\n",
       "5996    1\n",
       "5997    1\n",
       "5998    1\n",
       "5999    0\n",
       "Name: prog, Length: 6000, dtype: int32"
      ]
     },
     "execution_count": 80,
     "metadata": {},
     "output_type": "execute_result"
    }
   ],
   "source": [
    "y1"
   ]
  },
  {
   "cell_type": "code",
   "execution_count": 81,
   "id": "b90546b9",
   "metadata": {},
   "outputs": [
    {
     "data": {
      "text/html": [
       "<div>\n",
       "<style scoped>\n",
       "    .dataframe tbody tr th:only-of-type {\n",
       "        vertical-align: middle;\n",
       "    }\n",
       "\n",
       "    .dataframe tbody tr th {\n",
       "        vertical-align: top;\n",
       "    }\n",
       "\n",
       "    .dataframe thead th {\n",
       "        text-align: right;\n",
       "    }\n",
       "</style>\n",
       "<table border=\"1\" class=\"dataframe\">\n",
       "  <thead>\n",
       "    <tr style=\"text-align: right;\">\n",
       "      <th></th>\n",
       "      <th>age</th>\n",
       "      <th>sysbp</th>\n",
       "      <th>diabp</th>\n",
       "      <th>chol</th>\n",
       "    </tr>\n",
       "  </thead>\n",
       "  <tbody>\n",
       "    <tr>\n",
       "      <th>0</th>\n",
       "      <td>1.987803</td>\n",
       "      <td>-1.457585</td>\n",
       "      <td>-1.094761</td>\n",
       "      <td>-2.003609</td>\n",
       "    </tr>\n",
       "    <tr>\n",
       "      <th>1</th>\n",
       "      <td>0.368091</td>\n",
       "      <td>-0.121084</td>\n",
       "      <td>-0.588848</td>\n",
       "      <td>0.951463</td>\n",
       "    </tr>\n",
       "    <tr>\n",
       "      <th>2</th>\n",
       "      <td>1.016869</td>\n",
       "      <td>1.014219</td>\n",
       "      <td>2.029306</td>\n",
       "      <td>0.023510</td>\n",
       "    </tr>\n",
       "    <tr>\n",
       "      <th>3</th>\n",
       "      <td>2.632758</td>\n",
       "      <td>-0.531169</td>\n",
       "      <td>-1.131944</td>\n",
       "      <td>-1.313126</td>\n",
       "    </tr>\n",
       "    <tr>\n",
       "      <th>4</th>\n",
       "      <td>2.124091</td>\n",
       "      <td>0.806041</td>\n",
       "      <td>0.024980</td>\n",
       "      <td>-0.784232</td>\n",
       "    </tr>\n",
       "    <tr>\n",
       "      <th>...</th>\n",
       "      <td>...</td>\n",
       "      <td>...</td>\n",
       "      <td>...</td>\n",
       "      <td>...</td>\n",
       "    </tr>\n",
       "    <tr>\n",
       "      <th>5995</th>\n",
       "      <td>-1.281430</td>\n",
       "      <td>-0.549995</td>\n",
       "      <td>-0.404170</td>\n",
       "      <td>0.685492</td>\n",
       "    </tr>\n",
       "    <tr>\n",
       "      <th>5996</th>\n",
       "      <td>0.317109</td>\n",
       "      <td>-0.058504</td>\n",
       "      <td>0.318440</td>\n",
       "      <td>0.425916</td>\n",
       "    </tr>\n",
       "    <tr>\n",
       "      <th>5997</th>\n",
       "      <td>-0.576207</td>\n",
       "      <td>-0.211976</td>\n",
       "      <td>1.280174</td>\n",
       "      <td>1.970653</td>\n",
       "    </tr>\n",
       "    <tr>\n",
       "      <th>5998</th>\n",
       "      <td>0.360874</td>\n",
       "      <td>0.583594</td>\n",
       "      <td>-0.252835</td>\n",
       "      <td>0.530890</td>\n",
       "    </tr>\n",
       "    <tr>\n",
       "      <th>5999</th>\n",
       "      <td>0.246845</td>\n",
       "      <td>-0.356207</td>\n",
       "      <td>-0.376692</td>\n",
       "      <td>0.780816</td>\n",
       "    </tr>\n",
       "  </tbody>\n",
       "</table>\n",
       "<p>6000 rows × 4 columns</p>\n",
       "</div>"
      ],
      "text/plain": [
       "           age     sysbp     diabp      chol\n",
       "0     1.987803 -1.457585 -1.094761 -2.003609\n",
       "1     0.368091 -0.121084 -0.588848  0.951463\n",
       "2     1.016869  1.014219  2.029306  0.023510\n",
       "3     2.632758 -0.531169 -1.131944 -1.313126\n",
       "4     2.124091  0.806041  0.024980 -0.784232\n",
       "...        ...       ...       ...       ...\n",
       "5995 -1.281430 -0.549995 -0.404170  0.685492\n",
       "5996  0.317109 -0.058504  0.318440  0.425916\n",
       "5997 -0.576207 -0.211976  1.280174  1.970653\n",
       "5998  0.360874  0.583594 -0.252835  0.530890\n",
       "5999  0.246845 -0.356207 -0.376692  0.780816\n",
       "\n",
       "[6000 rows x 4 columns]"
      ]
     },
     "execution_count": 81,
     "metadata": {},
     "output_type": "execute_result"
    }
   ],
   "source": [
    "#standardisation done \n",
    "std"
   ]
  },
  {
   "cell_type": "code",
   "execution_count": 82,
   "id": "80a15e6c",
   "metadata": {},
   "outputs": [
    {
     "data": {
      "text/html": [
       "<div>\n",
       "<style scoped>\n",
       "    .dataframe tbody tr th:only-of-type {\n",
       "        vertical-align: middle;\n",
       "    }\n",
       "\n",
       "    .dataframe tbody tr th {\n",
       "        vertical-align: top;\n",
       "    }\n",
       "\n",
       "    .dataframe thead th {\n",
       "        text-align: right;\n",
       "    }\n",
       "</style>\n",
       "<table border=\"1\" class=\"dataframe\">\n",
       "  <thead>\n",
       "    <tr style=\"text-align: right;\">\n",
       "      <th></th>\n",
       "      <th>age</th>\n",
       "      <th>sysbp</th>\n",
       "      <th>diabp</th>\n",
       "      <th>chol</th>\n",
       "    </tr>\n",
       "  </thead>\n",
       "  <tbody>\n",
       "    <tr>\n",
       "      <th>0</th>\n",
       "      <td>1.987803</td>\n",
       "      <td>-1.457585</td>\n",
       "      <td>-1.094761</td>\n",
       "      <td>-2.003609</td>\n",
       "    </tr>\n",
       "    <tr>\n",
       "      <th>1</th>\n",
       "      <td>0.368091</td>\n",
       "      <td>-0.121084</td>\n",
       "      <td>-0.588848</td>\n",
       "      <td>0.951463</td>\n",
       "    </tr>\n",
       "    <tr>\n",
       "      <th>2</th>\n",
       "      <td>1.016869</td>\n",
       "      <td>1.014219</td>\n",
       "      <td>2.029306</td>\n",
       "      <td>0.023510</td>\n",
       "    </tr>\n",
       "    <tr>\n",
       "      <th>3</th>\n",
       "      <td>2.632758</td>\n",
       "      <td>-0.531169</td>\n",
       "      <td>-1.131944</td>\n",
       "      <td>-1.313126</td>\n",
       "    </tr>\n",
       "    <tr>\n",
       "      <th>4</th>\n",
       "      <td>2.124091</td>\n",
       "      <td>0.806041</td>\n",
       "      <td>0.024980</td>\n",
       "      <td>-0.784232</td>\n",
       "    </tr>\n",
       "    <tr>\n",
       "      <th>...</th>\n",
       "      <td>...</td>\n",
       "      <td>...</td>\n",
       "      <td>...</td>\n",
       "      <td>...</td>\n",
       "    </tr>\n",
       "    <tr>\n",
       "      <th>5995</th>\n",
       "      <td>-1.281430</td>\n",
       "      <td>-0.549995</td>\n",
       "      <td>-0.404170</td>\n",
       "      <td>0.685492</td>\n",
       "    </tr>\n",
       "    <tr>\n",
       "      <th>5996</th>\n",
       "      <td>0.317109</td>\n",
       "      <td>-0.058504</td>\n",
       "      <td>0.318440</td>\n",
       "      <td>0.425916</td>\n",
       "    </tr>\n",
       "    <tr>\n",
       "      <th>5997</th>\n",
       "      <td>-0.576207</td>\n",
       "      <td>-0.211976</td>\n",
       "      <td>1.280174</td>\n",
       "      <td>1.970653</td>\n",
       "    </tr>\n",
       "    <tr>\n",
       "      <th>5998</th>\n",
       "      <td>0.360874</td>\n",
       "      <td>0.583594</td>\n",
       "      <td>-0.252835</td>\n",
       "      <td>0.530890</td>\n",
       "    </tr>\n",
       "    <tr>\n",
       "      <th>5999</th>\n",
       "      <td>0.246845</td>\n",
       "      <td>-0.356207</td>\n",
       "      <td>-0.376692</td>\n",
       "      <td>0.780816</td>\n",
       "    </tr>\n",
       "  </tbody>\n",
       "</table>\n",
       "<p>6000 rows × 4 columns</p>\n",
       "</div>"
      ],
      "text/plain": [
       "           age     sysbp     diabp      chol\n",
       "0     1.987803 -1.457585 -1.094761 -2.003609\n",
       "1     0.368091 -0.121084 -0.588848  0.951463\n",
       "2     1.016869  1.014219  2.029306  0.023510\n",
       "3     2.632758 -0.531169 -1.131944 -1.313126\n",
       "4     2.124091  0.806041  0.024980 -0.784232\n",
       "...        ...       ...       ...       ...\n",
       "5995 -1.281430 -0.549995 -0.404170  0.685492\n",
       "5996  0.317109 -0.058504  0.318440  0.425916\n",
       "5997 -0.576207 -0.211976  1.280174  1.970653\n",
       "5998  0.360874  0.583594 -0.252835  0.530890\n",
       "5999  0.246845 -0.356207 -0.376692  0.780816\n",
       "\n",
       "[6000 rows x 4 columns]"
      ]
     },
     "execution_count": 82,
     "metadata": {},
     "output_type": "execute_result"
    }
   ],
   "source": [
    "#RENAMING THE DATASET.\n",
    "svmstd = std\n",
    "svmstd"
   ]
  },
  {
   "cell_type": "code",
   "execution_count": 83,
   "id": "74aa9d9f",
   "metadata": {},
   "outputs": [],
   "source": [
    "from sklearn.svm import SVC \n",
    "svm = SVC(probability=True) # build the model"
   ]
  },
  {
   "cell_type": "code",
   "execution_count": 84,
   "id": "760ae0fd",
   "metadata": {},
   "outputs": [],
   "source": [
    "Q_train,Q_test,W_train,W_test = train_test_split(x1,y1,test_size = 0.50, random_state = 0)"
   ]
  },
  {
   "cell_type": "code",
   "execution_count": 85,
   "id": "66c7df1c",
   "metadata": {
    "scrolled": false
   },
   "outputs": [
    {
     "data": {
      "text/plain": [
       "SVC(probability=True)"
      ]
     },
     "execution_count": 85,
     "metadata": {},
     "output_type": "execute_result"
    }
   ],
   "source": [
    "svm.fit(Q_train, W_train)"
   ]
  },
  {
   "cell_type": "code",
   "execution_count": 86,
   "id": "1e9337d3",
   "metadata": {},
   "outputs": [],
   "source": [
    "SVM_pred = svm.predict(Q_test)"
   ]
  },
  {
   "cell_type": "code",
   "execution_count": 87,
   "id": "944cfe26",
   "metadata": {
    "scrolled": true
   },
   "outputs": [
    {
     "name": "stdout",
     "output_type": "stream",
     "text": [
      "Train Score is :  0.7486666666666667\n",
      "Test Score is :  0.755\n"
     ]
    }
   ],
   "source": [
    "print('Train Score is : ' , svm.score(Q_train, W_train))\n",
    "print('Test Score is : ' , svm.score(Q_test, W_test)) "
   ]
  },
  {
   "cell_type": "code",
   "execution_count": 88,
   "id": "3e24e62d",
   "metadata": {},
   "outputs": [
    {
     "name": "stdout",
     "output_type": "stream",
     "text": [
      "Classification Report is: \n",
      " \n",
      "               precision    recall  f1-score   support\n",
      "\n",
      "           0       0.77      0.72      0.74      1467\n",
      "           1       0.74      0.79      0.77      1533\n",
      "\n",
      "    accuracy                           0.76      3000\n",
      "   macro avg       0.76      0.75      0.75      3000\n",
      "weighted avg       0.76      0.76      0.75      3000\n",
      "\n"
     ]
    }
   ],
   "source": [
    "print('Classification Report is: \\n \\n' , classification_report(W_test, SVM_pred ))"
   ]
  },
  {
   "cell_type": "code",
   "execution_count": 89,
   "id": "add78232",
   "metadata": {},
   "outputs": [
    {
     "name": "stdout",
     "output_type": "stream",
     "text": [
      "The accuracy score is: 0.755\n",
      "\n",
      " Confusion matrix \n",
      " \n",
      " [[1049  418]\n",
      " [ 317 1216]]\n",
      "              precision    recall  f1-score   support\n",
      "\n",
      "           0       0.77      0.72      0.74      1467\n",
      "           1       0.74      0.79      0.77      1533\n",
      "\n",
      "    accuracy                           0.76      3000\n",
      "   macro avg       0.76      0.75      0.75      3000\n",
      "weighted avg       0.76      0.76      0.75      3000\n",
      "\n"
     ]
    }
   ],
   "source": [
    "print('The accuracy score is:', accuracy_score(W_test, SVM_pred)) # accuracy score\n",
    "cm = confusion_matrix(W_test,SVM_pred) # Confusion matrix \n",
    "print('\\n Confusion matrix \\n \\n', cm)\n",
    "print(classification_report(W_test,SVM_pred )) #75.5%"
   ]
  },
  {
   "cell_type": "code",
   "execution_count": 90,
   "id": "cbdf24d5",
   "metadata": {},
   "outputs": [],
   "source": [
    "from sklearn.svm import SVC\n",
    "from sklearn.model_selection import train_test_split"
   ]
  },
  {
   "cell_type": "code",
   "execution_count": 91,
   "id": "9f6ad2cd",
   "metadata": {},
   "outputs": [],
   "source": [
    "S_train,S_test,V_train,V_test = train_test_split(x1,y1,test_size = 0.25, random_state = 0)"
   ]
  },
  {
   "cell_type": "code",
   "execution_count": 92,
   "id": "65262033",
   "metadata": {},
   "outputs": [],
   "source": [
    "model_linear0 = SVC(kernel = \"linear\")\n",
    "model_linear0.fit(S_train,V_train)\n",
    "pred_test_linear0 = model_linear0.predict(S_test)"
   ]
  },
  {
   "cell_type": "code",
   "execution_count": 93,
   "id": "ade5f98a",
   "metadata": {
    "scrolled": true
   },
   "outputs": [
    {
     "data": {
      "text/plain": [
       "75.4"
      ]
     },
     "execution_count": 93,
     "metadata": {},
     "output_type": "execute_result"
    }
   ],
   "source": [
    "np.mean(pred_test_linear0==V_test)*100  # Linear Model accuracy =75.4%"
   ]
  },
  {
   "cell_type": "code",
   "execution_count": 94,
   "id": "5db66979",
   "metadata": {
    "scrolled": true
   },
   "outputs": [
    {
     "name": "stdout",
     "output_type": "stream",
     "text": [
      "Train Score is :  0.7411111111111112\n",
      "Test Score is :  0.754\n"
     ]
    }
   ],
   "source": [
    "print('Train Score is : ' ,model_linear0 .score(S_train, V_train))\n",
    "print('Test Score is : ' , model_linear0 .score(S_test, V_test))"
   ]
  },
  {
   "cell_type": "code",
   "execution_count": 95,
   "id": "eefe1e38",
   "metadata": {},
   "outputs": [],
   "source": [
    "model_poly0 = SVC(kernel = \"poly\")\n",
    "model_poly0.fit(S_train,V_train)\n",
    "pred_test_poly0 = model_poly0.predict(S_test)"
   ]
  },
  {
   "cell_type": "code",
   "execution_count": 96,
   "id": "ec851ec4",
   "metadata": {},
   "outputs": [
    {
     "data": {
      "text/plain": [
       "75.33333333333333"
      ]
     },
     "execution_count": 96,
     "metadata": {},
     "output_type": "execute_result"
    }
   ],
   "source": [
    "np.mean(pred_test_poly0==V_test)*100 "
   ]
  },
  {
   "cell_type": "code",
   "execution_count": 97,
   "id": "75dcc008",
   "metadata": {},
   "outputs": [
    {
     "name": "stdout",
     "output_type": "stream",
     "text": [
      "Train Score is :  0.7462222222222222\n",
      "Test Score is :  0.7533333333333333\n"
     ]
    }
   ],
   "source": [
    "print('Train Score is : ' ,model_poly0 .score(S_train, V_train))\n",
    "print('Test Score is : ' , model_poly0 .score(S_test, V_test))"
   ]
  },
  {
   "cell_type": "code",
   "execution_count": 98,
   "id": "b0f39f95",
   "metadata": {},
   "outputs": [],
   "source": [
    "model_rbf0 = SVC(kernel = \"rbf\")\n",
    "model_rbf0.fit(S_train,V_train)\n",
    "pred_test_rbf0 = model_rbf0.predict(S_test)"
   ]
  },
  {
   "cell_type": "code",
   "execution_count": 99,
   "id": "13a42667",
   "metadata": {},
   "outputs": [
    {
     "data": {
      "text/plain": [
       "75.46666666666667"
      ]
     },
     "execution_count": 99,
     "metadata": {},
     "output_type": "execute_result"
    }
   ],
   "source": [
    "#kernel = rbf\n",
    "np.mean(pred_test_rbf0==V_test)*100 "
   ]
  },
  {
   "cell_type": "code",
   "execution_count": 100,
   "id": "adb87b1b",
   "metadata": {},
   "outputs": [
    {
     "name": "stdout",
     "output_type": "stream",
     "text": [
      "Train Score is :  0.748\n",
      "Test Score is :  0.7546666666666667\n"
     ]
    }
   ],
   "source": [
    "print('Train Score is : ' ,model_rbf0.score(S_train, V_train))\n",
    "print('Test Score is : ' , model_rbf0 .score(S_test, V_test))"
   ]
  },
  {
   "cell_type": "markdown",
   "id": "636434e4",
   "metadata": {},
   "source": [
    "# SVM with standardisation values"
   ]
  },
  {
   "cell_type": "code",
   "execution_count": 101,
   "id": "591e70a7",
   "metadata": {
    "scrolled": true
   },
   "outputs": [
    {
     "data": {
      "text/html": [
       "<div>\n",
       "<style scoped>\n",
       "    .dataframe tbody tr th:only-of-type {\n",
       "        vertical-align: middle;\n",
       "    }\n",
       "\n",
       "    .dataframe tbody tr th {\n",
       "        vertical-align: top;\n",
       "    }\n",
       "\n",
       "    .dataframe thead th {\n",
       "        text-align: right;\n",
       "    }\n",
       "</style>\n",
       "<table border=\"1\" class=\"dataframe\">\n",
       "  <thead>\n",
       "    <tr style=\"text-align: right;\">\n",
       "      <th></th>\n",
       "      <th>age</th>\n",
       "      <th>sysbp</th>\n",
       "      <th>diabp</th>\n",
       "      <th>chol</th>\n",
       "    </tr>\n",
       "  </thead>\n",
       "  <tbody>\n",
       "    <tr>\n",
       "      <th>0</th>\n",
       "      <td>1.987803</td>\n",
       "      <td>-1.457585</td>\n",
       "      <td>-1.094761</td>\n",
       "      <td>-2.003609</td>\n",
       "    </tr>\n",
       "    <tr>\n",
       "      <th>1</th>\n",
       "      <td>0.368091</td>\n",
       "      <td>-0.121084</td>\n",
       "      <td>-0.588848</td>\n",
       "      <td>0.951463</td>\n",
       "    </tr>\n",
       "    <tr>\n",
       "      <th>2</th>\n",
       "      <td>1.016869</td>\n",
       "      <td>1.014219</td>\n",
       "      <td>2.029306</td>\n",
       "      <td>0.023510</td>\n",
       "    </tr>\n",
       "    <tr>\n",
       "      <th>3</th>\n",
       "      <td>2.632758</td>\n",
       "      <td>-0.531169</td>\n",
       "      <td>-1.131944</td>\n",
       "      <td>-1.313126</td>\n",
       "    </tr>\n",
       "    <tr>\n",
       "      <th>4</th>\n",
       "      <td>2.124091</td>\n",
       "      <td>0.806041</td>\n",
       "      <td>0.024980</td>\n",
       "      <td>-0.784232</td>\n",
       "    </tr>\n",
       "    <tr>\n",
       "      <th>...</th>\n",
       "      <td>...</td>\n",
       "      <td>...</td>\n",
       "      <td>...</td>\n",
       "      <td>...</td>\n",
       "    </tr>\n",
       "    <tr>\n",
       "      <th>5995</th>\n",
       "      <td>-1.281430</td>\n",
       "      <td>-0.549995</td>\n",
       "      <td>-0.404170</td>\n",
       "      <td>0.685492</td>\n",
       "    </tr>\n",
       "    <tr>\n",
       "      <th>5996</th>\n",
       "      <td>0.317109</td>\n",
       "      <td>-0.058504</td>\n",
       "      <td>0.318440</td>\n",
       "      <td>0.425916</td>\n",
       "    </tr>\n",
       "    <tr>\n",
       "      <th>5997</th>\n",
       "      <td>-0.576207</td>\n",
       "      <td>-0.211976</td>\n",
       "      <td>1.280174</td>\n",
       "      <td>1.970653</td>\n",
       "    </tr>\n",
       "    <tr>\n",
       "      <th>5998</th>\n",
       "      <td>0.360874</td>\n",
       "      <td>0.583594</td>\n",
       "      <td>-0.252835</td>\n",
       "      <td>0.530890</td>\n",
       "    </tr>\n",
       "    <tr>\n",
       "      <th>5999</th>\n",
       "      <td>0.246845</td>\n",
       "      <td>-0.356207</td>\n",
       "      <td>-0.376692</td>\n",
       "      <td>0.780816</td>\n",
       "    </tr>\n",
       "  </tbody>\n",
       "</table>\n",
       "<p>6000 rows × 4 columns</p>\n",
       "</div>"
      ],
      "text/plain": [
       "           age     sysbp     diabp      chol\n",
       "0     1.987803 -1.457585 -1.094761 -2.003609\n",
       "1     0.368091 -0.121084 -0.588848  0.951463\n",
       "2     1.016869  1.014219  2.029306  0.023510\n",
       "3     2.632758 -0.531169 -1.131944 -1.313126\n",
       "4     2.124091  0.806041  0.024980 -0.784232\n",
       "...        ...       ...       ...       ...\n",
       "5995 -1.281430 -0.549995 -0.404170  0.685492\n",
       "5996  0.317109 -0.058504  0.318440  0.425916\n",
       "5997 -0.576207 -0.211976  1.280174  1.970653\n",
       "5998  0.360874  0.583594 -0.252835  0.530890\n",
       "5999  0.246845 -0.356207 -0.376692  0.780816\n",
       "\n",
       "[6000 rows x 4 columns]"
      ]
     },
     "execution_count": 101,
     "metadata": {},
     "output_type": "execute_result"
    }
   ],
   "source": [
    "xs1 = svmstd\n",
    "ys1 = df2['prog']\n",
    "xs1"
   ]
  },
  {
   "cell_type": "code",
   "execution_count": 102,
   "id": "54eee162",
   "metadata": {},
   "outputs": [
    {
     "data": {
      "text/plain": [
       "0       1\n",
       "1       1\n",
       "2       1\n",
       "3       1\n",
       "4       1\n",
       "       ..\n",
       "5995    0\n",
       "5996    1\n",
       "5997    1\n",
       "5998    1\n",
       "5999    0\n",
       "Name: prog, Length: 6000, dtype: int32"
      ]
     },
     "execution_count": 102,
     "metadata": {},
     "output_type": "execute_result"
    }
   ],
   "source": [
    "ys1"
   ]
  },
  {
   "cell_type": "code",
   "execution_count": 103,
   "id": "0c07ed92",
   "metadata": {},
   "outputs": [],
   "source": [
    "M_train,M_test,N_train,N_test = train_test_split(xs1,ys1,test_size = 0.25, random_state = 0)"
   ]
  },
  {
   "cell_type": "code",
   "execution_count": 104,
   "id": "815339ce",
   "metadata": {},
   "outputs": [],
   "source": [
    "model_linear1 = SVC(kernel = \"linear\")\n",
    "model_linear1.fit(M_train,N_train)\n",
    "pred_test_linear1 = model_linear1.predict(M_test)"
   ]
  },
  {
   "cell_type": "code",
   "execution_count": 105,
   "id": "7d8e65fb",
   "metadata": {},
   "outputs": [
    {
     "data": {
      "text/plain": [
       "75.46666666666667"
      ]
     },
     "execution_count": 105,
     "metadata": {},
     "output_type": "execute_result"
    }
   ],
   "source": [
    "np.mean(pred_test_linear1==N_test)*100  "
   ]
  },
  {
   "cell_type": "code",
   "execution_count": 106,
   "id": "0609b7bc",
   "metadata": {},
   "outputs": [
    {
     "name": "stdout",
     "output_type": "stream",
     "text": [
      "Train Score is :  0.7408888888888889\n",
      "Test Score is :  0.7546666666666667\n"
     ]
    }
   ],
   "source": [
    "print('Train Score is : ' ,model_linear1.score(M_train, N_train))\n",
    "print('Test Score is : ' , model_linear1.score(M_test, N_test))"
   ]
  },
  {
   "cell_type": "code",
   "execution_count": 107,
   "id": "53a4e014",
   "metadata": {},
   "outputs": [],
   "source": [
    "model_poly1 = SVC(kernel = \"poly\")\n",
    "model_poly1.fit(M_train,N_train)\n",
    "pred_test_poly1 = model_poly1.predict(M_test)"
   ]
  },
  {
   "cell_type": "code",
   "execution_count": 108,
   "id": "9164d22e",
   "metadata": {},
   "outputs": [
    {
     "data": {
      "text/plain": [
       "74.06666666666666"
      ]
     },
     "execution_count": 108,
     "metadata": {},
     "output_type": "execute_result"
    }
   ],
   "source": [
    "np.mean(pred_test_poly1==N_test)*100  #Poly Model accuracy = 74.06%"
   ]
  },
  {
   "cell_type": "code",
   "execution_count": 109,
   "id": "588d3f73",
   "metadata": {},
   "outputs": [
    {
     "name": "stdout",
     "output_type": "stream",
     "text": [
      "Train Score is :  0.7408888888888889\n",
      "Test Score is :  0.7406666666666667\n"
     ]
    }
   ],
   "source": [
    "print('Train Score is : ' ,model_poly1.score(M_train, N_train))\n",
    "print('Test Score is : ' ,model_poly1.score(M_test, N_test))"
   ]
  },
  {
   "cell_type": "code",
   "execution_count": 110,
   "id": "fc4df278",
   "metadata": {},
   "outputs": [],
   "source": [
    "model_rbf1 = SVC(kernel = \"rbf\")\n",
    "model_rbf1.fit(M_train,N_train)\n",
    "pred_test_rbf1 = model_rbf1.predict(M_test)"
   ]
  },
  {
   "cell_type": "code",
   "execution_count": 111,
   "id": "21443d3b",
   "metadata": {},
   "outputs": [
    {
     "data": {
      "text/plain": [
       "75.66666666666667"
      ]
     },
     "execution_count": 111,
     "metadata": {},
     "output_type": "execute_result"
    }
   ],
   "source": [
    "#kernel = rbf\n",
    "np.mean(pred_test_rbf1==N_test)*100 "
   ]
  },
  {
   "cell_type": "code",
   "execution_count": 112,
   "id": "33068246",
   "metadata": {},
   "outputs": [
    {
     "name": "stdout",
     "output_type": "stream",
     "text": [
      "Train Score is :  0.7531111111111111\n",
      "Test Score is :  0.7566666666666667\n"
     ]
    }
   ],
   "source": [
    "print('Train Score is : ' ,model_rbf1.score(M_train, N_train))\n",
    "print('Test Score is : ' ,model_rbf1.score(M_test, N_test))"
   ]
  },
  {
   "cell_type": "markdown",
   "id": "7a055fd6",
   "metadata": {},
   "source": [
    "# SVM WITH NORMALISED VALUES"
   ]
  },
  {
   "cell_type": "code",
   "execution_count": 113,
   "id": "c3cf79b2",
   "metadata": {},
   "outputs": [],
   "source": [
    "def norm_func(i):\n",
    "    x= (i-i.min())/(i.max()-i.min())\n",
    "    return (x)"
   ]
  },
  {
   "cell_type": "code",
   "execution_count": 114,
   "id": "f6d010a8",
   "metadata": {},
   "outputs": [
    {
     "data": {
      "text/html": [
       "<div>\n",
       "<style scoped>\n",
       "    .dataframe tbody tr th:only-of-type {\n",
       "        vertical-align: middle;\n",
       "    }\n",
       "\n",
       "    .dataframe tbody tr th {\n",
       "        vertical-align: top;\n",
       "    }\n",
       "\n",
       "    .dataframe thead th {\n",
       "        text-align: right;\n",
       "    }\n",
       "</style>\n",
       "<table border=\"1\" class=\"dataframe\">\n",
       "  <thead>\n",
       "    <tr style=\"text-align: right;\">\n",
       "      <th></th>\n",
       "      <th>age</th>\n",
       "      <th>sysbp</th>\n",
       "      <th>diabp</th>\n",
       "      <th>chol</th>\n",
       "    </tr>\n",
       "  </thead>\n",
       "  <tbody>\n",
       "    <tr>\n",
       "      <th>0</th>\n",
       "      <td>0.873885</td>\n",
       "      <td>0.234254</td>\n",
       "      <td>0.305603</td>\n",
       "      <td>0.139293</td>\n",
       "    </tr>\n",
       "    <tr>\n",
       "      <th>1</th>\n",
       "      <td>0.575169</td>\n",
       "      <td>0.482823</td>\n",
       "      <td>0.398208</td>\n",
       "      <td>0.680728</td>\n",
       "    </tr>\n",
       "    <tr>\n",
       "      <th>2</th>\n",
       "      <td>0.694820</td>\n",
       "      <td>0.693973</td>\n",
       "      <td>0.877446</td>\n",
       "      <td>0.510707</td>\n",
       "    </tr>\n",
       "    <tr>\n",
       "      <th>3</th>\n",
       "      <td>0.992831</td>\n",
       "      <td>0.406553</td>\n",
       "      <td>0.298797</td>\n",
       "      <td>0.265805</td>\n",
       "    </tr>\n",
       "    <tr>\n",
       "      <th>4</th>\n",
       "      <td>0.899020</td>\n",
       "      <td>0.655255</td>\n",
       "      <td>0.510566</td>\n",
       "      <td>0.362710</td>\n",
       "    </tr>\n",
       "    <tr>\n",
       "      <th>...</th>\n",
       "      <td>...</td>\n",
       "      <td>...</td>\n",
       "      <td>...</td>\n",
       "      <td>...</td>\n",
       "    </tr>\n",
       "    <tr>\n",
       "      <th>5995</th>\n",
       "      <td>0.270956</td>\n",
       "      <td>0.403052</td>\n",
       "      <td>0.432012</td>\n",
       "      <td>0.631996</td>\n",
       "    </tr>\n",
       "    <tr>\n",
       "      <th>5996</th>\n",
       "      <td>0.565767</td>\n",
       "      <td>0.494462</td>\n",
       "      <td>0.564282</td>\n",
       "      <td>0.584436</td>\n",
       "    </tr>\n",
       "    <tr>\n",
       "      <th>5997</th>\n",
       "      <td>0.401017</td>\n",
       "      <td>0.465919</td>\n",
       "      <td>0.740322</td>\n",
       "      <td>0.867467</td>\n",
       "    </tr>\n",
       "    <tr>\n",
       "      <th>5998</th>\n",
       "      <td>0.573838</td>\n",
       "      <td>0.613883</td>\n",
       "      <td>0.459713</td>\n",
       "      <td>0.603670</td>\n",
       "    </tr>\n",
       "    <tr>\n",
       "      <th>5999</th>\n",
       "      <td>0.552808</td>\n",
       "      <td>0.439094</td>\n",
       "      <td>0.437042</td>\n",
       "      <td>0.649462</td>\n",
       "    </tr>\n",
       "  </tbody>\n",
       "</table>\n",
       "<p>6000 rows × 4 columns</p>\n",
       "</div>"
      ],
      "text/plain": [
       "           age     sysbp     diabp      chol\n",
       "0     0.873885  0.234254  0.305603  0.139293\n",
       "1     0.575169  0.482823  0.398208  0.680728\n",
       "2     0.694820  0.693973  0.877446  0.510707\n",
       "3     0.992831  0.406553  0.298797  0.265805\n",
       "4     0.899020  0.655255  0.510566  0.362710\n",
       "...        ...       ...       ...       ...\n",
       "5995  0.270956  0.403052  0.432012  0.631996\n",
       "5996  0.565767  0.494462  0.564282  0.584436\n",
       "5997  0.401017  0.465919  0.740322  0.867467\n",
       "5998  0.573838  0.613883  0.459713  0.603670\n",
       "5999  0.552808  0.439094  0.437042  0.649462\n",
       "\n",
       "[6000 rows x 4 columns]"
      ]
     },
     "execution_count": 114,
     "metadata": {},
     "output_type": "execute_result"
    }
   ],
   "source": [
    "predictors = norm_func(x)\n",
    "predictors"
   ]
  },
  {
   "cell_type": "code",
   "execution_count": 115,
   "id": "eb80430e",
   "metadata": {
    "scrolled": false
   },
   "outputs": [
    {
     "data": {
      "text/plain": [
       "0       1\n",
       "1       1\n",
       "2       1\n",
       "3       1\n",
       "4       1\n",
       "       ..\n",
       "5995    0\n",
       "5996    1\n",
       "5997    1\n",
       "5998    1\n",
       "5999    0\n",
       "Name: prog, Length: 6000, dtype: int32"
      ]
     },
     "execution_count": 115,
     "metadata": {},
     "output_type": "execute_result"
    }
   ],
   "source": [
    "target = y\n",
    "target"
   ]
  },
  {
   "cell_type": "code",
   "execution_count": 116,
   "id": "1582d26f",
   "metadata": {},
   "outputs": [],
   "source": [
    "A_train,A_test,B_train,B_test = train_test_split(predictors,target,test_size = 0.25,random_state = 0)"
   ]
  },
  {
   "cell_type": "code",
   "execution_count": 117,
   "id": "98d62116",
   "metadata": {},
   "outputs": [],
   "source": [
    "model_linear2 = SVC(kernel = \"linear\")\n",
    "model_linear2.fit(A_train,B_train)\n",
    "pred_test_linear2 = model_linear2.predict(A_test)\n"
   ]
  },
  {
   "cell_type": "code",
   "execution_count": 118,
   "id": "5ca7942d",
   "metadata": {
    "scrolled": true
   },
   "outputs": [
    {
     "data": {
      "text/plain": [
       "75.53333333333333"
      ]
     },
     "execution_count": 118,
     "metadata": {},
     "output_type": "execute_result"
    }
   ],
   "source": [
    "np.mean(pred_test_linear2==B_test)*100 "
   ]
  },
  {
   "cell_type": "code",
   "execution_count": 119,
   "id": "22f93d38",
   "metadata": {},
   "outputs": [
    {
     "name": "stdout",
     "output_type": "stream",
     "text": [
      "Train Score is :  0.7413333333333333\n",
      "Test Score is :  0.7553333333333333\n"
     ]
    }
   ],
   "source": [
    "print('Train Score is : ' ,model_linear2 .score(A_train, B_train))\n",
    "print('Test Score is : ' ,model_linear2 .score(A_test, B_test))"
   ]
  },
  {
   "cell_type": "code",
   "execution_count": 120,
   "id": "459a7c63",
   "metadata": {},
   "outputs": [],
   "source": [
    "model_poly2 = SVC(kernel = \"poly\")\n",
    "model_poly2.fit(A_train,B_train)\n",
    "pred_test_poly2 = model_poly2.predict(A_test)"
   ]
  },
  {
   "cell_type": "code",
   "execution_count": 121,
   "id": "85a5a081",
   "metadata": {
    "scrolled": true
   },
   "outputs": [
    {
     "data": {
      "text/plain": [
       "74.6"
      ]
     },
     "execution_count": 121,
     "metadata": {},
     "output_type": "execute_result"
    }
   ],
   "source": [
    "np.mean(pred_test_poly2==B_test)*100 "
   ]
  },
  {
   "cell_type": "code",
   "execution_count": 122,
   "id": "40ca1d92",
   "metadata": {},
   "outputs": [
    {
     "name": "stdout",
     "output_type": "stream",
     "text": [
      "Train Score is :  0.744\n",
      "Test Score is :  0.746\n"
     ]
    }
   ],
   "source": [
    "print('Train Score is : ' ,model_poly2.score(A_train, B_train))\n",
    "print('Test Score is : ' ,model_poly2.score(A_test, B_test))"
   ]
  },
  {
   "cell_type": "code",
   "execution_count": 123,
   "id": "f3477e7c",
   "metadata": {},
   "outputs": [],
   "source": [
    "# kernel = rbf\n",
    "model_rbf2 = SVC(kernel = \"rbf\")\n",
    "model_rbf2.fit(A_train,B_train)\n",
    "pred_test_rbf2 = model_rbf2.predict(A_test)"
   ]
  },
  {
   "cell_type": "code",
   "execution_count": 124,
   "id": "eea15bbb",
   "metadata": {},
   "outputs": [
    {
     "data": {
      "text/plain": [
       "75.66666666666667"
      ]
     },
     "execution_count": 124,
     "metadata": {},
     "output_type": "execute_result"
    }
   ],
   "source": [
    "np.mean(pred_test_rbf2==B_test)*100 "
   ]
  },
  {
   "cell_type": "code",
   "execution_count": 125,
   "id": "b96cb90f",
   "metadata": {},
   "outputs": [
    {
     "name": "stdout",
     "output_type": "stream",
     "text": [
      "Train Score is :  0.7524444444444445\n",
      "Test Score is :  0.7566666666666667\n"
     ]
    }
   ],
   "source": [
    "print('Train Score is : ' ,model_rbf2.score(A_train, B_train))\n",
    "print('Test Score is : ' ,model_rbf2.score(A_test, B_test))"
   ]
  },
  {
   "cell_type": "markdown",
   "id": "c4471bf4",
   "metadata": {},
   "source": [
    "# DECISION TREE"
   ]
  },
  {
   "cell_type": "code",
   "execution_count": 126,
   "id": "1268e047",
   "metadata": {},
   "outputs": [
    {
     "data": {
      "text/html": [
       "<div>\n",
       "<style scoped>\n",
       "    .dataframe tbody tr th:only-of-type {\n",
       "        vertical-align: middle;\n",
       "    }\n",
       "\n",
       "    .dataframe tbody tr th {\n",
       "        vertical-align: top;\n",
       "    }\n",
       "\n",
       "    .dataframe thead th {\n",
       "        text-align: right;\n",
       "    }\n",
       "</style>\n",
       "<table border=\"1\" class=\"dataframe\">\n",
       "  <thead>\n",
       "    <tr style=\"text-align: right;\">\n",
       "      <th></th>\n",
       "      <th>age</th>\n",
       "      <th>sysbp</th>\n",
       "      <th>diabp</th>\n",
       "      <th>chol</th>\n",
       "      <th>prog</th>\n",
       "    </tr>\n",
       "  </thead>\n",
       "  <tbody>\n",
       "    <tr>\n",
       "      <th>0</th>\n",
       "      <td>77.196340</td>\n",
       "      <td>85.288742</td>\n",
       "      <td>80.021878</td>\n",
       "      <td>79.957109</td>\n",
       "      <td>1</td>\n",
       "    </tr>\n",
       "    <tr>\n",
       "      <th>1</th>\n",
       "      <td>63.529850</td>\n",
       "      <td>99.379736</td>\n",
       "      <td>84.852361</td>\n",
       "      <td>110.382411</td>\n",
       "      <td>1</td>\n",
       "    </tr>\n",
       "    <tr>\n",
       "      <th>2</th>\n",
       "      <td>69.003986</td>\n",
       "      <td>111.349455</td>\n",
       "      <td>109.850616</td>\n",
       "      <td>100.828246</td>\n",
       "      <td>1</td>\n",
       "    </tr>\n",
       "    <tr>\n",
       "      <th>3</th>\n",
       "      <td>82.638210</td>\n",
       "      <td>95.056128</td>\n",
       "      <td>79.666851</td>\n",
       "      <td>87.066303</td>\n",
       "      <td>1</td>\n",
       "    </tr>\n",
       "    <tr>\n",
       "      <th>4</th>\n",
       "      <td>78.346286</td>\n",
       "      <td>109.154591</td>\n",
       "      <td>90.713220</td>\n",
       "      <td>92.511770</td>\n",
       "      <td>1</td>\n",
       "    </tr>\n",
       "    <tr>\n",
       "      <th>...</th>\n",
       "      <td>...</td>\n",
       "      <td>...</td>\n",
       "      <td>...</td>\n",
       "      <td>...</td>\n",
       "      <td>...</td>\n",
       "    </tr>\n",
       "    <tr>\n",
       "      <th>5995</th>\n",
       "      <td>49.611850</td>\n",
       "      <td>94.857639</td>\n",
       "      <td>86.615671</td>\n",
       "      <td>107.643986</td>\n",
       "      <td>0</td>\n",
       "    </tr>\n",
       "    <tr>\n",
       "      <th>5996</th>\n",
       "      <td>63.099686</td>\n",
       "      <td>100.039527</td>\n",
       "      <td>93.515186</td>\n",
       "      <td>104.971404</td>\n",
       "      <td>1</td>\n",
       "    </tr>\n",
       "    <tr>\n",
       "      <th>5997</th>\n",
       "      <td>55.562243</td>\n",
       "      <td>98.421446</td>\n",
       "      <td>102.697875</td>\n",
       "      <td>120.875951</td>\n",
       "      <td>1</td>\n",
       "    </tr>\n",
       "    <tr>\n",
       "      <th>5998</th>\n",
       "      <td>63.468956</td>\n",
       "      <td>106.809289</td>\n",
       "      <td>88.060631</td>\n",
       "      <td>106.052213</td>\n",
       "      <td>1</td>\n",
       "    </tr>\n",
       "    <tr>\n",
       "      <th>5999</th>\n",
       "      <td>62.506825</td>\n",
       "      <td>96.900784</td>\n",
       "      <td>86.878033</td>\n",
       "      <td>108.625436</td>\n",
       "      <td>0</td>\n",
       "    </tr>\n",
       "  </tbody>\n",
       "</table>\n",
       "<p>6000 rows × 5 columns</p>\n",
       "</div>"
      ],
      "text/plain": [
       "            age       sysbp       diabp        chol  prog\n",
       "0     77.196340   85.288742   80.021878   79.957109     1\n",
       "1     63.529850   99.379736   84.852361  110.382411     1\n",
       "2     69.003986  111.349455  109.850616  100.828246     1\n",
       "3     82.638210   95.056128   79.666851   87.066303     1\n",
       "4     78.346286  109.154591   90.713220   92.511770     1\n",
       "...         ...         ...         ...         ...   ...\n",
       "5995  49.611850   94.857639   86.615671  107.643986     0\n",
       "5996  63.099686  100.039527   93.515186  104.971404     1\n",
       "5997  55.562243   98.421446  102.697875  120.875951     1\n",
       "5998  63.468956  106.809289   88.060631  106.052213     1\n",
       "5999  62.506825   96.900784   86.878033  108.625436     0\n",
       "\n",
       "[6000 rows x 5 columns]"
      ]
     },
     "execution_count": 126,
     "metadata": {},
     "output_type": "execute_result"
    }
   ],
   "source": [
    "dfD = df2\n",
    "dfD"
   ]
  },
  {
   "cell_type": "code",
   "execution_count": 127,
   "id": "18d582d4",
   "metadata": {},
   "outputs": [
    {
     "data": {
      "text/html": [
       "<div>\n",
       "<style scoped>\n",
       "    .dataframe tbody tr th:only-of-type {\n",
       "        vertical-align: middle;\n",
       "    }\n",
       "\n",
       "    .dataframe tbody tr th {\n",
       "        vertical-align: top;\n",
       "    }\n",
       "\n",
       "    .dataframe thead th {\n",
       "        text-align: right;\n",
       "    }\n",
       "</style>\n",
       "<table border=\"1\" class=\"dataframe\">\n",
       "  <thead>\n",
       "    <tr style=\"text-align: right;\">\n",
       "      <th></th>\n",
       "      <th>age</th>\n",
       "      <th>sysbp</th>\n",
       "      <th>diabp</th>\n",
       "      <th>chol</th>\n",
       "    </tr>\n",
       "  </thead>\n",
       "  <tbody>\n",
       "    <tr>\n",
       "      <th>0</th>\n",
       "      <td>77.196340</td>\n",
       "      <td>85.288742</td>\n",
       "      <td>80.021878</td>\n",
       "      <td>79.957109</td>\n",
       "    </tr>\n",
       "    <tr>\n",
       "      <th>1</th>\n",
       "      <td>63.529850</td>\n",
       "      <td>99.379736</td>\n",
       "      <td>84.852361</td>\n",
       "      <td>110.382411</td>\n",
       "    </tr>\n",
       "    <tr>\n",
       "      <th>2</th>\n",
       "      <td>69.003986</td>\n",
       "      <td>111.349455</td>\n",
       "      <td>109.850616</td>\n",
       "      <td>100.828246</td>\n",
       "    </tr>\n",
       "    <tr>\n",
       "      <th>3</th>\n",
       "      <td>82.638210</td>\n",
       "      <td>95.056128</td>\n",
       "      <td>79.666851</td>\n",
       "      <td>87.066303</td>\n",
       "    </tr>\n",
       "    <tr>\n",
       "      <th>4</th>\n",
       "      <td>78.346286</td>\n",
       "      <td>109.154591</td>\n",
       "      <td>90.713220</td>\n",
       "      <td>92.511770</td>\n",
       "    </tr>\n",
       "    <tr>\n",
       "      <th>...</th>\n",
       "      <td>...</td>\n",
       "      <td>...</td>\n",
       "      <td>...</td>\n",
       "      <td>...</td>\n",
       "    </tr>\n",
       "    <tr>\n",
       "      <th>5995</th>\n",
       "      <td>49.611850</td>\n",
       "      <td>94.857639</td>\n",
       "      <td>86.615671</td>\n",
       "      <td>107.643986</td>\n",
       "    </tr>\n",
       "    <tr>\n",
       "      <th>5996</th>\n",
       "      <td>63.099686</td>\n",
       "      <td>100.039527</td>\n",
       "      <td>93.515186</td>\n",
       "      <td>104.971404</td>\n",
       "    </tr>\n",
       "    <tr>\n",
       "      <th>5997</th>\n",
       "      <td>55.562243</td>\n",
       "      <td>98.421446</td>\n",
       "      <td>102.697875</td>\n",
       "      <td>120.875951</td>\n",
       "    </tr>\n",
       "    <tr>\n",
       "      <th>5998</th>\n",
       "      <td>63.468956</td>\n",
       "      <td>106.809289</td>\n",
       "      <td>88.060631</td>\n",
       "      <td>106.052213</td>\n",
       "    </tr>\n",
       "    <tr>\n",
       "      <th>5999</th>\n",
       "      <td>62.506825</td>\n",
       "      <td>96.900784</td>\n",
       "      <td>86.878033</td>\n",
       "      <td>108.625436</td>\n",
       "    </tr>\n",
       "  </tbody>\n",
       "</table>\n",
       "<p>6000 rows × 4 columns</p>\n",
       "</div>"
      ],
      "text/plain": [
       "            age       sysbp       diabp        chol\n",
       "0     77.196340   85.288742   80.021878   79.957109\n",
       "1     63.529850   99.379736   84.852361  110.382411\n",
       "2     69.003986  111.349455  109.850616  100.828246\n",
       "3     82.638210   95.056128   79.666851   87.066303\n",
       "4     78.346286  109.154591   90.713220   92.511770\n",
       "...         ...         ...         ...         ...\n",
       "5995  49.611850   94.857639   86.615671  107.643986\n",
       "5996  63.099686  100.039527   93.515186  104.971404\n",
       "5997  55.562243   98.421446  102.697875  120.875951\n",
       "5998  63.468956  106.809289   88.060631  106.052213\n",
       "5999  62.506825   96.900784   86.878033  108.625436\n",
       "\n",
       "[6000 rows x 4 columns]"
      ]
     },
     "execution_count": 127,
     "metadata": {},
     "output_type": "execute_result"
    }
   ],
   "source": [
    "E = dfD.drop('prog',axis=1)\n",
    "F = dfD['prog']\n",
    "E"
   ]
  },
  {
   "cell_type": "code",
   "execution_count": 128,
   "id": "0e4aa9e8",
   "metadata": {},
   "outputs": [
    {
     "data": {
      "text/plain": [
       "0       1\n",
       "1       1\n",
       "2       1\n",
       "3       1\n",
       "4       1\n",
       "       ..\n",
       "5995    0\n",
       "5996    1\n",
       "5997    1\n",
       "5998    1\n",
       "5999    0\n",
       "Name: prog, Length: 6000, dtype: int32"
      ]
     },
     "execution_count": 128,
     "metadata": {},
     "output_type": "execute_result"
    }
   ],
   "source": [
    "F"
   ]
  },
  {
   "cell_type": "code",
   "execution_count": 129,
   "id": "fe1cae12",
   "metadata": {},
   "outputs": [],
   "source": [
    "# Splitting data into train & test\n",
    "Etrain, Etest, Ftrain, Ftest = train_test_split(E, F, test_size=0.20, random_state=0)"
   ]
  },
  {
   "cell_type": "code",
   "execution_count": 130,
   "id": "08aa3b43",
   "metadata": {},
   "outputs": [],
   "source": [
    "from sklearn.tree import  DecisionTreeClassifier\n",
    "from sklearn import tree\n",
    "from sklearn.metrics import classification_report\n",
    "from sklearn import preprocessing"
   ]
  },
  {
   "cell_type": "code",
   "execution_count": 131,
   "id": "9082b90b",
   "metadata": {},
   "outputs": [
    {
     "data": {
      "text/plain": [
       "DecisionTreeClassifier(criterion='entropy', max_depth=3)"
      ]
     },
     "execution_count": 131,
     "metadata": {},
     "output_type": "execute_result"
    }
   ],
   "source": [
    "model6=DecisionTreeClassifier(criterion = 'entropy',max_depth=3)\n",
    "model6.fit(Etrain,Ftrain)"
   ]
  },
  {
   "cell_type": "code",
   "execution_count": 132,
   "id": "e4c465e9",
   "metadata": {},
   "outputs": [],
   "source": [
    "DECPRED =model6.predict(Etest)"
   ]
  },
  {
   "cell_type": "code",
   "execution_count": 133,
   "id": "359e0f4d",
   "metadata": {},
   "outputs": [
    {
     "name": "stdout",
     "output_type": "stream",
     "text": [
      "Train Score is :  0.7191666666666666\n",
      "Test Score is :  0.7308333333333333\n"
     ]
    }
   ],
   "source": [
    "print('Train Score is : ' ,model6.score(Etrain, Ftrain))\n",
    "print('Test Score is : ' ,model6.score(Etest, Ftest))"
   ]
  },
  {
   "cell_type": "code",
   "execution_count": 134,
   "id": "08c275f2",
   "metadata": {},
   "outputs": [
    {
     "data": {
      "text/plain": [
       "<bound method IndexOpsMixin.value_counts of 0       1\n",
       "1       0\n",
       "2       1\n",
       "3       1\n",
       "4       1\n",
       "       ..\n",
       "1195    1\n",
       "1196    1\n",
       "1197    0\n",
       "1198    1\n",
       "1199    1\n",
       "Length: 1200, dtype: int32>"
      ]
     },
     "execution_count": 134,
     "metadata": {},
     "output_type": "execute_result"
    }
   ],
   "source": [
    "pd.Series(DECPRED).value_counts"
   ]
  },
  {
   "cell_type": "code",
   "execution_count": 135,
   "id": "7c8ee2b6",
   "metadata": {
    "scrolled": true
   },
   "outputs": [
    {
     "data": {
      "text/plain": [
       "73.08333333333333"
      ]
     },
     "execution_count": 135,
     "metadata": {},
     "output_type": "execute_result"
    }
   ],
   "source": [
    "np.mean(DECPRED==Ftest)*100 "
   ]
  },
  {
   "cell_type": "code",
   "execution_count": 136,
   "id": "cf9ea6fc",
   "metadata": {},
   "outputs": [
    {
     "name": "stdout",
     "output_type": "stream",
     "text": [
      "              precision    recall  f1-score   support\n",
      "\n",
      "           0       0.76      0.71      0.74       633\n",
      "           1       0.70      0.75      0.72       567\n",
      "\n",
      "    accuracy                           0.73      1200\n",
      "   macro avg       0.73      0.73      0.73      1200\n",
      "weighted avg       0.73      0.73      0.73      1200\n",
      "\n"
     ]
    }
   ],
   "source": [
    "print(classification_report(DECPRED,Ftest))"
   ]
  },
  {
   "cell_type": "code",
   "execution_count": 137,
   "id": "c4e39fa5",
   "metadata": {},
   "outputs": [
    {
     "data": {
      "image/png": "[encoded data removed]",
      "text/plain": [
       "<Figure size 1200x1200 with 1 Axes>"
      ]
     },
     "metadata": {},
     "output_type": "display_data"
    }
   ],
   "source": [
    "fn=['age','sysbp','diabp','chol']\n",
    "cn=['1', '0']\n",
    "fig, axes = plt.subplots(nrows = 1,ncols = 1,figsize = (4,4), dpi=300)\n",
    "tree.plot_tree(model6,\n",
    "               feature_names = fn, \n",
    "               class_names=cn,\n",
    "               filled = False);"
   ]
  },
  {
   "cell_type": "markdown",
   "id": "14202e4b",
   "metadata": {},
   "source": [
    "# RANDOM FOREST CLASSIFIER"
   ]
  },
  {
   "cell_type": "code",
   "execution_count": 138,
   "id": "7a055f3b",
   "metadata": {},
   "outputs": [],
   "source": [
    "from sklearn.model_selection import KFold\n",
    "from sklearn.ensemble import RandomForestClassifier\n",
    "from sklearn import datasets, linear_model\n",
    "from sklearn.model_selection import cross_val_score"
   ]
  },
  {
   "cell_type": "code",
   "execution_count": 139,
   "id": "18656836",
   "metadata": {
    "scrolled": false
   },
   "outputs": [
    {
     "name": "stdout",
     "output_type": "stream",
     "text": [
      "0.732\n"
     ]
    }
   ],
   "source": [
    "Kfold =    KFold(n_splits=10)\n",
    "modelrfc =   RandomForestClassifier(n_estimators=100,max_features=3)\n",
    "resultsrfc=   cross_val_score(modelrfc,E,F,cv=Kfold)\n",
    "print(resultsrfc.mean())                            "
   ]
  },
  {
   "cell_type": "code",
   "execution_count": 140,
   "id": "48ae6fd6",
   "metadata": {},
   "outputs": [
    {
     "data": {
      "text/plain": [
       "RandomForestClassifier(max_features=3)"
      ]
     },
     "execution_count": 140,
     "metadata": {},
     "output_type": "execute_result"
    }
   ],
   "source": [
    "modelrfc.fit(Etrain, Ftrain)"
   ]
  },
  {
   "cell_type": "code",
   "execution_count": 141,
   "id": "f4d05d35",
   "metadata": {},
   "outputs": [],
   "source": [
    "rfc_pred = modelrfc.predict(Etest)"
   ]
  },
  {
   "cell_type": "code",
   "execution_count": 142,
   "id": "f174a67d",
   "metadata": {},
   "outputs": [
    {
     "name": "stdout",
     "output_type": "stream",
     "text": [
      "Train Score is :  1.0\n",
      "Test Score is :  0.7333333333333333\n"
     ]
    }
   ],
   "source": [
    "print('Train Score is : ' ,modelrfc.score(Etrain, Ftrain))\n",
    "print('Test Score is : ' ,modelrfc.score(Etest, Ftest))"
   ]
  },
  {
   "cell_type": "code",
   "execution_count": 143,
   "id": "c7fbd385",
   "metadata": {},
   "outputs": [],
   "source": [
    "model_gini = DecisionTreeClassifier(criterion='gini', max_depth=3)"
   ]
  },
  {
   "cell_type": "code",
   "execution_count": 144,
   "id": "65972746",
   "metadata": {},
   "outputs": [
    {
     "data": {
      "text/plain": [
       "DecisionTreeClassifier(max_depth=3)"
      ]
     },
     "execution_count": 144,
     "metadata": {},
     "output_type": "execute_result"
    }
   ],
   "source": [
    "model_gini.fit(Etrain, Ftrain)"
   ]
  },
  {
   "cell_type": "code",
   "execution_count": 145,
   "id": "269030a4",
   "metadata": {},
   "outputs": [
    {
     "data": {
      "text/plain": [
       "0.7308333333333333"
      ]
     },
     "execution_count": 145,
     "metadata": {},
     "output_type": "execute_result"
    }
   ],
   "source": [
    "#Prediction and computing the accuracy\n",
    "predrfc=model_gini.predict(Etest)\n",
    "np.mean(DECPRED==Ftest)                   "
   ]
  },
  {
   "cell_type": "markdown",
   "id": "4afdb123",
   "metadata": {},
   "source": [
    "# DECISION TREE WITH STANDARDISED VALUES\n"
   ]
  },
  {
   "cell_type": "code",
   "execution_count": 146,
   "id": "118e3c65",
   "metadata": {
    "scrolled": true
   },
   "outputs": [
    {
     "data": {
      "text/html": [
       "<div>\n",
       "<style scoped>\n",
       "    .dataframe tbody tr th:only-of-type {\n",
       "        vertical-align: middle;\n",
       "    }\n",
       "\n",
       "    .dataframe tbody tr th {\n",
       "        vertical-align: top;\n",
       "    }\n",
       "\n",
       "    .dataframe thead th {\n",
       "        text-align: right;\n",
       "    }\n",
       "</style>\n",
       "<table border=\"1\" class=\"dataframe\">\n",
       "  <thead>\n",
       "    <tr style=\"text-align: right;\">\n",
       "      <th></th>\n",
       "      <th>age</th>\n",
       "      <th>sysbp</th>\n",
       "      <th>diabp</th>\n",
       "      <th>chol</th>\n",
       "    </tr>\n",
       "  </thead>\n",
       "  <tbody>\n",
       "    <tr>\n",
       "      <th>0</th>\n",
       "      <td>1.987803</td>\n",
       "      <td>-1.457585</td>\n",
       "      <td>-1.094761</td>\n",
       "      <td>-2.003609</td>\n",
       "    </tr>\n",
       "    <tr>\n",
       "      <th>1</th>\n",
       "      <td>0.368091</td>\n",
       "      <td>-0.121084</td>\n",
       "      <td>-0.588848</td>\n",
       "      <td>0.951463</td>\n",
       "    </tr>\n",
       "    <tr>\n",
       "      <th>2</th>\n",
       "      <td>1.016869</td>\n",
       "      <td>1.014219</td>\n",
       "      <td>2.029306</td>\n",
       "      <td>0.023510</td>\n",
       "    </tr>\n",
       "    <tr>\n",
       "      <th>3</th>\n",
       "      <td>2.632758</td>\n",
       "      <td>-0.531169</td>\n",
       "      <td>-1.131944</td>\n",
       "      <td>-1.313126</td>\n",
       "    </tr>\n",
       "    <tr>\n",
       "      <th>4</th>\n",
       "      <td>2.124091</td>\n",
       "      <td>0.806041</td>\n",
       "      <td>0.024980</td>\n",
       "      <td>-0.784232</td>\n",
       "    </tr>\n",
       "    <tr>\n",
       "      <th>...</th>\n",
       "      <td>...</td>\n",
       "      <td>...</td>\n",
       "      <td>...</td>\n",
       "      <td>...</td>\n",
       "    </tr>\n",
       "    <tr>\n",
       "      <th>5995</th>\n",
       "      <td>-1.281430</td>\n",
       "      <td>-0.549995</td>\n",
       "      <td>-0.404170</td>\n",
       "      <td>0.685492</td>\n",
       "    </tr>\n",
       "    <tr>\n",
       "      <th>5996</th>\n",
       "      <td>0.317109</td>\n",
       "      <td>-0.058504</td>\n",
       "      <td>0.318440</td>\n",
       "      <td>0.425916</td>\n",
       "    </tr>\n",
       "    <tr>\n",
       "      <th>5997</th>\n",
       "      <td>-0.576207</td>\n",
       "      <td>-0.211976</td>\n",
       "      <td>1.280174</td>\n",
       "      <td>1.970653</td>\n",
       "    </tr>\n",
       "    <tr>\n",
       "      <th>5998</th>\n",
       "      <td>0.360874</td>\n",
       "      <td>0.583594</td>\n",
       "      <td>-0.252835</td>\n",
       "      <td>0.530890</td>\n",
       "    </tr>\n",
       "    <tr>\n",
       "      <th>5999</th>\n",
       "      <td>0.246845</td>\n",
       "      <td>-0.356207</td>\n",
       "      <td>-0.376692</td>\n",
       "      <td>0.780816</td>\n",
       "    </tr>\n",
       "  </tbody>\n",
       "</table>\n",
       "<p>6000 rows × 4 columns</p>\n",
       "</div>"
      ],
      "text/plain": [
       "           age     sysbp     diabp      chol\n",
       "0     1.987803 -1.457585 -1.094761 -2.003609\n",
       "1     0.368091 -0.121084 -0.588848  0.951463\n",
       "2     1.016869  1.014219  2.029306  0.023510\n",
       "3     2.632758 -0.531169 -1.131944 -1.313126\n",
       "4     2.124091  0.806041  0.024980 -0.784232\n",
       "...        ...       ...       ...       ...\n",
       "5995 -1.281430 -0.549995 -0.404170  0.685492\n",
       "5996  0.317109 -0.058504  0.318440  0.425916\n",
       "5997 -0.576207 -0.211976  1.280174  1.970653\n",
       "5998  0.360874  0.583594 -0.252835  0.530890\n",
       "5999  0.246845 -0.356207 -0.376692  0.780816\n",
       "\n",
       "[6000 rows x 4 columns]"
      ]
     },
     "execution_count": 146,
     "metadata": {},
     "output_type": "execute_result"
    }
   ],
   "source": [
    "std"
   ]
  },
  {
   "cell_type": "code",
   "execution_count": 147,
   "id": "83cba75d",
   "metadata": {},
   "outputs": [],
   "source": [
    "decstd = std"
   ]
  },
  {
   "cell_type": "code",
   "execution_count": 148,
   "id": "cd190fd0",
   "metadata": {},
   "outputs": [
    {
     "data": {
      "text/html": [
       "<div>\n",
       "<style scoped>\n",
       "    .dataframe tbody tr th:only-of-type {\n",
       "        vertical-align: middle;\n",
       "    }\n",
       "\n",
       "    .dataframe tbody tr th {\n",
       "        vertical-align: top;\n",
       "    }\n",
       "\n",
       "    .dataframe thead th {\n",
       "        text-align: right;\n",
       "    }\n",
       "</style>\n",
       "<table border=\"1\" class=\"dataframe\">\n",
       "  <thead>\n",
       "    <tr style=\"text-align: right;\">\n",
       "      <th></th>\n",
       "      <th>age</th>\n",
       "      <th>sysbp</th>\n",
       "      <th>diabp</th>\n",
       "      <th>chol</th>\n",
       "    </tr>\n",
       "  </thead>\n",
       "  <tbody>\n",
       "    <tr>\n",
       "      <th>0</th>\n",
       "      <td>1.987803</td>\n",
       "      <td>-1.457585</td>\n",
       "      <td>-1.094761</td>\n",
       "      <td>-2.003609</td>\n",
       "    </tr>\n",
       "    <tr>\n",
       "      <th>1</th>\n",
       "      <td>0.368091</td>\n",
       "      <td>-0.121084</td>\n",
       "      <td>-0.588848</td>\n",
       "      <td>0.951463</td>\n",
       "    </tr>\n",
       "    <tr>\n",
       "      <th>2</th>\n",
       "      <td>1.016869</td>\n",
       "      <td>1.014219</td>\n",
       "      <td>2.029306</td>\n",
       "      <td>0.023510</td>\n",
       "    </tr>\n",
       "    <tr>\n",
       "      <th>3</th>\n",
       "      <td>2.632758</td>\n",
       "      <td>-0.531169</td>\n",
       "      <td>-1.131944</td>\n",
       "      <td>-1.313126</td>\n",
       "    </tr>\n",
       "    <tr>\n",
       "      <th>4</th>\n",
       "      <td>2.124091</td>\n",
       "      <td>0.806041</td>\n",
       "      <td>0.024980</td>\n",
       "      <td>-0.784232</td>\n",
       "    </tr>\n",
       "    <tr>\n",
       "      <th>...</th>\n",
       "      <td>...</td>\n",
       "      <td>...</td>\n",
       "      <td>...</td>\n",
       "      <td>...</td>\n",
       "    </tr>\n",
       "    <tr>\n",
       "      <th>5995</th>\n",
       "      <td>-1.281430</td>\n",
       "      <td>-0.549995</td>\n",
       "      <td>-0.404170</td>\n",
       "      <td>0.685492</td>\n",
       "    </tr>\n",
       "    <tr>\n",
       "      <th>5996</th>\n",
       "      <td>0.317109</td>\n",
       "      <td>-0.058504</td>\n",
       "      <td>0.318440</td>\n",
       "      <td>0.425916</td>\n",
       "    </tr>\n",
       "    <tr>\n",
       "      <th>5997</th>\n",
       "      <td>-0.576207</td>\n",
       "      <td>-0.211976</td>\n",
       "      <td>1.280174</td>\n",
       "      <td>1.970653</td>\n",
       "    </tr>\n",
       "    <tr>\n",
       "      <th>5998</th>\n",
       "      <td>0.360874</td>\n",
       "      <td>0.583594</td>\n",
       "      <td>-0.252835</td>\n",
       "      <td>0.530890</td>\n",
       "    </tr>\n",
       "    <tr>\n",
       "      <th>5999</th>\n",
       "      <td>0.246845</td>\n",
       "      <td>-0.356207</td>\n",
       "      <td>-0.376692</td>\n",
       "      <td>0.780816</td>\n",
       "    </tr>\n",
       "  </tbody>\n",
       "</table>\n",
       "<p>6000 rows × 4 columns</p>\n",
       "</div>"
      ],
      "text/plain": [
       "           age     sysbp     diabp      chol\n",
       "0     1.987803 -1.457585 -1.094761 -2.003609\n",
       "1     0.368091 -0.121084 -0.588848  0.951463\n",
       "2     1.016869  1.014219  2.029306  0.023510\n",
       "3     2.632758 -0.531169 -1.131944 -1.313126\n",
       "4     2.124091  0.806041  0.024980 -0.784232\n",
       "...        ...       ...       ...       ...\n",
       "5995 -1.281430 -0.549995 -0.404170  0.685492\n",
       "5996  0.317109 -0.058504  0.318440  0.425916\n",
       "5997 -0.576207 -0.211976  1.280174  1.970653\n",
       "5998  0.360874  0.583594 -0.252835  0.530890\n",
       "5999  0.246845 -0.356207 -0.376692  0.780816\n",
       "\n",
       "[6000 rows x 4 columns]"
      ]
     },
     "execution_count": 148,
     "metadata": {},
     "output_type": "execute_result"
    }
   ],
   "source": [
    "decsE= decstd\n",
    "decsF= F\n",
    "decsE"
   ]
  },
  {
   "cell_type": "code",
   "execution_count": 149,
   "id": "23f10487",
   "metadata": {
    "scrolled": true
   },
   "outputs": [
    {
     "data": {
      "text/plain": [
       "0       1\n",
       "1       1\n",
       "2       1\n",
       "3       1\n",
       "4       1\n",
       "       ..\n",
       "5995    0\n",
       "5996    1\n",
       "5997    1\n",
       "5998    1\n",
       "5999    0\n",
       "Name: prog, Length: 6000, dtype: int32"
      ]
     },
     "execution_count": 149,
     "metadata": {},
     "output_type": "execute_result"
    }
   ],
   "source": [
    "decsF"
   ]
  },
  {
   "cell_type": "code",
   "execution_count": 150,
   "id": "515a99f9",
   "metadata": {},
   "outputs": [],
   "source": [
    "# Splitting data into train & test\n",
    "decsEtrain, decsEtest, decsFtrain, decsFtest = train_test_split(decsE, decsF, test_size=0.2, random_state=0)"
   ]
  },
  {
   "cell_type": "code",
   "execution_count": 151,
   "id": "3540c472",
   "metadata": {},
   "outputs": [
    {
     "data": {
      "text/plain": [
       "DecisionTreeClassifier(criterion='entropy', max_depth=3)"
      ]
     },
     "execution_count": 151,
     "metadata": {},
     "output_type": "execute_result"
    }
   ],
   "source": [
    "model67=DecisionTreeClassifier(criterion = 'entropy',max_depth=3)\n",
    "model67.fit(decsEtrain,decsFtrain)"
   ]
  },
  {
   "cell_type": "code",
   "execution_count": 152,
   "id": "851c52b8",
   "metadata": {},
   "outputs": [],
   "source": [
    "decs =model67.predict(decsEtest)"
   ]
  },
  {
   "cell_type": "code",
   "execution_count": 153,
   "id": "eb3f1947",
   "metadata": {},
   "outputs": [
    {
     "name": "stdout",
     "output_type": "stream",
     "text": [
      "Train Score is :  0.7191666666666666\n",
      "Test Score is :  0.7308333333333333\n"
     ]
    }
   ],
   "source": [
    "print('Train Score is : ' ,model67.score(decsEtrain, decsFtrain))\n",
    "print('Test Score is : ' ,model67.score(decsEtest,decsFtest))"
   ]
  },
  {
   "cell_type": "code",
   "execution_count": 154,
   "id": "7beec231",
   "metadata": {},
   "outputs": [
    {
     "data": {
      "text/plain": [
       "<bound method IndexOpsMixin.value_counts of 0       1\n",
       "1       0\n",
       "2       1\n",
       "3       1\n",
       "4       1\n",
       "       ..\n",
       "1195    1\n",
       "1196    1\n",
       "1197    0\n",
       "1198    1\n",
       "1199    1\n",
       "Length: 1200, dtype: int32>"
      ]
     },
     "execution_count": 154,
     "metadata": {},
     "output_type": "execute_result"
    }
   ],
   "source": [
    "pd.Series(decs).value_counts"
   ]
  },
  {
   "cell_type": "code",
   "execution_count": 155,
   "id": "814717c3",
   "metadata": {},
   "outputs": [
    {
     "data": {
      "text/plain": [
       "73.08333333333333"
      ]
     },
     "execution_count": 155,
     "metadata": {},
     "output_type": "execute_result"
    }
   ],
   "source": [
    "np.mean(decs==decsFtest)*100    "
   ]
  },
  {
   "cell_type": "code",
   "execution_count": 156,
   "id": "060c76ae",
   "metadata": {},
   "outputs": [
    {
     "name": "stdout",
     "output_type": "stream",
     "text": [
      "              precision    recall  f1-score   support\n",
      "\n",
      "           0       0.76      0.71      0.74       633\n",
      "           1       0.70      0.75      0.72       567\n",
      "\n",
      "    accuracy                           0.73      1200\n",
      "   macro avg       0.73      0.73      0.73      1200\n",
      "weighted avg       0.73      0.73      0.73      1200\n",
      "\n"
     ]
    }
   ],
   "source": [
    "print(classification_report(decs,decsFtest))"
   ]
  },
  {
   "cell_type": "code",
   "execution_count": 157,
   "id": "4f82b2e0",
   "metadata": {},
   "outputs": [],
   "source": [
    "model_gini2 = DecisionTreeClassifier(criterion='gini', max_depth=3)"
   ]
  },
  {
   "cell_type": "code",
   "execution_count": 158,
   "id": "a1d9ac57",
   "metadata": {},
   "outputs": [
    {
     "data": {
      "text/plain": [
       "DecisionTreeClassifier(max_depth=3)"
      ]
     },
     "execution_count": 158,
     "metadata": {},
     "output_type": "execute_result"
    }
   ],
   "source": [
    "model_gini2.fit(decsEtrain, decsFtrain)"
   ]
  },
  {
   "cell_type": "code",
   "execution_count": 159,
   "id": "93fd0fbc",
   "metadata": {},
   "outputs": [
    {
     "data": {
      "text/plain": [
       "0.7308333333333333"
      ]
     },
     "execution_count": 159,
     "metadata": {},
     "output_type": "execute_result"
    }
   ],
   "source": [
    "#Prediction and computing the accuracy\n",
    "predsgini2=model67.predict(decsEtest)\n",
    "np.mean(predsgini2== decsFtest)             "
   ]
  },
  {
   "cell_type": "markdown",
   "id": "ce3f6891",
   "metadata": {},
   "source": [
    "# ENSEMBLE TECHNIQUES"
   ]
  },
  {
   "cell_type": "markdown",
   "id": "8923f98f",
   "metadata": {},
   "source": [
    "# Bagged Decision Trees for Classification"
   ]
  },
  {
   "cell_type": "code",
   "execution_count": 160,
   "id": "84857ce1",
   "metadata": {},
   "outputs": [
    {
     "name": "stdout",
     "output_type": "stream",
     "text": [
      "0.7311666666666666\n"
     ]
    }
   ],
   "source": [
    "from pandas import read_csv\n",
    "from sklearn.model_selection import KFold\n",
    "from sklearn.model_selection import cross_val_score\n",
    "from sklearn.ensemble import BaggingClassifier\n",
    "from sklearn.tree import DecisionTreeClassifier\n",
    "filename = \"pronostico_dataset seperated.csv\"\n",
    "\n",
    "names = ['age''systolic_bp''diastolic_bp''cholesterol''prognosis']\n",
    "dataframe = read_csv(filename, names=names)\n",
    "array = dataframe.values\n",
    "EN =dfL.drop('prog',axis=1)\n",
    "TEC = dfL['prog']\n",
    "seed = 4\n",
    "\n",
    "kfold = KFold(n_splits=10)\n",
    "cart = DecisionTreeClassifier()\n",
    "num_trees = 100\n",
    "modelENTEC = BaggingClassifier(base_estimator=cart, n_estimators=num_trees, random_state=7)\n",
    "resultsBDT = cross_val_score(modelENTEC, EN, TEC, cv=kfold)\n",
    "print(resultsBDT.mean())"
   ]
  },
  {
   "cell_type": "code",
   "execution_count": 161,
   "id": "b929bc7a",
   "metadata": {},
   "outputs": [
    {
     "data": {
      "text/plain": [
       "array([0.71      , 0.71833333, 0.74333333, 0.72833333, 0.73833333,\n",
       "       0.73      , 0.73166667, 0.72833333, 0.755     , 0.72833333])"
      ]
     },
     "execution_count": 161,
     "metadata": {},
     "output_type": "execute_result"
    }
   ],
   "source": [
    "resultsBDT"
   ]
  },
  {
   "cell_type": "markdown",
   "id": "4fd3e2e0",
   "metadata": {},
   "source": [
    "# Random Forest Classification"
   ]
  },
  {
   "cell_type": "code",
   "execution_count": 162,
   "id": "1c2e785f",
   "metadata": {},
   "outputs": [
    {
     "name": "stdout",
     "output_type": "stream",
     "text": [
      "0.7298333333333333\n"
     ]
    }
   ],
   "source": [
    "from pandas import read_csv\n",
    "from sklearn.model_selection import KFold\n",
    "from sklearn.model_selection import cross_val_score\n",
    "from sklearn.ensemble import RandomForestClassifier\n",
    "\n",
    "RA =dfL.drop('prog',axis=1)\n",
    "FO = dfL['prog']\n",
    "num_trees = 100\n",
    "max_features = 3\n",
    "kfold = KFold(n_splits=10, random_state=None)\n",
    "modelRF = RandomForestClassifier(n_estimators=num_trees, max_features=max_features)\n",
    "resultsRF = cross_val_score(modelRF,RA,FO, cv=kfold)\n",
    "print(resultsRF.mean())"
   ]
  },
  {
   "cell_type": "markdown",
   "id": "c8ffc8c6",
   "metadata": {},
   "source": [
    "# AdaBoost Classification"
   ]
  },
  {
   "cell_type": "code",
   "execution_count": 163,
   "id": "52f7f213",
   "metadata": {},
   "outputs": [
    {
     "name": "stdout",
     "output_type": "stream",
     "text": [
      "0.7266666666666668\n"
     ]
    }
   ],
   "source": [
    "from pandas import read_csv\n",
    "from sklearn.model_selection import KFold\n",
    "from sklearn.model_selection import cross_val_score\n",
    "from sklearn.ensemble import AdaBoostClassifier\n",
    "filename = \"pronostico_dataset seperated.csv\"\n",
    "\n",
    "names = ['age''systolic_bp''diastolic_bp''cholesterol''prognosis']\n",
    "dataframe = read_csv(filename, names=names)\n",
    "array = dataframe.values\n",
    "\n",
    "AD=dfL.drop('prog',axis=1)\n",
    "BO = dfL['prog']\n",
    "\n",
    "num_trees = 10\n",
    "seed=7\n",
    "kfold = KFold(n_splits=10, random_state=None)\n",
    "modelADBO = AdaBoostClassifier(n_estimators=num_trees, random_state=seed)\n",
    "resultsADBO = cross_val_score(modelADBO,AD,BO, cv=kfold)\n",
    "print(resultsADBO.mean())\n"
   ]
  },
  {
   "cell_type": "markdown",
   "id": "b7d2a459",
   "metadata": {},
   "source": [
    "# Stacking Ensemble for Classification"
   ]
  },
  {
   "cell_type": "code",
   "execution_count": 164,
   "id": "b7f8f212",
   "metadata": {
    "scrolled": true
   },
   "outputs": [
    {
     "name": "stdout",
     "output_type": "stream",
     "text": [
      "0.7476666666666667\n"
     ]
    }
   ],
   "source": [
    "from pandas import read_csv\n",
    "from sklearn.model_selection import KFold\n",
    "from sklearn.model_selection import cross_val_score\n",
    "from sklearn.linear_model import LogisticRegression\n",
    "from sklearn.tree import DecisionTreeClassifier\n",
    "from sklearn.svm import SVC\n",
    "from sklearn.ensemble import VotingClassifier\n",
    "filename = \"pronostico_dataset seperated.csv\"\n",
    "\n",
    "names = ['age''systolic_bp''diastolic_bp''cholesterol''prognosis']\n",
    "dataframe = read_csv(filename, names=names)\n",
    "array = dataframe.values\n",
    "ST=dfL.drop('prog',axis=1)\n",
    "AC = dfL['prog']\n",
    "kfold = KFold(n_splits=10, random_state=None)\n",
    "\n",
    "# create the sub models\n",
    "estimators = []\n",
    "model1 = LogisticRegression(max_iter=500)\n",
    "estimators.append(('logistic', model1))\n",
    "model2 = DecisionTreeClassifier()\n",
    "estimators.append(('cart', model2))\n",
    "model3 = SVC()\n",
    "estimators.append(('svm', model3))\n",
    "\n",
    "# create the ensemble model\n",
    "ensemble = VotingClassifier(estimators)\n",
    "resultsSTAC = cross_val_score(ensemble, ST,AC, cv=kfold)\n",
    "print(resultsSTAC.mean())"
   ]
  },
  {
   "cell_type": "markdown",
   "id": "c9095ab0",
   "metadata": {},
   "source": [
    "# XGBOOSTING "
   ]
  },
  {
   "cell_type": "code",
   "execution_count": 165,
   "id": "00e9de3f",
   "metadata": {},
   "outputs": [],
   "source": [
    "import xgboost\n",
    "from xgboost import XGBClassifier"
   ]
  },
  {
   "cell_type": "code",
   "execution_count": 166,
   "id": "01c05cc0",
   "metadata": {},
   "outputs": [
    {
     "data": {
      "text/plain": [
       "XGBClassifier(base_score=0.5, booster='gbtree', callbacks=None,\n",
       "              colsample_bylevel=1, colsample_bynode=1, colsample_bytree=1,\n",
       "              early_stopping_rounds=None, enable_categorical=False,\n",
       "              eval_metric=None, gamma=0, gpu_id=-1, grow_policy='depthwise',\n",
       "              importance_type=None, interaction_constraints='',\n",
       "              learning_rate=0.300000012, max_bin=256, max_cat_to_onehot=4,\n",
       "              max_delta_step=0, max_depth=3, max_leaves=0, min_child_weight=1,\n",
       "              missing=nan, monotone_constraints='()', n_estimators=10, n_jobs=0,\n",
       "              num_parallel_tree=1, predictor='auto', random_state=0,\n",
       "              reg_alpha=0, reg_lambda=1, ...)"
      ]
     },
     "execution_count": 166,
     "metadata": {},
     "output_type": "execute_result"
    }
   ],
   "source": [
    "modelXGB = XGBClassifier(n_estimators=10,max_depth=3)\n",
    "modelXGB.fit(X_train,y_train)"
   ]
  },
  {
   "cell_type": "code",
   "execution_count": 167,
   "id": "cc546e33",
   "metadata": {},
   "outputs": [
    {
     "data": {
      "text/plain": [
       "array([0.3484365 , 0.25254935, 0.04149293, 0.3575212 ], dtype=float32)"
      ]
     },
     "execution_count": 167,
     "metadata": {},
     "output_type": "execute_result"
    }
   ],
   "source": [
    "modelXGB.feature_importances_"
   ]
  },
  {
   "cell_type": "code",
   "execution_count": 168,
   "id": "376e4ecd",
   "metadata": {},
   "outputs": [],
   "source": [
    "y_predXGB = modelXGB.predict(X_test)"
   ]
  },
  {
   "cell_type": "code",
   "execution_count": 169,
   "id": "ad4aada9",
   "metadata": {},
   "outputs": [
    {
     "data": {
      "text/plain": [
       "array([[1053,  429],\n",
       "       [ 331, 1187]], dtype=int64)"
      ]
     },
     "execution_count": 169,
     "metadata": {},
     "output_type": "execute_result"
    }
   ],
   "source": [
    "from sklearn.metrics import confusion_matrix\n",
    "cmXGB = confusion_matrix(y_test,y_predXGB)\n",
    "cmXGB"
   ]
  },
  {
   "cell_type": "code",
   "execution_count": 170,
   "id": "b313ee4f",
   "metadata": {},
   "outputs": [],
   "source": [
    "from sklearn.metrics import classification_report,accuracy_score"
   ]
  },
  {
   "cell_type": "code",
   "execution_count": 171,
   "id": "cae405f4",
   "metadata": {},
   "outputs": [
    {
     "data": {
      "text/plain": [
       "74.66666666666667"
      ]
     },
     "execution_count": 171,
     "metadata": {},
     "output_type": "execute_result"
    }
   ],
   "source": [
    "accuracy_score(y_test,y_predXGB)*100  "
   ]
  },
  {
   "cell_type": "code",
   "execution_count": 172,
   "id": "8cf2f6b3",
   "metadata": {},
   "outputs": [
    {
     "name": "stdout",
     "output_type": "stream",
     "text": [
      "Train Score is :  0.7596666666666667\n",
      "Test Score is :  0.7466666666666667\n"
     ]
    }
   ],
   "source": [
    "print('Train Score is : ' ,modelXGB.score(X_train,y_train))\n",
    "print('Test Score is : ' ,modelXGB.score(X_test,y_test))"
   ]
  },
  {
   "cell_type": "markdown",
   "id": "cd79687c",
   "metadata": {},
   "source": [
    "# NAIVE BAYES"
   ]
  },
  {
   "cell_type": "code",
   "execution_count": 173,
   "id": "b28a613a",
   "metadata": {},
   "outputs": [],
   "source": [
    "from sklearn.naive_bayes import GaussianNB"
   ]
  },
  {
   "cell_type": "code",
   "execution_count": 174,
   "id": "21879915",
   "metadata": {},
   "outputs": [
    {
     "name": "stdout",
     "output_type": "stream",
     "text": [
      "Accuracy of Naive Bayes: 73.77%\n"
     ]
    }
   ],
   "source": [
    "nb = GaussianNB()\n",
    "nb.fit(X_train,y_train)\n",
    "acc = nb.score( X_test,y_test)*100\n",
    "accuracies = {}\n",
    "accuracies['Naive Bayes'] = acc\n",
    "print(\"Accuracy of Naive Bayes: {:.2f}%\".format(acc))  #72.80%"
   ]
  },
  {
   "cell_type": "code",
   "execution_count": 175,
   "id": "96622aa1",
   "metadata": {},
   "outputs": [
    {
     "data": {
      "text/plain": [
       "73.76666666666667"
      ]
     },
     "execution_count": 175,
     "metadata": {},
     "output_type": "execute_result"
    }
   ],
   "source": [
    "acc"
   ]
  },
  {
   "cell_type": "code",
   "execution_count": 176,
   "id": "f95c6b49",
   "metadata": {},
   "outputs": [
    {
     "name": "stdout",
     "output_type": "stream",
     "text": [
      "Train Score is :  0.7356666666666667\n",
      "Test Score is :  0.7376666666666667\n"
     ]
    }
   ],
   "source": [
    "print('Train Score is : ' ,nb.score(X_train,y_train))\n",
    "print('Test Score is : ' ,nb.score(X_test,y_test))"
   ]
  },
  {
   "cell_type": "markdown",
   "id": "fbd7cbb9",
   "metadata": {},
   "source": [
    "# NAIVE BAYES WITH STANDARDISED VALUES"
   ]
  },
  {
   "cell_type": "code",
   "execution_count": 177,
   "id": "62b5ff07",
   "metadata": {},
   "outputs": [
    {
     "name": "stdout",
     "output_type": "stream",
     "text": [
      "Accuracy of Naive Bayes: 73.77%\n"
     ]
    }
   ],
   "source": [
    "nb1 = GaussianNB()\n",
    "nb1.fit(C_train,D_train)\n",
    "acc1= nb1.score(C_test,D_test)*100\n",
    "accuracies['Naive Bayes'] = acc1\n",
    "print(\"Accuracy of Naive Bayes: {:.2f}%\".format(acc1)) #73.77%"
   ]
  },
  {
   "cell_type": "code",
   "execution_count": 178,
   "id": "018b86c3",
   "metadata": {},
   "outputs": [
    {
     "name": "stdout",
     "output_type": "stream",
     "text": [
      "Train Score is :  0.7356666666666667\n",
      "Test Score is :  0.7376666666666667\n"
     ]
    }
   ],
   "source": [
    "print('Train Score is : ' ,nb1.score(C_train,D_train))\n",
    "print('Test Score is : ' ,nb1.score(C_test,D_test))"
   ]
  },
  {
   "cell_type": "markdown",
   "id": "a7f12aaa",
   "metadata": {},
   "source": [
    "# CROSS VALIDATION SCORE  KNN"
   ]
  },
  {
   "cell_type": "code",
   "execution_count": 179,
   "id": "cb9bb9bd",
   "metadata": {},
   "outputs": [],
   "source": [
    "from sklearn.model_selection import cross_val_score\n",
    "from matplotlib.colors import ListedColormap\n",
    "import warnings \n",
    "warnings.filterwarnings(\"ignore\")\n",
    "import os\n",
    "%matplotlib inline\n",
    "from sklearn.model_selection import train_test_split\n",
    "from sklearn.neighbors import KNeighborsClassifier\n",
    "import os\n",
    "from sklearn.metrics import accuracy_score\n",
    "from sklearn.model_selection import cross_val_score"
   ]
  },
  {
   "cell_type": "code",
   "execution_count": 180,
   "id": "075c200d",
   "metadata": {},
   "outputs": [],
   "source": [
    "#Get cross validation score of K-Nearest Neighbors"
   ]
  },
  {
   "cell_type": "code",
   "execution_count": 181,
   "id": "d6ee6cda",
   "metadata": {},
   "outputs": [],
   "source": [
    "# plotting the decision boundries for the data \n",
    "\n",
    "h = .03  # step size in the mesh\n",
    "n_neighbors = 3 # No of neighbours\n",
    "for weights in ['uniform', 'distance']:\n",
    "    # we create an instance of Neighbours Classifier and fit the data.\n",
    "    clf = KNeighborsClassifier(n_neighbors, weights=weights)\n",
    "    clf.fit(x, y)"
   ]
  },
  {
   "cell_type": "code",
   "execution_count": 182,
   "id": "04309715",
   "metadata": {},
   "outputs": [],
   "source": [
    "cv_scores = []"
   ]
  },
  {
   "cell_type": "code",
   "execution_count": 183,
   "id": "90ea2fc3",
   "metadata": {
    "scrolled": true
   },
   "outputs": [
    {
     "data": {
      "text/plain": [
       "KNeighborsClassifier(n_neighbors=3, weights='distance')"
      ]
     },
     "execution_count": 183,
     "metadata": {},
     "output_type": "execute_result"
    }
   ],
   "source": [
    "clf = KNeighborsClassifier(n_neighbors, weights=weights)\n",
    "clf.fit(x, y)\n"
   ]
  },
  {
   "cell_type": "code",
   "execution_count": 184,
   "id": "dbfcc640",
   "metadata": {},
   "outputs": [],
   "source": [
    "score_knn=cross_val_score(clf, x,y, cv=10)"
   ]
  },
  {
   "cell_type": "code",
   "execution_count": 185,
   "id": "853a836c",
   "metadata": {},
   "outputs": [
    {
     "name": "stdout",
     "output_type": "stream",
     "text": [
      "K-Nearest Neighbors Accuracy: 0.71 (+/- 0.04) with k value equals to 3\n"
     ]
    }
   ],
   "source": [
    "print(\"K-Nearest Neighbors Accuracy: %0.2f (+/- %0.2f) with k value equals to 3\" % (score_knn.mean(), score_knn.std() * 2))"
   ]
  },
  {
   "cell_type": "code",
   "execution_count": 186,
   "id": "4a730e1f",
   "metadata": {},
   "outputs": [],
   "source": [
    "k_values = np.arange(1,20)\n",
    "train_accuracy = []\n",
    "test_accuracy = []"
   ]
  },
  {
   "cell_type": "code",
   "execution_count": 187,
   "id": "91b3898f",
   "metadata": {},
   "outputs": [],
   "source": [
    "for i, k in enumerate(k_values):\n",
    "    # k from 1 to 20(exclude)\n",
    "    knn = KNeighborsClassifier(n_neighbors=k)\n",
    "    # Fit with knn\n",
    "    knn.fit(X_train,y_train)\n",
    "    #train accuracy\n",
    "    train_accuracy.append(knn.score(X_train, y_train))\n",
    "    # test accuracy\n",
    "    test_accuracy.append(knn.score(X_test, y_test))"
   ]
  },
  {
   "cell_type": "code",
   "execution_count": 188,
   "id": "36801597",
   "metadata": {
    "scrolled": true
   },
   "outputs": [
    {
     "name": "stdout",
     "output_type": "stream",
     "text": [
      "Train Score is :  0.7596666666666667\n",
      "Test Score is :  0.7436666666666667\n"
     ]
    }
   ],
   "source": [
    "print('Train Score is : ' ,knn.score(X_train,y_train))\n",
    "print('Test Score is : ' ,knn.score(X_test,y_test))"
   ]
  },
  {
   "cell_type": "code",
   "execution_count": 189,
   "id": "f7d6347a",
   "metadata": {},
   "outputs": [
    {
     "data": {
      "image/png": "[encoded data removed]",
      "text/plain": [
       "<Figure size 936x576 with 1 Axes>"
      ]
     },
     "metadata": {
      "needs_background": "light"
     },
     "output_type": "display_data"
    },
    {
     "name": "stdout",
     "output_type": "stream",
     "text": [
      "Best accuracy is 0.747 with K = 17\n"
     ]
    }
   ],
   "source": [
    "plt.figure(figsize=[13,8])\n",
    "plt.plot(k_values, test_accuracy, label = 'Testing Accuracy')\n",
    "plt.plot(k_values, train_accuracy, label = 'Training Accuracy')\n",
    "plt.legend()\n",
    "plt.title('K-Values VS Accuracy graph representation')\n",
    "plt.xlabel('Number of Neighbors')\n",
    "plt.ylabel('Accuracy')\n",
    "plt.xticks(k_values)\n",
    "\n",
    "plt.show()\n",
    "print(\"Best accuracy is {} with K = {}\".format(np.max(test_accuracy),1+test_accuracy.index(np.max(test_accuracy))))\n",
    "\n",
    "cv_scores.append(np.max(test_accuracy))  "
   ]
  },
  {
   "cell_type": "markdown",
   "id": "a45afc7f",
   "metadata": {},
   "source": [
    "# Tuning of Hyperparameters :- Batch Size and Epochs"
   ]
  },
  {
   "cell_type": "code",
   "execution_count": 190,
   "id": "4b32bc73",
   "metadata": {},
   "outputs": [],
   "source": [
    "#output \n",
    "\n",
    "#Best : 0.7471666693687439, using {'batch_size': 10, 'epochs': 10}\n",
    "\n",
    "#0.7471666693687439,0.010227947574237293 with: {'batch_size': 10, 'epochs': 10}\n",
    "#0.7420000076293946,0.009755331114356993 with: {'batch_size': 10, 'epochs': 50}\n",
    "#0.740666675567627,0.006177911772562141 with: {'batch_size': 10, 'epochs': 100}\n",
    "#0.7425000071525574,0.01208763138197124 with: {'batch_size': 10, 'epochs': 150}\n",
    "#0.747000002861023,0.01133577323810853 with: {'batch_size': 20, 'epochs': 10}\n",
    "#0.7441666722297668,0.008611998908792537 with: {'batch_size': 20, 'epochs': 50}\n",
    "#0.7430000066757202,0.010389621675347668 with: {'batch_size': 20, 'epochs': 100}\n",
    "#0.7431666731834412,0.008373229806045154 with: {'batch_size': 20, 'epochs': 150}\n",
    "#0.747000002861023,0.011286657871752015 with: {'batch_size': 40, 'epochs': 10}\n",
    "#0.7465000033378602,0.00740494623526058 with: {'batch_size': 40, 'epochs': 50}\n",
    "#0.7413333415985107,0.009153011416163757 with: {'batch_size': 40, 'epochs': 100}\n",
    "#0.7431666731834412,0.0019293043105353134 with: {'batch_size': 40, 'epochs': 150}"
   ]
  },
  {
   "cell_type": "markdown",
   "id": "c512042c",
   "metadata": {},
   "source": [
    "# Tuning of Hyperparameters:- Learning rate and Drop out rate"
   ]
  },
  {
   "cell_type": "code",
   "execution_count": 191,
   "id": "9309790b",
   "metadata": {},
   "outputs": [],
   "source": [
    "#OUTPUT\n",
    "\n",
    "#Best : 0.7493333339691162, using {'dropout_rate': 0.2, 'learning_rate': 0.001}\n",
    "\n",
    "#0.747000002861023,0.010429648618277176 with: {'dropout_rate': 0.0, 'learning_rate': 0.001}\n",
    "#0.7443333387374877,0.010292921954991669 with: {'dropout_rate': 0.0, 'learning_rate': 0.01}\n",
    "#0.7390000104904175,0.01195360265150603 with: {'dropout_rate': 0.0, 'learning_rate': 0.1}\n",
    "#0.7478333353996277,0.01022794757423729 with: {'dropout_rate': 0.1, 'learning_rate': 0.001}\n",
    "#0.7455000042915344,0.010705647692123503 with: {'dropout_rate': 0.1, 'learning_rate': 0.01}\n",
    "#0.737500011920929,0.012030043482324624 with: {'dropout_rate': 0.1, 'learning_rate': 0.1}\n",
    "#0.7493333339691162,0.013878427278865096 with: {'dropout_rate': 0.2, 'learning_rate': 0.001}\n",
    "#0.7465000033378602,0.009089056801615689 with: {'dropout_rate': 0.2, 'learning_rate': 0.01}\n",
    "#0.740500009059906,0.011050379097694402 with: {'dropout_rate': 0.2, 'learning_rate': 0.1}"
   ]
  },
  {
   "cell_type": "markdown",
   "id": "bef54ba8",
   "metadata": {},
   "source": [
    "# Tuning of Hyperparameters:- Activation Function and Kernel Initializer"
   ]
  },
  {
   "cell_type": "code",
   "execution_count": 192,
   "id": "6e99105a",
   "metadata": {},
   "outputs": [],
   "source": [
    "#OUTPUT\n",
    "\n",
    "#Best : 0.7490000009536744, using {'activation_function': 'relu', 'init': 'uniform'}\n",
    "\n",
    "#0.7490000009536744,0.009907899849549272 with: {'activation_function': 'relu', 'init': 'uniform'}\n",
    "#0.7473333358764649,0.011418784532161842 with: {'activation_function': 'relu', 'init': 'normal'}\n",
    "#0.5144999861717224,0.003188518037474172 with: {'activation_function': 'relu', 'init': 'zero'}\n",
    "#0.7453333377838135,0.009213507854029319 with: {'activation_function': 'tanh', 'init': 'uniform'}\n",
    "#0.7438333392143249,0.008621669881978735 with: {'activation_function': 'tanh', 'init': 'normal'}\n",
    "#0.5144999861717224,0.003188518037474172 with: {'activation_function': 'tanh', 'init': 'zero'}\n",
    "#0.7443333387374877,0.009389701725942936 with: {'activation_function': 'linear', 'init': 'uniform'}\n",
    "#0.7453333377838135,0.0090921124604015 with: {'activation_function': 'linear', 'init': 'normal'}\n",
    "#0.5144999861717224,0.003188518037474172 with: {'activation_function': 'linear', 'init': 'zero'}"
   ]
  },
  {
   "cell_type": "markdown",
   "id": "c741bbd5",
   "metadata": {},
   "source": [
    "# Tuning of Hyperparameter :-Number of Neurons in activation layer"
   ]
  },
  {
   "cell_type": "code",
   "execution_count": 193,
   "id": "5177fe99",
   "metadata": {},
   "outputs": [],
   "source": [
    "#OUTPUT\n",
    "\n",
    "#Best : 0.7455000042915344, using {'neuron1': 8, 'neuron2': 8}\n",
    "\n",
    "#0.7446666717529297,0.009228569998879508 with: {'neuron1': 4, 'neuron2': 2}\n",
    "#0.7446666717529297,0.009436916111508273 with: {'neuron1': 4, 'neuron2': 4}\n",
    "#0.7450000047683716,0.008547246118675184 with: {'neuron1': 4, 'neuron2': 8}\n",
    "#0.7440000057220459,0.010033268393715438 with: {'neuron1': 8, 'neuron2': 2}\n",
    "#0.7448333382606507,0.00985166840879567 with: {'neuron1': 8, 'neuron2': 4}\n",
    "#0.7455000042915344,0.009015410293092233 with: {'neuron1': 8, 'neuron2': 8}\n",
    "#0.7451666712760925,0.009315450191074015 with: {'neuron1': 16, 'neuron2': 2}\n",
    "#0.7451666712760925,0.009315450191074015 with: {'neuron1': 16, 'neuron2': 4}\n",
    "#0.7446666717529297,0.009582961868610042 with: {'neuron1': 16, 'neuron2': 8}"
   ]
  },
  {
   "cell_type": "markdown",
   "id": "75a8de89",
   "metadata": {},
   "source": [
    "# ANN "
   ]
  },
  {
   "cell_type": "code",
   "execution_count": 197,
   "id": "0f500042",
   "metadata": {},
   "outputs": [],
   "source": [
    "from keras.models import Sequential\n",
    "from keras.layers import Dense"
   ]
  },
  {
   "cell_type": "code",
   "execution_count": 198,
   "id": "57a13800",
   "metadata": {
    "scrolled": true
   },
   "outputs": [
    {
     "data": {
      "text/html": [
       "<div>\n",
       "<style scoped>\n",
       "    .dataframe tbody tr th:only-of-type {\n",
       "        vertical-align: middle;\n",
       "    }\n",
       "\n",
       "    .dataframe tbody tr th {\n",
       "        vertical-align: top;\n",
       "    }\n",
       "\n",
       "    .dataframe thead th {\n",
       "        text-align: right;\n",
       "    }\n",
       "</style>\n",
       "<table border=\"1\" class=\"dataframe\">\n",
       "  <thead>\n",
       "    <tr style=\"text-align: right;\">\n",
       "      <th></th>\n",
       "      <th>age</th>\n",
       "      <th>sysbp</th>\n",
       "      <th>diabp</th>\n",
       "      <th>chol</th>\n",
       "    </tr>\n",
       "  </thead>\n",
       "  <tbody>\n",
       "    <tr>\n",
       "      <th>0</th>\n",
       "      <td>77.196340</td>\n",
       "      <td>85.288742</td>\n",
       "      <td>80.021878</td>\n",
       "      <td>79.957109</td>\n",
       "    </tr>\n",
       "    <tr>\n",
       "      <th>1</th>\n",
       "      <td>63.529850</td>\n",
       "      <td>99.379736</td>\n",
       "      <td>84.852361</td>\n",
       "      <td>110.382411</td>\n",
       "    </tr>\n",
       "    <tr>\n",
       "      <th>2</th>\n",
       "      <td>69.003986</td>\n",
       "      <td>111.349455</td>\n",
       "      <td>109.850616</td>\n",
       "      <td>100.828246</td>\n",
       "    </tr>\n",
       "    <tr>\n",
       "      <th>3</th>\n",
       "      <td>82.638210</td>\n",
       "      <td>95.056128</td>\n",
       "      <td>79.666851</td>\n",
       "      <td>87.066303</td>\n",
       "    </tr>\n",
       "    <tr>\n",
       "      <th>4</th>\n",
       "      <td>78.346286</td>\n",
       "      <td>109.154591</td>\n",
       "      <td>90.713220</td>\n",
       "      <td>92.511770</td>\n",
       "    </tr>\n",
       "    <tr>\n",
       "      <th>...</th>\n",
       "      <td>...</td>\n",
       "      <td>...</td>\n",
       "      <td>...</td>\n",
       "      <td>...</td>\n",
       "    </tr>\n",
       "    <tr>\n",
       "      <th>5995</th>\n",
       "      <td>49.611850</td>\n",
       "      <td>94.857639</td>\n",
       "      <td>86.615671</td>\n",
       "      <td>107.643986</td>\n",
       "    </tr>\n",
       "    <tr>\n",
       "      <th>5996</th>\n",
       "      <td>63.099686</td>\n",
       "      <td>100.039527</td>\n",
       "      <td>93.515186</td>\n",
       "      <td>104.971404</td>\n",
       "    </tr>\n",
       "    <tr>\n",
       "      <th>5997</th>\n",
       "      <td>55.562243</td>\n",
       "      <td>98.421446</td>\n",
       "      <td>102.697875</td>\n",
       "      <td>120.875951</td>\n",
       "    </tr>\n",
       "    <tr>\n",
       "      <th>5998</th>\n",
       "      <td>63.468956</td>\n",
       "      <td>106.809289</td>\n",
       "      <td>88.060631</td>\n",
       "      <td>106.052213</td>\n",
       "    </tr>\n",
       "    <tr>\n",
       "      <th>5999</th>\n",
       "      <td>62.506825</td>\n",
       "      <td>96.900784</td>\n",
       "      <td>86.878033</td>\n",
       "      <td>108.625436</td>\n",
       "    </tr>\n",
       "  </tbody>\n",
       "</table>\n",
       "<p>6000 rows × 4 columns</p>\n",
       "</div>"
      ],
      "text/plain": [
       "            age       sysbp       diabp        chol\n",
       "0     77.196340   85.288742   80.021878   79.957109\n",
       "1     63.529850   99.379736   84.852361  110.382411\n",
       "2     69.003986  111.349455  109.850616  100.828246\n",
       "3     82.638210   95.056128   79.666851   87.066303\n",
       "4     78.346286  109.154591   90.713220   92.511770\n",
       "...         ...         ...         ...         ...\n",
       "5995  49.611850   94.857639   86.615671  107.643986\n",
       "5996  63.099686  100.039527   93.515186  104.971404\n",
       "5997  55.562243   98.421446  102.697875  120.875951\n",
       "5998  63.468956  106.809289   88.060631  106.052213\n",
       "5999  62.506825   96.900784   86.878033  108.625436\n",
       "\n",
       "[6000 rows x 4 columns]"
      ]
     },
     "execution_count": 198,
     "metadata": {},
     "output_type": "execute_result"
    }
   ],
   "source": [
    "ann_x1 = x1\n",
    "ann_x1"
   ]
  },
  {
   "cell_type": "code",
   "execution_count": 199,
   "id": "55588425",
   "metadata": {
    "scrolled": true
   },
   "outputs": [
    {
     "data": {
      "text/plain": [
       "0       1\n",
       "1       1\n",
       "2       1\n",
       "3       1\n",
       "4       1\n",
       "       ..\n",
       "5995    0\n",
       "5996    1\n",
       "5997    1\n",
       "5998    1\n",
       "5999    0\n",
       "Name: prog, Length: 6000, dtype: int32"
      ]
     },
     "execution_count": 199,
     "metadata": {},
     "output_type": "execute_result"
    }
   ],
   "source": [
    "ann_y1 = y1\n",
    "ann_y1"
   ]
  },
  {
   "cell_type": "code",
   "execution_count": 200,
   "id": "099db907",
   "metadata": {},
   "outputs": [],
   "source": [
    "# create model\n",
    "modelANN = Sequential()\n",
    "modelANN.add(Dense(12, input_dim=4, kernel_initializer='uniform', activation='relu'))\n",
    "modelANN.add(Dense(8, bias_initializer='uniform', activation='relu'))\n",
    "modelANN.add(Dense(1, kernel_initializer='uniform', activation='sigmoid'))"
   ]
  },
  {
   "cell_type": "code",
   "execution_count": 201,
   "id": "dd36db93",
   "metadata": {},
   "outputs": [],
   "source": [
    "# Compile model\n",
    "modelANN.compile(loss='binary_crossentropy', optimizer='adam', metrics=['accuracy'])"
   ]
  },
  {
   "cell_type": "code",
   "execution_count": 202,
   "id": "d61ec6ca",
   "metadata": {},
   "outputs": [
    {
     "name": "stdout",
     "output_type": "stream",
     "text": [
      "Epoch 1/150\n",
      "510/510 [==============================] - 1s 2ms/step - loss: 0.6891 - accuracy: 0.5273 - val_loss: 0.6857 - val_accuracy: 0.5233\n",
      "Epoch 2/150\n",
      "510/510 [==============================] - 1s 1ms/step - loss: 0.6835 - accuracy: 0.5551 - val_loss: 0.6780 - val_accuracy: 0.5311\n",
      "Epoch 3/150\n",
      "510/510 [==============================] - 1s 2ms/step - loss: 0.6777 - accuracy: 0.5573 - val_loss: 0.6794 - val_accuracy: 0.5344\n",
      "Epoch 4/150\n",
      "510/510 [==============================] - 1s 992us/step - loss: 0.6725 - accuracy: 0.5792 - val_loss: 0.6639 - val_accuracy: 0.6033\n",
      "Epoch 5/150\n",
      "510/510 [==============================] - 1s 1ms/step - loss: 0.6677 - accuracy: 0.5882 - val_loss: 0.6617 - val_accuracy: 0.5900\n",
      "Epoch 6/150\n",
      "510/510 [==============================] - 1s 2ms/step - loss: 0.6665 - accuracy: 0.5898 - val_loss: 0.6608 - val_accuracy: 0.6167\n",
      "Epoch 7/150\n",
      "510/510 [==============================] - 1s 2ms/step - loss: 0.6649 - accuracy: 0.5867 - val_loss: 0.6565 - val_accuracy: 0.6189\n",
      "Epoch 8/150\n",
      "510/510 [==============================] - 1s 1ms/step - loss: 0.6628 - accuracy: 0.5975 - val_loss: 0.6600 - val_accuracy: 0.5878\n",
      "Epoch 9/150\n",
      "510/510 [==============================] - 1s 1ms/step - loss: 0.6622 - accuracy: 0.5959 - val_loss: 0.6611 - val_accuracy: 0.6078\n",
      "Epoch 10/150\n",
      "510/510 [==============================] - 1s 1ms/step - loss: 0.6588 - accuracy: 0.6010 - val_loss: 0.6533 - val_accuracy: 0.6133\n",
      "Epoch 11/150\n",
      "510/510 [==============================] - 1s 2ms/step - loss: 0.6578 - accuracy: 0.6022 - val_loss: 0.6507 - val_accuracy: 0.6189\n",
      "Epoch 12/150\n",
      "510/510 [==============================] - 1s 2ms/step - loss: 0.6571 - accuracy: 0.6047 - val_loss: 0.6485 - val_accuracy: 0.6100\n",
      "Epoch 13/150\n",
      "510/510 [==============================] - 1s 2ms/step - loss: 0.6551 - accuracy: 0.6082 - val_loss: 0.6524 - val_accuracy: 0.5978\n",
      "Epoch 14/150\n",
      "510/510 [==============================] - 1s 2ms/step - loss: 0.6530 - accuracy: 0.6151 - val_loss: 0.6493 - val_accuracy: 0.6089\n",
      "Epoch 15/150\n",
      "510/510 [==============================] - 1s 1ms/step - loss: 0.6501 - accuracy: 0.6159 - val_loss: 0.6446 - val_accuracy: 0.6156\n",
      "Epoch 16/150\n",
      "510/510 [==============================] - 1s 1ms/step - loss: 0.6483 - accuracy: 0.6173 - val_loss: 0.6411 - val_accuracy: 0.6211\n",
      "Epoch 17/150\n",
      "510/510 [==============================] - 1s 1ms/step - loss: 0.6456 - accuracy: 0.6225 - val_loss: 0.6421 - val_accuracy: 0.6244\n",
      "Epoch 18/150\n",
      "510/510 [==============================] - 1s 1ms/step - loss: 0.6438 - accuracy: 0.6194 - val_loss: 0.6357 - val_accuracy: 0.6356\n",
      "Epoch 19/150\n",
      "510/510 [==============================] - 1s 1ms/step - loss: 0.6390 - accuracy: 0.6337 - val_loss: 0.6338 - val_accuracy: 0.6511\n",
      "Epoch 20/150\n",
      "510/510 [==============================] - 1s 1ms/step - loss: 0.6384 - accuracy: 0.6422 - val_loss: 0.6475 - val_accuracy: 0.6367\n",
      "Epoch 21/150\n",
      "510/510 [==============================] - 1s 1ms/step - loss: 0.6349 - accuracy: 0.6380 - val_loss: 0.6300 - val_accuracy: 0.6567\n",
      "Epoch 22/150\n",
      "510/510 [==============================] - 1s 1ms/step - loss: 0.6324 - accuracy: 0.6451 - val_loss: 0.6220 - val_accuracy: 0.6544\n",
      "Epoch 23/150\n",
      "510/510 [==============================] - 1s 1ms/step - loss: 0.6273 - accuracy: 0.6569 - val_loss: 0.6193 - val_accuracy: 0.6589\n",
      "Epoch 24/150\n",
      "510/510 [==============================] - 1s 1ms/step - loss: 0.6256 - accuracy: 0.6512 - val_loss: 0.6232 - val_accuracy: 0.6467\n",
      "Epoch 25/150\n",
      "510/510 [==============================] - 1s 1ms/step - loss: 0.6228 - accuracy: 0.6612 - val_loss: 0.6169 - val_accuracy: 0.6800\n",
      "Epoch 26/150\n",
      "510/510 [==============================] - 1s 2ms/step - loss: 0.6191 - accuracy: 0.6588 - val_loss: 0.6165 - val_accuracy: 0.6922\n",
      "Epoch 27/150\n",
      "510/510 [==============================] - 1s 1ms/step - loss: 0.6158 - accuracy: 0.6694 - val_loss: 0.6137 - val_accuracy: 0.6644\n",
      "Epoch 28/150\n",
      "510/510 [==============================] - 1s 1ms/step - loss: 0.6123 - accuracy: 0.6686 - val_loss: 0.6086 - val_accuracy: 0.6733\n",
      "Epoch 29/150\n",
      "510/510 [==============================] - 1s 1ms/step - loss: 0.6077 - accuracy: 0.6808 - val_loss: 0.6048 - val_accuracy: 0.6667\n",
      "Epoch 30/150\n",
      "510/510 [==============================] - 1s 1ms/step - loss: 0.6067 - accuracy: 0.6757 - val_loss: 0.6027 - val_accuracy: 0.6678\n",
      "Epoch 31/150\n",
      "510/510 [==============================] - 1s 1ms/step - loss: 0.6063 - accuracy: 0.6763 - val_loss: 0.6083 - val_accuracy: 0.7011\n",
      "Epoch 32/150\n",
      "510/510 [==============================] - 1s 1ms/step - loss: 0.6005 - accuracy: 0.6925 - val_loss: 0.5897 - val_accuracy: 0.7056\n",
      "Epoch 33/150\n",
      "510/510 [==============================] - 1s 1ms/step - loss: 0.5980 - accuracy: 0.6816 - val_loss: 0.5874 - val_accuracy: 0.7133\n",
      "Epoch 34/150\n",
      "510/510 [==============================] - 1s 1ms/step - loss: 0.5944 - accuracy: 0.6975 - val_loss: 0.5865 - val_accuracy: 0.6978\n",
      "Epoch 35/150\n",
      "510/510 [==============================] - 1s 1ms/step - loss: 0.5886 - accuracy: 0.6996 - val_loss: 0.6030 - val_accuracy: 0.6656\n",
      "Epoch 36/150\n",
      "510/510 [==============================] - 1s 1ms/step - loss: 0.5863 - accuracy: 0.7010 - val_loss: 0.5808 - val_accuracy: 0.7111\n",
      "Epoch 37/150\n",
      "510/510 [==============================] - 1s 1ms/step - loss: 0.5839 - accuracy: 0.7010 - val_loss: 0.5705 - val_accuracy: 0.7067\n",
      "Epoch 38/150\n",
      "510/510 [==============================] - 1s 1ms/step - loss: 0.5834 - accuracy: 0.6867 - val_loss: 0.5993 - val_accuracy: 0.6878\n",
      "Epoch 39/150\n",
      "510/510 [==============================] - 1s 1ms/step - loss: 0.5825 - accuracy: 0.7014 - val_loss: 0.5655 - val_accuracy: 0.7078\n",
      "Epoch 40/150\n",
      "510/510 [==============================] - 1s 1ms/step - loss: 0.5743 - accuracy: 0.7100 - val_loss: 0.5922 - val_accuracy: 0.6822\n",
      "Epoch 41/150\n",
      "510/510 [==============================] - 1s 1ms/step - loss: 0.5730 - accuracy: 0.7084 - val_loss: 0.5932 - val_accuracy: 0.6833\n",
      "Epoch 42/150\n",
      "510/510 [==============================] - 1s 1ms/step - loss: 0.5699 - accuracy: 0.7190 - val_loss: 0.5598 - val_accuracy: 0.7256\n",
      "Epoch 43/150\n",
      "510/510 [==============================] - 1s 1ms/step - loss: 0.5649 - accuracy: 0.7173 - val_loss: 0.5698 - val_accuracy: 0.7056\n",
      "Epoch 44/150\n",
      "510/510 [==============================] - 1s 1ms/step - loss: 0.5683 - accuracy: 0.7100 - val_loss: 0.5588 - val_accuracy: 0.7400\n",
      "Epoch 45/150\n",
      "510/510 [==============================] - 1s 1ms/step - loss: 0.5639 - accuracy: 0.7116 - val_loss: 0.5549 - val_accuracy: 0.7344\n",
      "Epoch 46/150\n",
      "510/510 [==============================] - 1s 1ms/step - loss: 0.5614 - accuracy: 0.7210 - val_loss: 0.5720 - val_accuracy: 0.6989\n",
      "Epoch 47/150\n",
      "510/510 [==============================] - 1s 1ms/step - loss: 0.5581 - accuracy: 0.7176 - val_loss: 0.5449 - val_accuracy: 0.7378\n",
      "Epoch 48/150\n",
      "510/510 [==============================] - 1s 2ms/step - loss: 0.5578 - accuracy: 0.7169 - val_loss: 0.5522 - val_accuracy: 0.7233\n",
      "Epoch 49/150\n",
      "510/510 [==============================] - 1s 2ms/step - loss: 0.5513 - accuracy: 0.7276 - val_loss: 0.5462 - val_accuracy: 0.7322\n",
      "Epoch 50/150\n",
      "510/510 [==============================] - 1s 1ms/step - loss: 0.5506 - accuracy: 0.7231 - val_loss: 0.5543 - val_accuracy: 0.7244\n",
      "Epoch 51/150\n",
      "510/510 [==============================] - 1s 1ms/step - loss: 0.5535 - accuracy: 0.7200 - val_loss: 0.5442 - val_accuracy: 0.7333\n",
      "Epoch 52/150\n",
      "510/510 [==============================] - 1s 2ms/step - loss: 0.5486 - accuracy: 0.7220 - val_loss: 0.5632 - val_accuracy: 0.7156\n",
      "Epoch 53/150\n",
      "510/510 [==============================] - 1s 2ms/step - loss: 0.5450 - accuracy: 0.7233 - val_loss: 0.5333 - val_accuracy: 0.7367\n",
      "Epoch 54/150\n",
      "510/510 [==============================] - 1s 1ms/step - loss: 0.5520 - accuracy: 0.7186 - val_loss: 0.5418 - val_accuracy: 0.7311\n",
      "Epoch 55/150\n",
      "510/510 [==============================] - 1s 1ms/step - loss: 0.5462 - accuracy: 0.7241 - val_loss: 0.5642 - val_accuracy: 0.7022\n",
      "Epoch 56/150\n",
      "510/510 [==============================] - 1s 2ms/step - loss: 0.5470 - accuracy: 0.7255 - val_loss: 0.5385 - val_accuracy: 0.7233\n",
      "Epoch 57/150\n",
      "510/510 [==============================] - 1s 2ms/step - loss: 0.5454 - accuracy: 0.7292 - val_loss: 0.5377 - val_accuracy: 0.7222\n",
      "Epoch 58/150\n",
      "510/510 [==============================] - 1s 1ms/step - loss: 0.5414 - accuracy: 0.7280 - val_loss: 0.5303 - val_accuracy: 0.7411\n",
      "Epoch 59/150\n",
      "510/510 [==============================] - 1s 1ms/step - loss: 0.5424 - accuracy: 0.7280 - val_loss: 0.5381 - val_accuracy: 0.7367\n",
      "Epoch 60/150\n",
      "510/510 [==============================] - 1s 2ms/step - loss: 0.5424 - accuracy: 0.7335 - val_loss: 0.5392 - val_accuracy: 0.7367\n",
      "Epoch 61/150\n",
      "510/510 [==============================] - 1s 2ms/step - loss: 0.5423 - accuracy: 0.7241 - val_loss: 0.5248 - val_accuracy: 0.7378\n",
      "Epoch 62/150\n",
      "510/510 [==============================] - 1s 1ms/step - loss: 0.5409 - accuracy: 0.7320 - val_loss: 0.5258 - val_accuracy: 0.7289\n",
      "Epoch 63/150\n",
      "510/510 [==============================] - 1s 1ms/step - loss: 0.5355 - accuracy: 0.7324 - val_loss: 0.5823 - val_accuracy: 0.6911\n",
      "Epoch 64/150\n",
      "510/510 [==============================] - 1s 2ms/step - loss: 0.5400 - accuracy: 0.7257 - val_loss: 0.5252 - val_accuracy: 0.7278\n",
      "Epoch 65/150\n",
      "510/510 [==============================] - 1s 2ms/step - loss: 0.5348 - accuracy: 0.7339 - val_loss: 0.5293 - val_accuracy: 0.7389\n",
      "Epoch 66/150\n",
      "510/510 [==============================] - 1s 1ms/step - loss: 0.5347 - accuracy: 0.7382 - val_loss: 0.5258 - val_accuracy: 0.7400\n",
      "Epoch 67/150\n",
      "510/510 [==============================] - 1s 1ms/step - loss: 0.5334 - accuracy: 0.7318 - val_loss: 0.5821 - val_accuracy: 0.6756\n",
      "Epoch 68/150\n",
      "510/510 [==============================] - 0s 886us/step - loss: 0.5308 - accuracy: 0.7316 - val_loss: 0.5285 - val_accuracy: 0.7356\n",
      "Epoch 69/150\n",
      "510/510 [==============================] - 1s 1ms/step - loss: 0.5348 - accuracy: 0.7318 - val_loss: 0.5241 - val_accuracy: 0.7422\n",
      "Epoch 70/150\n",
      "510/510 [==============================] - 1s 1ms/step - loss: 0.5329 - accuracy: 0.7310 - val_loss: 0.5530 - val_accuracy: 0.7200\n",
      "Epoch 71/150\n",
      "510/510 [==============================] - 1s 1ms/step - loss: 0.5329 - accuracy: 0.7335 - val_loss: 0.5189 - val_accuracy: 0.7478\n",
      "Epoch 72/150\n",
      "510/510 [==============================] - 1s 1ms/step - loss: 0.5285 - accuracy: 0.7359 - val_loss: 0.5298 - val_accuracy: 0.7300\n",
      "Epoch 73/150\n",
      "510/510 [==============================] - 0s 949us/step - loss: 0.5363 - accuracy: 0.7284 - val_loss: 0.5193 - val_accuracy: 0.7444\n",
      "Epoch 74/150\n",
      "510/510 [==============================] - 1s 1ms/step - loss: 0.5298 - accuracy: 0.7384 - val_loss: 0.5189 - val_accuracy: 0.7367\n",
      "Epoch 75/150\n",
      "510/510 [==============================] - 1s 1ms/step - loss: 0.5329 - accuracy: 0.7284 - val_loss: 0.5401 - val_accuracy: 0.7211\n",
      "Epoch 76/150\n",
      "510/510 [==============================] - 1s 2ms/step - loss: 0.5319 - accuracy: 0.7382 - val_loss: 0.5236 - val_accuracy: 0.7400\n",
      "Epoch 77/150\n",
      "510/510 [==============================] - 1s 2ms/step - loss: 0.5294 - accuracy: 0.7376 - val_loss: 0.5187 - val_accuracy: 0.7400\n",
      "Epoch 78/150\n",
      "510/510 [==============================] - 1s 2ms/step - loss: 0.5261 - accuracy: 0.7373 - val_loss: 0.5377 - val_accuracy: 0.7222\n",
      "Epoch 79/150\n",
      "510/510 [==============================] - 1s 2ms/step - loss: 0.5275 - accuracy: 0.7351 - val_loss: 0.5167 - val_accuracy: 0.7444\n",
      "Epoch 80/150\n",
      "510/510 [==============================] - 1s 2ms/step - loss: 0.5306 - accuracy: 0.7376 - val_loss: 0.5185 - val_accuracy: 0.7422\n",
      "Epoch 81/150\n",
      "510/510 [==============================] - 1s 2ms/step - loss: 0.5275 - accuracy: 0.7371 - val_loss: 0.5267 - val_accuracy: 0.7322\n",
      "Epoch 82/150\n",
      "510/510 [==============================] - 1s 2ms/step - loss: 0.5297 - accuracy: 0.7361 - val_loss: 0.5178 - val_accuracy: 0.7356\n",
      "Epoch 83/150\n",
      "510/510 [==============================] - 1s 2ms/step - loss: 0.5309 - accuracy: 0.7304 - val_loss: 0.5213 - val_accuracy: 0.7356\n",
      "Epoch 84/150\n",
      "510/510 [==============================] - 1s 1ms/step - loss: 0.5267 - accuracy: 0.7420 - val_loss: 0.5155 - val_accuracy: 0.7389\n",
      "Epoch 85/150\n",
      "510/510 [==============================] - 1s 1ms/step - loss: 0.5294 - accuracy: 0.7365 - val_loss: 0.5239 - val_accuracy: 0.7389\n",
      "Epoch 86/150\n",
      "510/510 [==============================] - 1s 1ms/step - loss: 0.5298 - accuracy: 0.7324 - val_loss: 0.5855 - val_accuracy: 0.7011\n",
      "Epoch 87/150\n",
      "510/510 [==============================] - 1s 1ms/step - loss: 0.5301 - accuracy: 0.7361 - val_loss: 0.5131 - val_accuracy: 0.7411\n",
      "Epoch 88/150\n",
      "510/510 [==============================] - 1s 1ms/step - loss: 0.5228 - accuracy: 0.7471 - val_loss: 0.5236 - val_accuracy: 0.7456\n",
      "Epoch 89/150\n",
      "510/510 [==============================] - 1s 2ms/step - loss: 0.5265 - accuracy: 0.7386 - val_loss: 0.5143 - val_accuracy: 0.7411\n",
      "Epoch 90/150\n",
      "510/510 [==============================] - 1s 1ms/step - loss: 0.5356 - accuracy: 0.7327 - val_loss: 0.5750 - val_accuracy: 0.7033\n",
      "Epoch 91/150\n",
      "510/510 [==============================] - 1s 1ms/step - loss: 0.5255 - accuracy: 0.7396 - val_loss: 0.5177 - val_accuracy: 0.7389\n",
      "Epoch 92/150\n",
      "510/510 [==============================] - 1s 2ms/step - loss: 0.5246 - accuracy: 0.7373 - val_loss: 0.5215 - val_accuracy: 0.7389\n",
      "Epoch 93/150\n",
      "510/510 [==============================] - 1s 2ms/step - loss: 0.5300 - accuracy: 0.7378 - val_loss: 0.5720 - val_accuracy: 0.7089\n",
      "Epoch 94/150\n",
      "510/510 [==============================] - 1s 2ms/step - loss: 0.5280 - accuracy: 0.7325 - val_loss: 0.5336 - val_accuracy: 0.7300\n",
      "Epoch 95/150\n",
      "510/510 [==============================] - 1s 1ms/step - loss: 0.5240 - accuracy: 0.7402 - val_loss: 0.5214 - val_accuracy: 0.7333\n",
      "Epoch 96/150\n",
      "510/510 [==============================] - 1s 1ms/step - loss: 0.5244 - accuracy: 0.7318 - val_loss: 0.5629 - val_accuracy: 0.7156\n",
      "Epoch 97/150\n",
      "510/510 [==============================] - 1s 1ms/step - loss: 0.5271 - accuracy: 0.7361 - val_loss: 0.5135 - val_accuracy: 0.7444\n",
      "Epoch 98/150\n",
      "510/510 [==============================] - 1s 1ms/step - loss: 0.5260 - accuracy: 0.7375 - val_loss: 0.5164 - val_accuracy: 0.7344\n",
      "Epoch 99/150\n",
      "510/510 [==============================] - 1s 1ms/step - loss: 0.5240 - accuracy: 0.7376 - val_loss: 0.5234 - val_accuracy: 0.7289\n",
      "Epoch 100/150\n",
      "510/510 [==============================] - 1s 1ms/step - loss: 0.5249 - accuracy: 0.7422 - val_loss: 0.5178 - val_accuracy: 0.7422\n",
      "Epoch 101/150\n",
      "510/510 [==============================] - 1s 1ms/step - loss: 0.5253 - accuracy: 0.7349 - val_loss: 0.5122 - val_accuracy: 0.7400\n",
      "Epoch 102/150\n",
      "510/510 [==============================] - 1s 1ms/step - loss: 0.5250 - accuracy: 0.7367 - val_loss: 0.5239 - val_accuracy: 0.7311\n",
      "Epoch 103/150\n",
      "510/510 [==============================] - 1s 1ms/step - loss: 0.5247 - accuracy: 0.7433 - val_loss: 0.5194 - val_accuracy: 0.7356\n",
      "Epoch 104/150\n",
      "510/510 [==============================] - 1s 1ms/step - loss: 0.5250 - accuracy: 0.7418 - val_loss: 0.5673 - val_accuracy: 0.7011\n",
      "Epoch 105/150\n",
      "510/510 [==============================] - 1s 1ms/step - loss: 0.5328 - accuracy: 0.7349 - val_loss: 0.5204 - val_accuracy: 0.7367\n",
      "Epoch 106/150\n",
      "510/510 [==============================] - 1s 1ms/step - loss: 0.5230 - accuracy: 0.7396 - val_loss: 0.5201 - val_accuracy: 0.7267\n",
      "Epoch 107/150\n",
      "510/510 [==============================] - 1s 1ms/step - loss: 0.5253 - accuracy: 0.7371 - val_loss: 0.5124 - val_accuracy: 0.7411\n",
      "Epoch 108/150\n",
      "510/510 [==============================] - 1s 1ms/step - loss: 0.5281 - accuracy: 0.7329 - val_loss: 0.5442 - val_accuracy: 0.7233\n",
      "Epoch 109/150\n",
      "510/510 [==============================] - 1s 1ms/step - loss: 0.5239 - accuracy: 0.7361 - val_loss: 0.5114 - val_accuracy: 0.7433\n",
      "Epoch 110/150\n",
      "510/510 [==============================] - 1s 1ms/step - loss: 0.5267 - accuracy: 0.7322 - val_loss: 0.5142 - val_accuracy: 0.7389\n",
      "Epoch 111/150\n",
      "510/510 [==============================] - 1s 2ms/step - loss: 0.5239 - accuracy: 0.7375 - val_loss: 0.5223 - val_accuracy: 0.7311\n",
      "Epoch 112/150\n",
      "510/510 [==============================] - 1s 2ms/step - loss: 0.5248 - accuracy: 0.7412 - val_loss: 0.5135 - val_accuracy: 0.7456\n",
      "Epoch 113/150\n",
      "510/510 [==============================] - 1s 1ms/step - loss: 0.5249 - accuracy: 0.7412 - val_loss: 0.5185 - val_accuracy: 0.7400\n",
      "Epoch 114/150\n",
      "510/510 [==============================] - 1s 2ms/step - loss: 0.5241 - accuracy: 0.7410 - val_loss: 0.5118 - val_accuracy: 0.7456\n",
      "Epoch 115/150\n",
      "510/510 [==============================] - 1s 2ms/step - loss: 0.5331 - accuracy: 0.7290 - val_loss: 0.5281 - val_accuracy: 0.7389\n",
      "Epoch 116/150\n",
      "510/510 [==============================] - 1s 2ms/step - loss: 0.5257 - accuracy: 0.7373 - val_loss: 0.5268 - val_accuracy: 0.7367\n",
      "Epoch 117/150\n",
      "510/510 [==============================] - 1s 1ms/step - loss: 0.5249 - accuracy: 0.7378 - val_loss: 0.5589 - val_accuracy: 0.7167\n",
      "Epoch 118/150\n",
      "510/510 [==============================] - 1s 1ms/step - loss: 0.5242 - accuracy: 0.7353 - val_loss: 0.5721 - val_accuracy: 0.7100\n",
      "Epoch 119/150\n",
      "510/510 [==============================] - 1s 1ms/step - loss: 0.5235 - accuracy: 0.7437 - val_loss: 0.5162 - val_accuracy: 0.7400\n",
      "Epoch 120/150\n",
      "510/510 [==============================] - 1s 1ms/step - loss: 0.5273 - accuracy: 0.7357 - val_loss: 0.5142 - val_accuracy: 0.7456\n",
      "Epoch 121/150\n",
      "510/510 [==============================] - 1s 1ms/step - loss: 0.5241 - accuracy: 0.7384 - val_loss: 0.5157 - val_accuracy: 0.7411\n",
      "Epoch 122/150\n",
      "510/510 [==============================] - 1s 1ms/step - loss: 0.5218 - accuracy: 0.7388 - val_loss: 0.5308 - val_accuracy: 0.7267\n",
      "Epoch 123/150\n",
      "510/510 [==============================] - 1s 2ms/step - loss: 0.5229 - accuracy: 0.7437 - val_loss: 0.5456 - val_accuracy: 0.7256\n",
      "Epoch 124/150\n",
      "510/510 [==============================] - 1s 2ms/step - loss: 0.5291 - accuracy: 0.7349 - val_loss: 0.5130 - val_accuracy: 0.7344\n",
      "Epoch 125/150\n",
      "510/510 [==============================] - 1s 2ms/step - loss: 0.5254 - accuracy: 0.7318 - val_loss: 0.5342 - val_accuracy: 0.7333\n",
      "Epoch 126/150\n",
      "510/510 [==============================] - 1s 1ms/step - loss: 0.5285 - accuracy: 0.7327 - val_loss: 0.5244 - val_accuracy: 0.7378\n",
      "Epoch 127/150\n",
      "510/510 [==============================] - 1s 2ms/step - loss: 0.5249 - accuracy: 0.7341 - val_loss: 0.5221 - val_accuracy: 0.7311\n",
      "Epoch 128/150\n",
      "510/510 [==============================] - 1s 1ms/step - loss: 0.5240 - accuracy: 0.7361 - val_loss: 0.5204 - val_accuracy: 0.7411\n",
      "Epoch 129/150\n",
      "510/510 [==============================] - 1s 1ms/step - loss: 0.5264 - accuracy: 0.7333 - val_loss: 0.5579 - val_accuracy: 0.7200\n",
      "Epoch 130/150\n",
      "510/510 [==============================] - 1s 1ms/step - loss: 0.5287 - accuracy: 0.7388 - val_loss: 0.5150 - val_accuracy: 0.7378\n",
      "Epoch 131/150\n",
      "510/510 [==============================] - 1s 1ms/step - loss: 0.5271 - accuracy: 0.7380 - val_loss: 0.5118 - val_accuracy: 0.7422\n",
      "Epoch 132/150\n",
      "510/510 [==============================] - 1s 1ms/step - loss: 0.5253 - accuracy: 0.7408 - val_loss: 0.5575 - val_accuracy: 0.7189\n",
      "Epoch 133/150\n",
      "510/510 [==============================] - 1s 1ms/step - loss: 0.5223 - accuracy: 0.7398 - val_loss: 0.5133 - val_accuracy: 0.7489\n",
      "Epoch 134/150\n",
      "510/510 [==============================] - 1s 977us/step - loss: 0.5234 - accuracy: 0.7353 - val_loss: 0.5532 - val_accuracy: 0.7111\n",
      "Epoch 135/150\n",
      "510/510 [==============================] - 1s 1ms/step - loss: 0.5228 - accuracy: 0.7380 - val_loss: 0.5250 - val_accuracy: 0.7311\n",
      "Epoch 136/150\n",
      "510/510 [==============================] - 1s 1ms/step - loss: 0.5203 - accuracy: 0.7386 - val_loss: 0.5125 - val_accuracy: 0.7456\n",
      "Epoch 137/150\n",
      "510/510 [==============================] - 1s 1ms/step - loss: 0.5238 - accuracy: 0.7345 - val_loss: 0.5344 - val_accuracy: 0.7267\n",
      "Epoch 138/150\n",
      "510/510 [==============================] - 1s 1ms/step - loss: 0.5232 - accuracy: 0.7422 - val_loss: 0.5241 - val_accuracy: 0.7411\n",
      "Epoch 139/150\n",
      "510/510 [==============================] - 1s 1ms/step - loss: 0.5295 - accuracy: 0.7343 - val_loss: 0.5223 - val_accuracy: 0.7411\n",
      "Epoch 140/150\n",
      "510/510 [==============================] - 1s 2ms/step - loss: 0.5237 - accuracy: 0.7375 - val_loss: 0.5154 - val_accuracy: 0.7422\n",
      "Epoch 141/150\n",
      "510/510 [==============================] - 1s 1ms/step - loss: 0.5212 - accuracy: 0.7439 - val_loss: 0.5544 - val_accuracy: 0.7167\n",
      "Epoch 142/150\n",
      "510/510 [==============================] - 1s 1ms/step - loss: 0.5236 - accuracy: 0.7376 - val_loss: 0.5499 - val_accuracy: 0.7144\n",
      "Epoch 143/150\n",
      "510/510 [==============================] - 1s 1ms/step - loss: 0.5276 - accuracy: 0.7373 - val_loss: 0.5190 - val_accuracy: 0.7411\n",
      "Epoch 144/150\n",
      "510/510 [==============================] - 1s 2ms/step - loss: 0.5200 - accuracy: 0.7322 - val_loss: 0.5129 - val_accuracy: 0.7467\n",
      "Epoch 145/150\n",
      "510/510 [==============================] - 1s 1ms/step - loss: 0.5230 - accuracy: 0.7388 - val_loss: 0.5198 - val_accuracy: 0.7389\n",
      "Epoch 146/150\n",
      "510/510 [==============================] - 1s 1ms/step - loss: 0.5230 - accuracy: 0.7349 - val_loss: 0.5162 - val_accuracy: 0.7333\n",
      "Epoch 147/150\n",
      "510/510 [==============================] - 1s 1ms/step - loss: 0.5273 - accuracy: 0.7355 - val_loss: 0.5130 - val_accuracy: 0.7444\n",
      "Epoch 148/150\n",
      "510/510 [==============================] - 1s 1ms/step - loss: 0.5207 - accuracy: 0.7447 - val_loss: 0.5235 - val_accuracy: 0.7356\n",
      "Epoch 149/150\n",
      "510/510 [==============================] - 1s 1ms/step - loss: 0.5194 - accuracy: 0.7496 - val_loss: 0.5141 - val_accuracy: 0.7344\n",
      "Epoch 150/150\n",
      "510/510 [==============================] - 1s 1ms/step - loss: 0.5225 - accuracy: 0.7422 - val_loss: 0.5127 - val_accuracy: 0.7433\n"
     ]
    },
    {
     "data": {
      "text/plain": [
       "<keras.callbacks.History at 0x1b5c4f5cf40>"
      ]
     },
     "execution_count": 202,
     "metadata": {},
     "output_type": "execute_result"
    }
   ],
   "source": [
    "# Fit the model\n",
    "modelANN.fit(ann_x1,ann_y1, validation_split=0.15, epochs=150, batch_size=10)"
   ]
  },
  {
   "cell_type": "code",
   "execution_count": 203,
   "id": "a561019f",
   "metadata": {},
   "outputs": [
    {
     "name": "stdout",
     "output_type": "stream",
     "text": [
      "188/188 [==============================] - 0s 974us/step - loss: 0.5130 - accuracy: 0.7477\n",
      "accuracy: 74.77%\n"
     ]
    }
   ],
   "source": [
    "# evaluate the model\n",
    "scoresANN = modelANN.evaluate(ann_x1,ann_y1)\n",
    "print(\"%s: %.2f%%\" % (modelANN.metrics_names[1], scoresANN[1]*100))"
   ]
  },
  {
   "cell_type": "markdown",
   "id": "197f2cc7",
   "metadata": {},
   "source": [
    "# MODEL VALIDATION METHODS"
   ]
  },
  {
   "cell_type": "code",
   "execution_count": 204,
   "id": "37b80c4e",
   "metadata": {},
   "outputs": [],
   "source": [
    "from sklearn.linear_model import LogisticRegression\n",
    "modelval = LogisticRegression()\n",
    "modelval.fit(X_train, y_train)\n",
    "resultval = modelval.score(X_test, y_test)"
   ]
  },
  {
   "cell_type": "code",
   "execution_count": 205,
   "id": "5287d716",
   "metadata": {},
   "outputs": [
    {
     "data": {
      "text/plain": [
       "0.7526666666666667"
      ]
     },
     "execution_count": 205,
     "metadata": {},
     "output_type": "execute_result"
    }
   ],
   "source": [
    "resultval"
   ]
  },
  {
   "cell_type": "code",
   "execution_count": 206,
   "id": "e5014a63",
   "metadata": {},
   "outputs": [
    {
     "data": {
      "text/plain": [
       "75.26666666666667"
      ]
     },
     "execution_count": 206,
     "metadata": {},
     "output_type": "execute_result"
    }
   ],
   "source": [
    "resultval*100"
   ]
  },
  {
   "cell_type": "markdown",
   "id": "3d92b3fc",
   "metadata": {},
   "source": [
    "# Final Results of all the Models"
   ]
  },
  {
   "cell_type": "code",
   "execution_count": 2,
   "id": "0ff59338",
   "metadata": {},
   "outputs": [
    {
     "data": {
      "text/html": [
       "<div>\n",
       "<style scoped>\n",
       "    .dataframe tbody tr th:only-of-type {\n",
       "        vertical-align: middle;\n",
       "    }\n",
       "\n",
       "    .dataframe tbody tr th {\n",
       "        vertical-align: top;\n",
       "    }\n",
       "\n",
       "    .dataframe thead th {\n",
       "        text-align: right;\n",
       "    }\n",
       "</style>\n",
       "<table border=\"1\" class=\"dataframe\">\n",
       "  <thead>\n",
       "    <tr style=\"text-align: right;\">\n",
       "      <th></th>\n",
       "      <th>Model</th>\n",
       "      <th>Train_Accuracy</th>\n",
       "      <th>Test_Accuracy</th>\n",
       "    </tr>\n",
       "  </thead>\n",
       "  <tbody>\n",
       "    <tr>\n",
       "      <th>7</th>\n",
       "      <td>SVM</td>\n",
       "      <td>75.31</td>\n",
       "      <td>75.66</td>\n",
       "    </tr>\n",
       "    <tr>\n",
       "      <th>10</th>\n",
       "      <td>SVM RBF STD</td>\n",
       "      <td>75.24</td>\n",
       "      <td>75.66</td>\n",
       "    </tr>\n",
       "    <tr>\n",
       "      <th>18</th>\n",
       "      <td>XGBOOSTING</td>\n",
       "      <td>75.06</td>\n",
       "      <td>75.93</td>\n",
       "    </tr>\n",
       "    <tr>\n",
       "      <th>23</th>\n",
       "      <td>TofHy:learning rate and drop out rate</td>\n",
       "      <td>74.93</td>\n",
       "      <td>_</td>\n",
       "    </tr>\n",
       "    <tr>\n",
       "      <th>24</th>\n",
       "      <td>TofHy:Activation fxn &amp;kernel initializer</td>\n",
       "      <td>74.90</td>\n",
       "      <td>_</td>\n",
       "    </tr>\n",
       "    <tr>\n",
       "      <th>4</th>\n",
       "      <td>SVM RBF KERNEL</td>\n",
       "      <td>74.8</td>\n",
       "      <td>75.46</td>\n",
       "    </tr>\n",
       "    <tr>\n",
       "      <th>22</th>\n",
       "      <td>TofHy:batch size and epochs</td>\n",
       "      <td>74.71</td>\n",
       "      <td>_</td>\n",
       "    </tr>\n",
       "    <tr>\n",
       "      <th>17</th>\n",
       "      <td>STACKING ENSEMBLE</td>\n",
       "      <td>74.7</td>\n",
       "      <td>_</td>\n",
       "    </tr>\n",
       "    <tr>\n",
       "      <th>3</th>\n",
       "      <td>SVM POLY KERNEL</td>\n",
       "      <td>74.6</td>\n",
       "      <td>75.33</td>\n",
       "    </tr>\n",
       "    <tr>\n",
       "      <th>9</th>\n",
       "      <td>SVM POLY KERNEL WITH NORMALIZED VALUES</td>\n",
       "      <td>74.6</td>\n",
       "      <td>75.66</td>\n",
       "    </tr>\n",
       "    <tr>\n",
       "      <th>25</th>\n",
       "      <td>TofHy:No.of Neurons in activation layer</td>\n",
       "      <td>74.55</td>\n",
       "      <td>_</td>\n",
       "    </tr>\n",
       "    <tr>\n",
       "      <th>28</th>\n",
       "      <td>MODEL VALIDATION_LOGISTIC REGRESSION</td>\n",
       "      <td>74.46</td>\n",
       "      <td>_</td>\n",
       "    </tr>\n",
       "    <tr>\n",
       "      <th>26</th>\n",
       "      <td>ANN_CAPPED_DATA</td>\n",
       "      <td>74.33</td>\n",
       "      <td>_</td>\n",
       "    </tr>\n",
       "    <tr>\n",
       "      <th>8</th>\n",
       "      <td>SVM LINEAR KERNEL WITH NORMALIZED VALUES</td>\n",
       "      <td>74.13</td>\n",
       "      <td>75.53</td>\n",
       "    </tr>\n",
       "    <tr>\n",
       "      <th>2</th>\n",
       "      <td>SVM LINEAR KERNEL</td>\n",
       "      <td>74.11</td>\n",
       "      <td>75.4</td>\n",
       "    </tr>\n",
       "    <tr>\n",
       "      <th>6</th>\n",
       "      <td>SVM POLY KERNEL WITH STANDARDISED VALUES</td>\n",
       "      <td>74.08</td>\n",
       "      <td>74.06</td>\n",
       "    </tr>\n",
       "    <tr>\n",
       "      <th>5</th>\n",
       "      <td>SVM</td>\n",
       "      <td>74.08</td>\n",
       "      <td>75.4</td>\n",
       "    </tr>\n",
       "    <tr>\n",
       "      <th>0</th>\n",
       "      <td>Logistic Regression Model Accuracy</td>\n",
       "      <td>73.96</td>\n",
       "      <td>75.26</td>\n",
       "    </tr>\n",
       "    <tr>\n",
       "      <th>1</th>\n",
       "      <td>LOGISTIC REGRESSION WITH STANDARDISED VALUES</td>\n",
       "      <td>73.96</td>\n",
       "      <td>75.26</td>\n",
       "    </tr>\n",
       "    <tr>\n",
       "      <th>27</th>\n",
       "      <td>ANN_ORIGINAL_DATA</td>\n",
       "      <td>73.87</td>\n",
       "      <td>_</td>\n",
       "    </tr>\n",
       "    <tr>\n",
       "      <th>19</th>\n",
       "      <td>NAIVE BAYES C-OUT STANDARD VALUES</td>\n",
       "      <td>73.76</td>\n",
       "      <td>73.56</td>\n",
       "    </tr>\n",
       "    <tr>\n",
       "      <th>20</th>\n",
       "      <td>NAIVE BAYES WITH STANDARD VALUES</td>\n",
       "      <td>73.56</td>\n",
       "      <td>73.77</td>\n",
       "    </tr>\n",
       "    <tr>\n",
       "      <th>21</th>\n",
       "      <td>KNN</td>\n",
       "      <td>73.53</td>\n",
       "      <td>75.96</td>\n",
       "    </tr>\n",
       "    <tr>\n",
       "      <th>14</th>\n",
       "      <td>BAGGED DECISION TREE</td>\n",
       "      <td>73.116</td>\n",
       "      <td>_</td>\n",
       "    </tr>\n",
       "    <tr>\n",
       "      <th>12</th>\n",
       "      <td>DECISION TREE(GINI MODEL)</td>\n",
       "      <td>73.08</td>\n",
       "      <td>_</td>\n",
       "    </tr>\n",
       "    <tr>\n",
       "      <th>16</th>\n",
       "      <td>ADABOOST CLASSIFICATION</td>\n",
       "      <td>72.66</td>\n",
       "      <td>_</td>\n",
       "    </tr>\n",
       "    <tr>\n",
       "      <th>15</th>\n",
       "      <td>RANDOM FOREST CLASSIFICATION</td>\n",
       "      <td>72.61</td>\n",
       "      <td>_</td>\n",
       "    </tr>\n",
       "    <tr>\n",
       "      <th>13</th>\n",
       "      <td>DECISION TREE WITH STANDARDISED VALUES</td>\n",
       "      <td>71.91</td>\n",
       "      <td>73.08</td>\n",
       "    </tr>\n",
       "    <tr>\n",
       "      <th>11</th>\n",
       "      <td>DECISION TREE</td>\n",
       "      <td>71.91</td>\n",
       "      <td>73.04</td>\n",
       "    </tr>\n",
       "  </tbody>\n",
       "</table>\n",
       "</div>"
      ],
      "text/plain": [
       "                                           Model Train_Accuracy Test_Accuracy\n",
       "7                                            SVM          75.31         75.66\n",
       "10                                   SVM RBF STD          75.24         75.66\n",
       "18                                    XGBOOSTING          75.06         75.93\n",
       "23         TofHy:learning rate and drop out rate          74.93             _\n",
       "24      TofHy:Activation fxn &kernel initializer          74.90             _\n",
       "4                                 SVM RBF KERNEL           74.8         75.46\n",
       "22                   TofHy:batch size and epochs          74.71             _\n",
       "17                             STACKING ENSEMBLE           74.7             _\n",
       "3                                SVM POLY KERNEL           74.6         75.33\n",
       "9         SVM POLY KERNEL WITH NORMALIZED VALUES           74.6         75.66\n",
       "25       TofHy:No.of Neurons in activation layer          74.55             _\n",
       "28          MODEL VALIDATION_LOGISTIC REGRESSION          74.46             _\n",
       "26                               ANN_CAPPED_DATA          74.33             _\n",
       "8       SVM LINEAR KERNEL WITH NORMALIZED VALUES          74.13         75.53\n",
       "2                              SVM LINEAR KERNEL          74.11          75.4\n",
       "6       SVM POLY KERNEL WITH STANDARDISED VALUES          74.08         74.06\n",
       "5                                            SVM          74.08          75.4\n",
       "0             Logistic Regression Model Accuracy          73.96         75.26\n",
       "1   LOGISTIC REGRESSION WITH STANDARDISED VALUES          73.96         75.26\n",
       "27                             ANN_ORIGINAL_DATA          73.87             _\n",
       "19             NAIVE BAYES C-OUT STANDARD VALUES          73.76         73.56\n",
       "20              NAIVE BAYES WITH STANDARD VALUES          73.56         73.77\n",
       "21                                           KNN          73.53         75.96\n",
       "14                          BAGGED DECISION TREE         73.116             _\n",
       "12                     DECISION TREE(GINI MODEL)          73.08             _\n",
       "16                       ADABOOST CLASSIFICATION          72.66             _\n",
       "15                  RANDOM FOREST CLASSIFICATION          72.61             _\n",
       "13        DECISION TREE WITH STANDARDISED VALUES          71.91         73.08\n",
       "11                                 DECISION TREE          71.91         73.04"
      ]
     },
     "execution_count": 2,
     "metadata": {},
     "output_type": "execute_result"
    }
   ],
   "source": [
    "import pandas as pd\n",
    "\n",
    "data = {'Model':  ['Logistic Regression Model Accuracy', 'LOGISTIC REGRESSION WITH STANDARDISED VALUES','SVM LINEAR KERNEL','SVM POLY KERNEL','SVM RBF KERNEL','SVM','SVM POLY KERNEL WITH STANDARDISED VALUES','SVM','SVM LINEAR KERNEL WITH NORMALIZED VALUES','SVM POLY KERNEL WITH NORMALIZED VALUES','SVM RBF STD','DECISION TREE','DECISION TREE(GINI MODEL)','DECISION TREE WITH STANDARDISED VALUES','BAGGED DECISION TREE','RANDOM FOREST CLASSIFICATION','ADABOOST CLASSIFICATION','STACKING ENSEMBLE','XGBOOSTING','NAIVE BAYES C-OUT STANDARD VALUES','NAIVE BAYES WITH STANDARD VALUES','KNN','TofHy:batch size and epochs','TofHy:learning rate and drop out rate','TofHy:Activation fxn &kernel initializer','TofHy:No.of Neurons in activation layer','ANN_CAPPED_DATA','ANN_ORIGINAL_DATA','MODEL VALIDATION_LOGISTIC REGRESSION'],\n",
    "        'Train_Accuracy': ['73.96', '73.96','74.11','74.6','74.8','74.08','74.08','75.31','74.13','74.6','75.24','71.91','73.08','71.91','73.116','72.61','72.66','74.7','75.06','73.76','73.56','73.53','74.71','74.93','74.90','74.55','74.33','73.87','74.46'],\n",
    "        'Test_Accuracy': ['75.26', '75.26','75.4','75.33','75.46','75.4','74.06','75.66','75.53','75.66','75.66','73.04','_','73.08','_','_','_','_','75.93','73.56','73.77','75.96','_','_','_','_','_','_','_']}\n",
    "\n",
    "final_results = pd.DataFrame(data)\n",
    "\n",
    "final_results =final_results.sort_values(\"Train_Accuracy\", ascending=False)\n",
    "final_results"
   ]
  },
  {
   "cell_type": "code",
   "execution_count": null,
   "id": "ed55f2c1",
   "metadata": {},
   "outputs": [],
   "source": []
  }
 ],
 "metadata": {
  "kernelspec": {
   "display_name": "Python 3 (ipykernel)",
   "language": "python",
   "name": "python3"
  },
  "language_info": {
   "codemirror_mode": {
    "name": "ipython",
    "version": 3
   },
   "file_extension": ".py",
   "mimetype": "text/x-python",
   "name": "python",
   "nbconvert_exporter": "python",
   "pygments_lexer": "ipython3",
   "version": "3.9.12"
  }
 },
 "nbformat": 4,
 "nbformat_minor": 5
}
